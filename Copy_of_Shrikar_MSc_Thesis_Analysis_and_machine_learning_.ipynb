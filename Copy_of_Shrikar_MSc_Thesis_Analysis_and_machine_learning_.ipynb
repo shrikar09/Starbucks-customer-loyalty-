{
  "cells": [
    {
      "cell_type": "code",
      "execution_count": null,
      "id": "a9901444",
      "metadata": {
        "ExecuteTime": {
          "end_time": "2023-04-17T22:38:27.283991Z",
          "start_time": "2023-04-17T22:38:27.254484Z"
        },
        "id": "a9901444"
      },
      "outputs": [],
      "source": [
        "### Import Libraries"
      ]
    },
    {
      "cell_type": "code",
      "execution_count": null,
      "id": "6d79f314",
      "metadata": {
        "ExecuteTime": {
          "end_time": "2023-04-17T22:38:34.442214Z",
          "start_time": "2023-04-17T22:38:27.299838Z"
        },
        "id": "6d79f314"
      },
      "outputs": [],
      "source": [
        "import numpy as np\n",
        "import pandas as pd\n",
        "import matplotlib.pyplot as plt\n",
        "import seaborn as sns\n",
        "%matplotlib inline \n",
        "sns.set_style('darkgrid')"
      ]
    },
    {
      "cell_type": "code",
      "execution_count": null,
      "id": "9d2289d5",
      "metadata": {
        "ExecuteTime": {
          "end_time": "2023-04-17T22:38:34.472919Z",
          "start_time": "2023-04-17T22:38:34.458863Z"
        },
        "id": "9d2289d5"
      },
      "outputs": [],
      "source": [
        "### Import the raw data"
      ]
    },
    {
      "cell_type": "code",
      "execution_count": null,
      "id": "52c7872b",
      "metadata": {
        "ExecuteTime": {
          "end_time": "2023-04-17T22:38:34.534285Z",
          "start_time": "2023-04-17T22:38:34.486513Z"
        },
        "id": "52c7872b"
      },
      "outputs": [],
      "source": [
        "data = pd.read_csv('Starbucks satisfactory survey.csv')"
      ]
    },
    {
      "cell_type": "code",
      "execution_count": null,
      "id": "1f34e3f9",
      "metadata": {
        "ExecuteTime": {
          "end_time": "2023-04-17T22:38:34.611446Z",
          "start_time": "2023-04-17T22:38:34.544689Z"
        },
        "colab": {
          "base_uri": "https://localhost:8080/",
          "height": 803
        },
        "id": "1f34e3f9",
        "outputId": "a8173ea4-8c17-4f37-c9fe-7c8a88852652"
      },
      "outputs": [
        {
          "output_type": "execute_result",
          "data": {
            "text/plain": [
              "                      Timestamp 1. Your Gender    2. Your Age  \\\n",
              "0  2019/10/01 12:38:43 PM GMT+8         Female  From 20 to 29   \n",
              "1  2019/10/01 12:38:54 PM GMT+8         Female  From 20 to 29   \n",
              "2  2019/10/01 12:38:56 PM GMT+8           Male  From 20 to 29   \n",
              "3  2019/10/01 12:39:08 PM GMT+8         Female  From 20 to 29   \n",
              "4  2019/10/01 12:39:20 PM GMT+8           Male  From 20 to 29   \n",
              "\n",
              "  3. Are you currently....? 4. What is your annual income?  \\\n",
              "0                   Student             Less than RM25,000   \n",
              "1                   Student             Less than RM25,000   \n",
              "2                  Employed             Less than RM25,000   \n",
              "3                   Student             Less than RM25,000   \n",
              "4                   Student             Less than RM25,000   \n",
              "\n",
              "  5. How often do you visit Starbucks? 6. How do you usually enjoy Starbucks?  \\\n",
              "0                               Rarely                                Dine in   \n",
              "1                               Rarely                              Take away   \n",
              "2                              Monthly                                Dine in   \n",
              "3                               Rarely                              Take away   \n",
              "4                              Monthly                              Take away   \n",
              "\n",
              "  7. How much time do you normally  spend during your visit?  \\\n",
              "0                       Between 30 minutes to 1 hour           \n",
              "1                                   Below 30 minutes           \n",
              "2                       Between 30 minutes to 1 hour           \n",
              "3                                   Below 30 minutes           \n",
              "4                       Between 30 minutes to 1 hour           \n",
              "\n",
              "  8. The nearest Starbucks's outlet to you is...?  \\\n",
              "0                                      within 1km   \n",
              "1                                       1km - 3km   \n",
              "2                                   more than 3km   \n",
              "3                                   more than 3km   \n",
              "4                                       1km - 3km   \n",
              "\n",
              "  9. Do you have Starbucks membership card?  ...  \\\n",
              "0                                       Yes  ...   \n",
              "1                                       Yes  ...   \n",
              "2                                       Yes  ...   \n",
              "3                                        No  ...   \n",
              "4                                        No  ...   \n",
              "\n",
              "  11. On average, how much would you spend at Starbucks per visit?  \\\n",
              "0                                     Less than RM20                 \n",
              "1                                     Less than RM20                 \n",
              "2                                     Less than RM20                 \n",
              "3                                     Less than RM20                 \n",
              "4                                 Around RM20 - RM40                 \n",
              "\n",
              "  12. How would you rate the quality of Starbucks compared to other brands (Coffee Bean, Old Town White Coffee..) to be:  \\\n",
              "0                                                  4                                                                       \n",
              "1                                                  4                                                                       \n",
              "2                                                  4                                                                       \n",
              "3                                                  2                                                                       \n",
              "4                                                  3                                                                       \n",
              "\n",
              "   13. How would you rate the price range at Starbucks?  \\\n",
              "0                                                  3      \n",
              "1                                                  3      \n",
              "2                                                  3      \n",
              "3                                                  1      \n",
              "4                                                  3      \n",
              "\n",
              "   14. How important are sales and promotions in your purchase decision?  \\\n",
              "0                                                  5                       \n",
              "1                                                  4                       \n",
              "2                                                  4                       \n",
              "3                                                  4                       \n",
              "4                                                  4                       \n",
              "\n",
              "   15. How would you rate the ambiance at Starbucks? (lighting, music, etc...)  \\\n",
              "0                                                  5                             \n",
              "1                                                  4                             \n",
              "2                                                  4                             \n",
              "3                                                  3                             \n",
              "4                                                  2                             \n",
              "\n",
              "   16. You rate the WiFi quality at Starbucks as..  \\\n",
              "0                                                4   \n",
              "1                                                4   \n",
              "2                                                4   \n",
              "3                                                3   \n",
              "4                                                2   \n",
              "\n",
              "   17. How would you rate the service at Starbucks? (Promptness, friendliness, etc..)  \\\n",
              "0                                                  4                                    \n",
              "1                                                  5                                    \n",
              "2                                                  4                                    \n",
              "3                                                  3                                    \n",
              "4                                                  3                                    \n",
              "\n",
              "   18. How likely you will choose Starbucks for doing business meetings or hangout with friends?  \\\n",
              "0                                                  3                                               \n",
              "1                                                  2                                               \n",
              "2                                                  3                                               \n",
              "3                                                  3                                               \n",
              "4                                                  3                                               \n",
              "\n",
              "   19. How do you come to hear of promotions at Starbucks? Check all that apply.  \\\n",
              "0  Starbucks Website/Apps;Social Media;Emails;Dea...                               \n",
              "1                     Social Media;In Store displays                               \n",
              "2                       In Store displays;Billboards                               \n",
              "3                  Through friends and word of mouth                               \n",
              "4                Starbucks Website/Apps;Social Media                               \n",
              "\n",
              "  20. Will you continue buying at Starbucks?  \n",
              "0                                        Yes  \n",
              "1                                        Yes  \n",
              "2                                        Yes  \n",
              "3                                         No  \n",
              "4                                        Yes  \n",
              "\n",
              "[5 rows x 21 columns]"
            ],
            "text/html": [
              "\n",
              "  <div id=\"df-e2569546-f10c-4358-8d2c-14581ffc0cc0\">\n",
              "    <div class=\"colab-df-container\">\n",
              "      <div>\n",
              "<style scoped>\n",
              "    .dataframe tbody tr th:only-of-type {\n",
              "        vertical-align: middle;\n",
              "    }\n",
              "\n",
              "    .dataframe tbody tr th {\n",
              "        vertical-align: top;\n",
              "    }\n",
              "\n",
              "    .dataframe thead th {\n",
              "        text-align: right;\n",
              "    }\n",
              "</style>\n",
              "<table border=\"1\" class=\"dataframe\">\n",
              "  <thead>\n",
              "    <tr style=\"text-align: right;\">\n",
              "      <th></th>\n",
              "      <th>Timestamp</th>\n",
              "      <th>1. Your Gender</th>\n",
              "      <th>2. Your Age</th>\n",
              "      <th>3. Are you currently....?</th>\n",
              "      <th>4. What is your annual income?</th>\n",
              "      <th>5. How often do you visit Starbucks?</th>\n",
              "      <th>6. How do you usually enjoy Starbucks?</th>\n",
              "      <th>7. How much time do you normally  spend during your visit?</th>\n",
              "      <th>8. The nearest Starbucks's outlet to you is...?</th>\n",
              "      <th>9. Do you have Starbucks membership card?</th>\n",
              "      <th>...</th>\n",
              "      <th>11. On average, how much would you spend at Starbucks per visit?</th>\n",
              "      <th>12. How would you rate the quality of Starbucks compared to other brands (Coffee Bean, Old Town White Coffee..) to be:</th>\n",
              "      <th>13. How would you rate the price range at Starbucks?</th>\n",
              "      <th>14. How important are sales and promotions in your purchase decision?</th>\n",
              "      <th>15. How would you rate the ambiance at Starbucks? (lighting, music, etc...)</th>\n",
              "      <th>16. You rate the WiFi quality at Starbucks as..</th>\n",
              "      <th>17. How would you rate the service at Starbucks? (Promptness, friendliness, etc..)</th>\n",
              "      <th>18. How likely you will choose Starbucks for doing business meetings or hangout with friends?</th>\n",
              "      <th>19. How do you come to hear of promotions at Starbucks? Check all that apply.</th>\n",
              "      <th>20. Will you continue buying at Starbucks?</th>\n",
              "    </tr>\n",
              "  </thead>\n",
              "  <tbody>\n",
              "    <tr>\n",
              "      <th>0</th>\n",
              "      <td>2019/10/01 12:38:43 PM GMT+8</td>\n",
              "      <td>Female</td>\n",
              "      <td>From 20 to 29</td>\n",
              "      <td>Student</td>\n",
              "      <td>Less than RM25,000</td>\n",
              "      <td>Rarely</td>\n",
              "      <td>Dine in</td>\n",
              "      <td>Between 30 minutes to 1 hour</td>\n",
              "      <td>within 1km</td>\n",
              "      <td>Yes</td>\n",
              "      <td>...</td>\n",
              "      <td>Less than RM20</td>\n",
              "      <td>4</td>\n",
              "      <td>3</td>\n",
              "      <td>5</td>\n",
              "      <td>5</td>\n",
              "      <td>4</td>\n",
              "      <td>4</td>\n",
              "      <td>3</td>\n",
              "      <td>Starbucks Website/Apps;Social Media;Emails;Dea...</td>\n",
              "      <td>Yes</td>\n",
              "    </tr>\n",
              "    <tr>\n",
              "      <th>1</th>\n",
              "      <td>2019/10/01 12:38:54 PM GMT+8</td>\n",
              "      <td>Female</td>\n",
              "      <td>From 20 to 29</td>\n",
              "      <td>Student</td>\n",
              "      <td>Less than RM25,000</td>\n",
              "      <td>Rarely</td>\n",
              "      <td>Take away</td>\n",
              "      <td>Below 30 minutes</td>\n",
              "      <td>1km - 3km</td>\n",
              "      <td>Yes</td>\n",
              "      <td>...</td>\n",
              "      <td>Less than RM20</td>\n",
              "      <td>4</td>\n",
              "      <td>3</td>\n",
              "      <td>4</td>\n",
              "      <td>4</td>\n",
              "      <td>4</td>\n",
              "      <td>5</td>\n",
              "      <td>2</td>\n",
              "      <td>Social Media;In Store displays</td>\n",
              "      <td>Yes</td>\n",
              "    </tr>\n",
              "    <tr>\n",
              "      <th>2</th>\n",
              "      <td>2019/10/01 12:38:56 PM GMT+8</td>\n",
              "      <td>Male</td>\n",
              "      <td>From 20 to 29</td>\n",
              "      <td>Employed</td>\n",
              "      <td>Less than RM25,000</td>\n",
              "      <td>Monthly</td>\n",
              "      <td>Dine in</td>\n",
              "      <td>Between 30 minutes to 1 hour</td>\n",
              "      <td>more than 3km</td>\n",
              "      <td>Yes</td>\n",
              "      <td>...</td>\n",
              "      <td>Less than RM20</td>\n",
              "      <td>4</td>\n",
              "      <td>3</td>\n",
              "      <td>4</td>\n",
              "      <td>4</td>\n",
              "      <td>4</td>\n",
              "      <td>4</td>\n",
              "      <td>3</td>\n",
              "      <td>In Store displays;Billboards</td>\n",
              "      <td>Yes</td>\n",
              "    </tr>\n",
              "    <tr>\n",
              "      <th>3</th>\n",
              "      <td>2019/10/01 12:39:08 PM GMT+8</td>\n",
              "      <td>Female</td>\n",
              "      <td>From 20 to 29</td>\n",
              "      <td>Student</td>\n",
              "      <td>Less than RM25,000</td>\n",
              "      <td>Rarely</td>\n",
              "      <td>Take away</td>\n",
              "      <td>Below 30 minutes</td>\n",
              "      <td>more than 3km</td>\n",
              "      <td>No</td>\n",
              "      <td>...</td>\n",
              "      <td>Less than RM20</td>\n",
              "      <td>2</td>\n",
              "      <td>1</td>\n",
              "      <td>4</td>\n",
              "      <td>3</td>\n",
              "      <td>3</td>\n",
              "      <td>3</td>\n",
              "      <td>3</td>\n",
              "      <td>Through friends and word of mouth</td>\n",
              "      <td>No</td>\n",
              "    </tr>\n",
              "    <tr>\n",
              "      <th>4</th>\n",
              "      <td>2019/10/01 12:39:20 PM GMT+8</td>\n",
              "      <td>Male</td>\n",
              "      <td>From 20 to 29</td>\n",
              "      <td>Student</td>\n",
              "      <td>Less than RM25,000</td>\n",
              "      <td>Monthly</td>\n",
              "      <td>Take away</td>\n",
              "      <td>Between 30 minutes to 1 hour</td>\n",
              "      <td>1km - 3km</td>\n",
              "      <td>No</td>\n",
              "      <td>...</td>\n",
              "      <td>Around RM20 - RM40</td>\n",
              "      <td>3</td>\n",
              "      <td>3</td>\n",
              "      <td>4</td>\n",
              "      <td>2</td>\n",
              "      <td>2</td>\n",
              "      <td>3</td>\n",
              "      <td>3</td>\n",
              "      <td>Starbucks Website/Apps;Social Media</td>\n",
              "      <td>Yes</td>\n",
              "    </tr>\n",
              "  </tbody>\n",
              "</table>\n",
              "<p>5 rows × 21 columns</p>\n",
              "</div>\n",
              "      <button class=\"colab-df-convert\" onclick=\"convertToInteractive('df-e2569546-f10c-4358-8d2c-14581ffc0cc0')\"\n",
              "              title=\"Convert this dataframe to an interactive table.\"\n",
              "              style=\"display:none;\">\n",
              "        \n",
              "  <svg xmlns=\"http://www.w3.org/2000/svg\" height=\"24px\"viewBox=\"0 0 24 24\"\n",
              "       width=\"24px\">\n",
              "    <path d=\"M0 0h24v24H0V0z\" fill=\"none\"/>\n",
              "    <path d=\"M18.56 5.44l.94 2.06.94-2.06 2.06-.94-2.06-.94-.94-2.06-.94 2.06-2.06.94zm-11 1L8.5 8.5l.94-2.06 2.06-.94-2.06-.94L8.5 2.5l-.94 2.06-2.06.94zm10 10l.94 2.06.94-2.06 2.06-.94-2.06-.94-.94-2.06-.94 2.06-2.06.94z\"/><path d=\"M17.41 7.96l-1.37-1.37c-.4-.4-.92-.59-1.43-.59-.52 0-1.04.2-1.43.59L10.3 9.45l-7.72 7.72c-.78.78-.78 2.05 0 2.83L4 21.41c.39.39.9.59 1.41.59.51 0 1.02-.2 1.41-.59l7.78-7.78 2.81-2.81c.8-.78.8-2.07 0-2.86zM5.41 20L4 18.59l7.72-7.72 1.47 1.35L5.41 20z\"/>\n",
              "  </svg>\n",
              "      </button>\n",
              "      \n",
              "  <style>\n",
              "    .colab-df-container {\n",
              "      display:flex;\n",
              "      flex-wrap:wrap;\n",
              "      gap: 12px;\n",
              "    }\n",
              "\n",
              "    .colab-df-convert {\n",
              "      background-color: #E8F0FE;\n",
              "      border: none;\n",
              "      border-radius: 50%;\n",
              "      cursor: pointer;\n",
              "      display: none;\n",
              "      fill: #1967D2;\n",
              "      height: 32px;\n",
              "      padding: 0 0 0 0;\n",
              "      width: 32px;\n",
              "    }\n",
              "\n",
              "    .colab-df-convert:hover {\n",
              "      background-color: #E2EBFA;\n",
              "      box-shadow: 0px 1px 2px rgba(60, 64, 67, 0.3), 0px 1px 3px 1px rgba(60, 64, 67, 0.15);\n",
              "      fill: #174EA6;\n",
              "    }\n",
              "\n",
              "    [theme=dark] .colab-df-convert {\n",
              "      background-color: #3B4455;\n",
              "      fill: #D2E3FC;\n",
              "    }\n",
              "\n",
              "    [theme=dark] .colab-df-convert:hover {\n",
              "      background-color: #434B5C;\n",
              "      box-shadow: 0px 1px 3px 1px rgba(0, 0, 0, 0.15);\n",
              "      filter: drop-shadow(0px 1px 2px rgba(0, 0, 0, 0.3));\n",
              "      fill: #FFFFFF;\n",
              "    }\n",
              "  </style>\n",
              "\n",
              "      <script>\n",
              "        const buttonEl =\n",
              "          document.querySelector('#df-e2569546-f10c-4358-8d2c-14581ffc0cc0 button.colab-df-convert');\n",
              "        buttonEl.style.display =\n",
              "          google.colab.kernel.accessAllowed ? 'block' : 'none';\n",
              "\n",
              "        async function convertToInteractive(key) {\n",
              "          const element = document.querySelector('#df-e2569546-f10c-4358-8d2c-14581ffc0cc0');\n",
              "          const dataTable =\n",
              "            await google.colab.kernel.invokeFunction('convertToInteractive',\n",
              "                                                     [key], {});\n",
              "          if (!dataTable) return;\n",
              "\n",
              "          const docLinkHtml = 'Like what you see? Visit the ' +\n",
              "            '<a target=\"_blank\" href=https://colab.research.google.com/notebooks/data_table.ipynb>data table notebook</a>'\n",
              "            + ' to learn more about interactive tables.';\n",
              "          element.innerHTML = '';\n",
              "          dataTable['output_type'] = 'display_data';\n",
              "          await google.colab.output.renderOutput(dataTable, element);\n",
              "          const docLink = document.createElement('div');\n",
              "          docLink.innerHTML = docLinkHtml;\n",
              "          element.appendChild(docLink);\n",
              "        }\n",
              "      </script>\n",
              "    </div>\n",
              "  </div>\n",
              "  "
            ]
          },
          "metadata": {},
          "execution_count": 8
        }
      ],
      "source": [
        "data.head()"
      ]
    },
    {
      "cell_type": "code",
      "execution_count": null,
      "id": "ff506c60",
      "metadata": {
        "ExecuteTime": {
          "end_time": "2023-04-17T22:38:34.687948Z",
          "start_time": "2023-04-17T22:38:34.674264Z"
        },
        "id": "ff506c60"
      },
      "outputs": [],
      "source": [
        "### Data Pre-processing"
      ]
    },
    {
      "cell_type": "code",
      "execution_count": null,
      "id": "90a64023",
      "metadata": {
        "ExecuteTime": {
          "end_time": "2023-04-17T22:38:34.718585Z",
          "start_time": "2023-04-17T22:38:34.698319Z"
        },
        "id": "90a64023"
      },
      "outputs": [],
      "source": [
        "rename_dict = {\n",
        "    '1. Your Gender' : 'Gender',\n",
        "    '2. Your Age' : 'Age',     \n",
        "    '3. Are you currently....?' : 'Profession',\n",
        "    '4. What is your annual income?' : 'Income',\n",
        "    '5. How often do you visit Starbucks?' : 'Visit Frequency',\n",
        "    '6. How do you usually enjoy Starbucks?' : 'Prefered Form of Consumption',\n",
        "    '7. How much time do you normally  spend during your visit?' : 'Time Spent on Visit',\n",
        "    \"8. The nearest Starbucks's outlet to you is...?\" : 'Distance to Store',\n",
        "    '9. Do you have Starbucks membership card?' : 'Membership',\n",
        "    '10. What do you most frequently purchase at Starbucks?' : 'Most consumed Product',\n",
        "    '11. On average, how much would you spend at Starbucks per visit?' : 'Spend per Visit',\n",
        "    '12. How would you rate the quality of Starbucks compared to other brands (Coffee Bean, Old Town White Coffee..) to be:' : 'Quality Rate',\n",
        "    '13. How would you rate the price range at Starbucks?' : 'Price Range Rate',\n",
        "    '14. How important are sales and promotions in your purchase decision?' : 'Sales and Promotion Importance',\n",
        "    '15. How would you rate the ambiance at Starbucks? (lighting, music, etc...)' : 'Ambiance Rate',\n",
        "    '16. You rate the WiFi quality at Starbucks as..' : 'WiFi Quality Rate',\n",
        "    '17. How would you rate the service at Starbucks? (Promptness, friendliness, etc..)' : 'Service Rate',\n",
        "    '18. How likely you will choose Starbucks for doing business meetings or hangout with friends?' : 'Likely for Meetings or Hangouts',\n",
        "    '19. How do you come to hear of promotions at Starbucks? Check all that apply.' : 'Form of communication to Promotions',\n",
        "    '20. Will you continue buying at Starbucks?' : 'Custumer Loyalty'\n",
        "}"
      ]
    },
    {
      "cell_type": "code",
      "execution_count": null,
      "id": "3320040a",
      "metadata": {
        "ExecuteTime": {
          "end_time": "2023-04-17T22:38:34.733667Z",
          "start_time": "2023-04-17T22:38:34.722619Z"
        },
        "id": "3320040a"
      },
      "outputs": [],
      "source": [
        "### Rename the columns"
      ]
    },
    {
      "cell_type": "code",
      "execution_count": null,
      "id": "a71f3a8e",
      "metadata": {
        "ExecuteTime": {
          "end_time": "2023-04-17T22:38:34.795399Z",
          "start_time": "2023-04-17T22:38:34.752139Z"
        },
        "colab": {
          "base_uri": "https://localhost:8080/",
          "height": 681
        },
        "id": "a71f3a8e",
        "outputId": "6aeb7935-aa0a-41e1-c69a-33b8f4e12ff9"
      },
      "outputs": [
        {
          "output_type": "execute_result",
          "data": {
            "text/plain": [
              "                      Timestamp  Gender            Age Profession  \\\n",
              "0  2019/10/01 12:38:43 PM GMT+8  Female  From 20 to 29    Student   \n",
              "1  2019/10/01 12:38:54 PM GMT+8  Female  From 20 to 29    Student   \n",
              "2  2019/10/01 12:38:56 PM GMT+8    Male  From 20 to 29   Employed   \n",
              "3  2019/10/01 12:39:08 PM GMT+8  Female  From 20 to 29    Student   \n",
              "4  2019/10/01 12:39:20 PM GMT+8    Male  From 20 to 29    Student   \n",
              "\n",
              "               Income Visit Frequency Prefered Form of Consumption  \\\n",
              "0  Less than RM25,000          Rarely                      Dine in   \n",
              "1  Less than RM25,000          Rarely                    Take away   \n",
              "2  Less than RM25,000         Monthly                      Dine in   \n",
              "3  Less than RM25,000          Rarely                    Take away   \n",
              "4  Less than RM25,000         Monthly                    Take away   \n",
              "\n",
              "            Time Spent on Visit Distance to Store Membership  ...  \\\n",
              "0  Between 30 minutes to 1 hour        within 1km        Yes  ...   \n",
              "1              Below 30 minutes         1km - 3km        Yes  ...   \n",
              "2  Between 30 minutes to 1 hour     more than 3km        Yes  ...   \n",
              "3              Below 30 minutes     more than 3km         No  ...   \n",
              "4  Between 30 minutes to 1 hour         1km - 3km         No  ...   \n",
              "\n",
              "      Spend per Visit Quality Rate  Price Range Rate  \\\n",
              "0      Less than RM20            4                 3   \n",
              "1      Less than RM20            4                 3   \n",
              "2      Less than RM20            4                 3   \n",
              "3      Less than RM20            2                 1   \n",
              "4  Around RM20 - RM40            3                 3   \n",
              "\n",
              "   Sales and Promotion Importance  Ambiance Rate  WiFi Quality Rate  \\\n",
              "0                               5              5                  4   \n",
              "1                               4              4                  4   \n",
              "2                               4              4                  4   \n",
              "3                               4              3                  3   \n",
              "4                               4              2                  2   \n",
              "\n",
              "   Service Rate  Likely for Meetings or Hangouts  \\\n",
              "0             4                                3   \n",
              "1             5                                2   \n",
              "2             4                                3   \n",
              "3             3                                3   \n",
              "4             3                                3   \n",
              "\n",
              "                 Form of communication to Promotions Custumer Loyalty  \n",
              "0  Starbucks Website/Apps;Social Media;Emails;Dea...              Yes  \n",
              "1                     Social Media;In Store displays              Yes  \n",
              "2                       In Store displays;Billboards              Yes  \n",
              "3                  Through friends and word of mouth               No  \n",
              "4                Starbucks Website/Apps;Social Media              Yes  \n",
              "\n",
              "[5 rows x 21 columns]"
            ],
            "text/html": [
              "\n",
              "  <div id=\"df-ceed2ec5-2efa-4768-8281-76b21ee4eec7\">\n",
              "    <div class=\"colab-df-container\">\n",
              "      <div>\n",
              "<style scoped>\n",
              "    .dataframe tbody tr th:only-of-type {\n",
              "        vertical-align: middle;\n",
              "    }\n",
              "\n",
              "    .dataframe tbody tr th {\n",
              "        vertical-align: top;\n",
              "    }\n",
              "\n",
              "    .dataframe thead th {\n",
              "        text-align: right;\n",
              "    }\n",
              "</style>\n",
              "<table border=\"1\" class=\"dataframe\">\n",
              "  <thead>\n",
              "    <tr style=\"text-align: right;\">\n",
              "      <th></th>\n",
              "      <th>Timestamp</th>\n",
              "      <th>Gender</th>\n",
              "      <th>Age</th>\n",
              "      <th>Profession</th>\n",
              "      <th>Income</th>\n",
              "      <th>Visit Frequency</th>\n",
              "      <th>Prefered Form of Consumption</th>\n",
              "      <th>Time Spent on Visit</th>\n",
              "      <th>Distance to Store</th>\n",
              "      <th>Membership</th>\n",
              "      <th>...</th>\n",
              "      <th>Spend per Visit</th>\n",
              "      <th>Quality Rate</th>\n",
              "      <th>Price Range Rate</th>\n",
              "      <th>Sales and Promotion Importance</th>\n",
              "      <th>Ambiance Rate</th>\n",
              "      <th>WiFi Quality Rate</th>\n",
              "      <th>Service Rate</th>\n",
              "      <th>Likely for Meetings or Hangouts</th>\n",
              "      <th>Form of communication to Promotions</th>\n",
              "      <th>Custumer Loyalty</th>\n",
              "    </tr>\n",
              "  </thead>\n",
              "  <tbody>\n",
              "    <tr>\n",
              "      <th>0</th>\n",
              "      <td>2019/10/01 12:38:43 PM GMT+8</td>\n",
              "      <td>Female</td>\n",
              "      <td>From 20 to 29</td>\n",
              "      <td>Student</td>\n",
              "      <td>Less than RM25,000</td>\n",
              "      <td>Rarely</td>\n",
              "      <td>Dine in</td>\n",
              "      <td>Between 30 minutes to 1 hour</td>\n",
              "      <td>within 1km</td>\n",
              "      <td>Yes</td>\n",
              "      <td>...</td>\n",
              "      <td>Less than RM20</td>\n",
              "      <td>4</td>\n",
              "      <td>3</td>\n",
              "      <td>5</td>\n",
              "      <td>5</td>\n",
              "      <td>4</td>\n",
              "      <td>4</td>\n",
              "      <td>3</td>\n",
              "      <td>Starbucks Website/Apps;Social Media;Emails;Dea...</td>\n",
              "      <td>Yes</td>\n",
              "    </tr>\n",
              "    <tr>\n",
              "      <th>1</th>\n",
              "      <td>2019/10/01 12:38:54 PM GMT+8</td>\n",
              "      <td>Female</td>\n",
              "      <td>From 20 to 29</td>\n",
              "      <td>Student</td>\n",
              "      <td>Less than RM25,000</td>\n",
              "      <td>Rarely</td>\n",
              "      <td>Take away</td>\n",
              "      <td>Below 30 minutes</td>\n",
              "      <td>1km - 3km</td>\n",
              "      <td>Yes</td>\n",
              "      <td>...</td>\n",
              "      <td>Less than RM20</td>\n",
              "      <td>4</td>\n",
              "      <td>3</td>\n",
              "      <td>4</td>\n",
              "      <td>4</td>\n",
              "      <td>4</td>\n",
              "      <td>5</td>\n",
              "      <td>2</td>\n",
              "      <td>Social Media;In Store displays</td>\n",
              "      <td>Yes</td>\n",
              "    </tr>\n",
              "    <tr>\n",
              "      <th>2</th>\n",
              "      <td>2019/10/01 12:38:56 PM GMT+8</td>\n",
              "      <td>Male</td>\n",
              "      <td>From 20 to 29</td>\n",
              "      <td>Employed</td>\n",
              "      <td>Less than RM25,000</td>\n",
              "      <td>Monthly</td>\n",
              "      <td>Dine in</td>\n",
              "      <td>Between 30 minutes to 1 hour</td>\n",
              "      <td>more than 3km</td>\n",
              "      <td>Yes</td>\n",
              "      <td>...</td>\n",
              "      <td>Less than RM20</td>\n",
              "      <td>4</td>\n",
              "      <td>3</td>\n",
              "      <td>4</td>\n",
              "      <td>4</td>\n",
              "      <td>4</td>\n",
              "      <td>4</td>\n",
              "      <td>3</td>\n",
              "      <td>In Store displays;Billboards</td>\n",
              "      <td>Yes</td>\n",
              "    </tr>\n",
              "    <tr>\n",
              "      <th>3</th>\n",
              "      <td>2019/10/01 12:39:08 PM GMT+8</td>\n",
              "      <td>Female</td>\n",
              "      <td>From 20 to 29</td>\n",
              "      <td>Student</td>\n",
              "      <td>Less than RM25,000</td>\n",
              "      <td>Rarely</td>\n",
              "      <td>Take away</td>\n",
              "      <td>Below 30 minutes</td>\n",
              "      <td>more than 3km</td>\n",
              "      <td>No</td>\n",
              "      <td>...</td>\n",
              "      <td>Less than RM20</td>\n",
              "      <td>2</td>\n",
              "      <td>1</td>\n",
              "      <td>4</td>\n",
              "      <td>3</td>\n",
              "      <td>3</td>\n",
              "      <td>3</td>\n",
              "      <td>3</td>\n",
              "      <td>Through friends and word of mouth</td>\n",
              "      <td>No</td>\n",
              "    </tr>\n",
              "    <tr>\n",
              "      <th>4</th>\n",
              "      <td>2019/10/01 12:39:20 PM GMT+8</td>\n",
              "      <td>Male</td>\n",
              "      <td>From 20 to 29</td>\n",
              "      <td>Student</td>\n",
              "      <td>Less than RM25,000</td>\n",
              "      <td>Monthly</td>\n",
              "      <td>Take away</td>\n",
              "      <td>Between 30 minutes to 1 hour</td>\n",
              "      <td>1km - 3km</td>\n",
              "      <td>No</td>\n",
              "      <td>...</td>\n",
              "      <td>Around RM20 - RM40</td>\n",
              "      <td>3</td>\n",
              "      <td>3</td>\n",
              "      <td>4</td>\n",
              "      <td>2</td>\n",
              "      <td>2</td>\n",
              "      <td>3</td>\n",
              "      <td>3</td>\n",
              "      <td>Starbucks Website/Apps;Social Media</td>\n",
              "      <td>Yes</td>\n",
              "    </tr>\n",
              "  </tbody>\n",
              "</table>\n",
              "<p>5 rows × 21 columns</p>\n",
              "</div>\n",
              "      <button class=\"colab-df-convert\" onclick=\"convertToInteractive('df-ceed2ec5-2efa-4768-8281-76b21ee4eec7')\"\n",
              "              title=\"Convert this dataframe to an interactive table.\"\n",
              "              style=\"display:none;\">\n",
              "        \n",
              "  <svg xmlns=\"http://www.w3.org/2000/svg\" height=\"24px\"viewBox=\"0 0 24 24\"\n",
              "       width=\"24px\">\n",
              "    <path d=\"M0 0h24v24H0V0z\" fill=\"none\"/>\n",
              "    <path d=\"M18.56 5.44l.94 2.06.94-2.06 2.06-.94-2.06-.94-.94-2.06-.94 2.06-2.06.94zm-11 1L8.5 8.5l.94-2.06 2.06-.94-2.06-.94L8.5 2.5l-.94 2.06-2.06.94zm10 10l.94 2.06.94-2.06 2.06-.94-2.06-.94-.94-2.06-.94 2.06-2.06.94z\"/><path d=\"M17.41 7.96l-1.37-1.37c-.4-.4-.92-.59-1.43-.59-.52 0-1.04.2-1.43.59L10.3 9.45l-7.72 7.72c-.78.78-.78 2.05 0 2.83L4 21.41c.39.39.9.59 1.41.59.51 0 1.02-.2 1.41-.59l7.78-7.78 2.81-2.81c.8-.78.8-2.07 0-2.86zM5.41 20L4 18.59l7.72-7.72 1.47 1.35L5.41 20z\"/>\n",
              "  </svg>\n",
              "      </button>\n",
              "      \n",
              "  <style>\n",
              "    .colab-df-container {\n",
              "      display:flex;\n",
              "      flex-wrap:wrap;\n",
              "      gap: 12px;\n",
              "    }\n",
              "\n",
              "    .colab-df-convert {\n",
              "      background-color: #E8F0FE;\n",
              "      border: none;\n",
              "      border-radius: 50%;\n",
              "      cursor: pointer;\n",
              "      display: none;\n",
              "      fill: #1967D2;\n",
              "      height: 32px;\n",
              "      padding: 0 0 0 0;\n",
              "      width: 32px;\n",
              "    }\n",
              "\n",
              "    .colab-df-convert:hover {\n",
              "      background-color: #E2EBFA;\n",
              "      box-shadow: 0px 1px 2px rgba(60, 64, 67, 0.3), 0px 1px 3px 1px rgba(60, 64, 67, 0.15);\n",
              "      fill: #174EA6;\n",
              "    }\n",
              "\n",
              "    [theme=dark] .colab-df-convert {\n",
              "      background-color: #3B4455;\n",
              "      fill: #D2E3FC;\n",
              "    }\n",
              "\n",
              "    [theme=dark] .colab-df-convert:hover {\n",
              "      background-color: #434B5C;\n",
              "      box-shadow: 0px 1px 3px 1px rgba(0, 0, 0, 0.15);\n",
              "      filter: drop-shadow(0px 1px 2px rgba(0, 0, 0, 0.3));\n",
              "      fill: #FFFFFF;\n",
              "    }\n",
              "  </style>\n",
              "\n",
              "      <script>\n",
              "        const buttonEl =\n",
              "          document.querySelector('#df-ceed2ec5-2efa-4768-8281-76b21ee4eec7 button.colab-df-convert');\n",
              "        buttonEl.style.display =\n",
              "          google.colab.kernel.accessAllowed ? 'block' : 'none';\n",
              "\n",
              "        async function convertToInteractive(key) {\n",
              "          const element = document.querySelector('#df-ceed2ec5-2efa-4768-8281-76b21ee4eec7');\n",
              "          const dataTable =\n",
              "            await google.colab.kernel.invokeFunction('convertToInteractive',\n",
              "                                                     [key], {});\n",
              "          if (!dataTable) return;\n",
              "\n",
              "          const docLinkHtml = 'Like what you see? Visit the ' +\n",
              "            '<a target=\"_blank\" href=https://colab.research.google.com/notebooks/data_table.ipynb>data table notebook</a>'\n",
              "            + ' to learn more about interactive tables.';\n",
              "          element.innerHTML = '';\n",
              "          dataTable['output_type'] = 'display_data';\n",
              "          await google.colab.output.renderOutput(dataTable, element);\n",
              "          const docLink = document.createElement('div');\n",
              "          docLink.innerHTML = docLinkHtml;\n",
              "          element.appendChild(docLink);\n",
              "        }\n",
              "      </script>\n",
              "    </div>\n",
              "  </div>\n",
              "  "
            ]
          },
          "metadata": {},
          "execution_count": 10
        }
      ],
      "source": [
        "data = data.rename(rename_dict,axis=1)\n",
        "data.head()"
      ]
    },
    {
      "cell_type": "code",
      "execution_count": null,
      "id": "50598c8b",
      "metadata": {
        "ExecuteTime": {
          "end_time": "2023-04-17T22:38:34.811327Z",
          "start_time": "2023-04-17T22:38:34.801013Z"
        },
        "id": "50598c8b"
      },
      "outputs": [],
      "source": [
        "### Check uniques responses in each column"
      ]
    },
    {
      "cell_type": "code",
      "execution_count": null,
      "id": "c1a0bc0d",
      "metadata": {
        "ExecuteTime": {
          "end_time": "2023-04-17T22:38:34.842517Z",
          "start_time": "2023-04-17T22:38:34.816764Z"
        },
        "colab": {
          "base_uri": "https://localhost:8080/"
        },
        "id": "c1a0bc0d",
        "outputId": "84054110-be54-4f77-e7e8-ae0c711c2144"
      },
      "outputs": [
        {
          "output_type": "stream",
          "name": "stdout",
          "text": [
            "Timestamp column: 122 unique values\n",
            "Gender column: 2 unique values\n",
            "Age column: 4 unique values\n",
            "Profession column: 4 unique values\n",
            "Income column: 5 unique values\n",
            "Visit Frequency column: 5 unique values\n",
            "Prefered Form of Consumption column: 8 unique values\n",
            "Time Spent on Visit column: 5 unique values\n",
            "Distance to Store column: 3 unique values\n",
            "Membership column: 2 unique values\n",
            "Most consumed Product column: 20 unique values\n",
            "Spend per Visit column: 4 unique values\n",
            "Quality Rate column: 5 unique values\n",
            "Price Range Rate column: 5 unique values\n",
            "Sales and Promotion Importance column: 5 unique values\n",
            "Ambiance Rate column: 5 unique values\n",
            "WiFi Quality Rate column: 5 unique values\n",
            "Service Rate column: 5 unique values\n",
            "Likely for Meetings or Hangouts column: 5 unique values\n",
            "Form of communication to Promotions column: 31 unique values\n",
            "Custumer Loyalty column: 2 unique values\n"
          ]
        }
      ],
      "source": [
        "for column in data.columns:\n",
        "    print('{} column: {} unique values'.format(column,data[column].nunique()))"
      ]
    },
    {
      "cell_type": "code",
      "execution_count": null,
      "id": "a288f989",
      "metadata": {
        "ExecuteTime": {
          "end_time": "2023-04-17T22:38:34.858002Z",
          "start_time": "2023-04-17T22:38:34.847602Z"
        },
        "id": "a288f989"
      },
      "outputs": [],
      "source": [
        "### Fix some redundant response in columns with more than 5 uniques response"
      ]
    },
    {
      "cell_type": "code",
      "execution_count": null,
      "id": "ebcc4e72",
      "metadata": {
        "ExecuteTime": {
          "end_time": "2023-04-17T22:38:34.889139Z",
          "start_time": "2023-04-17T22:38:34.862687Z"
        },
        "id": "ebcc4e72"
      },
      "outputs": [],
      "source": [
        "data['Prefered Form of Consumption'] = data['Prefered Form of Consumption'].replace({'Never':'None','never':'None','Never buy':'None','Never ':'None','I dont like coffee':'None',np.nan:'None'})\n",
        "data['Most consumed Product'] = data['Most consumed Product'].replace({'Never buy any':'Nothing','never':'Nothing','Never':'Nothing','Jaws chip ':'Jaws Chip','cake ':'Cake'})\n",
        "data['Form of communication to Promotions'] = data['Form of communication to Promotions'].replace({np.nan:'Never hear'})"
      ]
    },
    {
      "cell_type": "code",
      "execution_count": null,
      "id": "431931a9",
      "metadata": {
        "ExecuteTime": {
          "end_time": "2023-04-17T22:38:34.904411Z",
          "start_time": "2023-04-17T22:38:34.894338Z"
        },
        "id": "431931a9"
      },
      "outputs": [],
      "source": [
        "### Data Visualization"
      ]
    },
    {
      "cell_type": "code",
      "execution_count": null,
      "id": "4b52afd4",
      "metadata": {
        "ExecuteTime": {
          "end_time": "2023-04-17T22:38:34.919062Z",
          "start_time": "2023-04-17T22:38:34.908580Z"
        },
        "id": "4b52afd4"
      },
      "outputs": [],
      "source": [
        "### Create a simple function to avoid repeative code"
      ]
    },
    {
      "cell_type": "code",
      "execution_count": null,
      "id": "76ba84ef",
      "metadata": {
        "ExecuteTime": {
          "end_time": "2023-04-17T22:38:34.949630Z",
          "start_time": "2023-04-17T22:38:34.923258Z"
        },
        "id": "76ba84ef"
      },
      "outputs": [],
      "source": [
        "def plot_bar(feature,figsize):\n",
        "    plot_data = organize_plot_data(feature)\n",
        "    generate_plot(plot_data,feature,figsize)\n",
        "\n",
        "def organize_plot_data(feature):\n",
        "    plot_data = data[['Timestamp',feature]] #Timestamp is used for counting the occurrences\n",
        "    plot_data = plot_data.groupby(feature).count()\n",
        "    plot_data = plot_data.reset_index()\n",
        "    plot_data.columns = [feature,'Counts'] \n",
        "    return plot_data\n",
        "\n",
        "def generate_plot(plot_data,feature,figsize):\n",
        "    plt.figure(figsize=figsize)\n",
        "    plt.bar(x = plot_data[feature], height = plot_data['Counts'])\n",
        "    plt.title('Custumers by {}'.format(feature))"
      ]
    },
    {
      "cell_type": "code",
      "execution_count": null,
      "id": "33361c97",
      "metadata": {
        "ExecuteTime": {
          "end_time": "2023-04-17T22:38:34.965464Z",
          "start_time": "2023-04-17T22:38:34.954774Z"
        },
        "id": "33361c97"
      },
      "outputs": [],
      "source": [
        "### Gender"
      ]
    },
    {
      "cell_type": "code",
      "execution_count": null,
      "id": "14533f02",
      "metadata": {
        "ExecuteTime": {
          "end_time": "2023-04-17T22:38:35.600827Z",
          "start_time": "2023-04-17T22:38:34.968619Z"
        },
        "colab": {
          "base_uri": "https://localhost:8080/",
          "height": 853
        },
        "id": "14533f02",
        "outputId": "ec569a58-1072-44ff-971e-a1bccd30808c"
      },
      "outputs": [
        {
          "output_type": "display_data",
          "data": {
            "text/plain": [
              "<Figure size 900x1000 with 1 Axes>"
            ],
            "image/png": "[encoded data removed]"
          },
          "metadata": {}
        }
      ],
      "source": [
        "plot_bar(feature='Gender',figsize=(9,10))"
      ]
    },
    {
      "cell_type": "code",
      "execution_count": null,
      "id": "560422c1",
      "metadata": {
        "ExecuteTime": {
          "end_time": "2023-04-17T22:38:36.359322Z",
          "start_time": "2023-04-17T22:38:35.607581Z"
        },
        "colab": {
          "base_uri": "https://localhost:8080/",
          "height": 853
        },
        "id": "560422c1",
        "outputId": "351fb268-7dd4-4aee-e0fb-70ef037c6b6c"
      },
      "outputs": [
        {
          "output_type": "display_data",
          "data": {
            "text/plain": [
              "<Figure size 1200x1000 with 1 Axes>"
            ],
            "image/png": "[encoded data removed]"
          },
          "metadata": {}
        }
      ],
      "source": [
        "### Age\n",
        "data['Age'] = data['Age'].replace({'Below 20' : '1. Below 20',\n",
        "                                    'From 20 to 29' : '2. From 20 to 29',\n",
        "                                    'From 30 to 39' : '3. From 30 to 39',\n",
        "                                    '40 and above' : '4. 40 and Above'})\n",
        "data = data.sort_values('Age')\n",
        "\n",
        "plot_bar(feature ='Age', figsize = (12,10))"
      ]
    },
    {
      "cell_type": "code",
      "execution_count": null,
      "id": "67e83824",
      "metadata": {
        "ExecuteTime": {
          "end_time": "2023-04-17T22:38:36.884672Z",
          "start_time": "2023-04-17T22:38:36.369137Z"
        },
        "colab": {
          "base_uri": "https://localhost:8080/",
          "height": 853
        },
        "id": "67e83824",
        "outputId": "7c51e91b-7c10-400d-9e59-8f04110d25bf"
      },
      "outputs": [
        {
          "output_type": "display_data",
          "data": {
            "text/plain": [
              "<Figure size 1200x1000 with 1 Axes>"
            ],
            "image/png": "[encoded data removed]"
          },
          "metadata": {}
        }
      ],
      "source": [
        "### Profession\n",
        "plot_bar(feature ='Profession', figsize = (12,10))"
      ]
    },
    {
      "cell_type": "code",
      "execution_count": null,
      "id": "ffd9bb11",
      "metadata": {
        "ExecuteTime": {
          "end_time": "2023-04-17T22:38:37.571648Z",
          "start_time": "2023-04-17T22:38:36.888397Z"
        },
        "colab": {
          "base_uri": "https://localhost:8080/",
          "height": 853
        },
        "id": "ffd9bb11",
        "outputId": "47f8634a-fb13-4be5-cfd7-0fdc7a125d91"
      },
      "outputs": [
        {
          "output_type": "display_data",
          "data": {
            "text/plain": [
              "<Figure size 1500x1000 with 1 Axes>"
            ],
            "image/png": "[encoded data removed]"
          },
          "metadata": {}
        }
      ],
      "source": [
        "### Income\n",
        "data['Income'] = data['Income'].replace({'Less than RM25,000' : '1. Less than RM25,000',\n",
        "                                        'RM25,000 - RM50,000' : '2. RM25,000 - RM50,000',\n",
        "                                        'RM50,000 - RM100,000' : '3. RM50,000 - RM100,000',\n",
        "                                        'RM100,000 - RM150,000' : '4. RM100,000 - RM150,000',\n",
        "                                        'More than RM150,000' : '5. More than RM150,000'})\n",
        "data = data.sort_values('Income')\n",
        "\n",
        "plot_bar(feature ='Income', figsize = (15,10))"
      ]
    },
    {
      "cell_type": "code",
      "execution_count": null,
      "id": "0ec6d4d4",
      "metadata": {
        "ExecuteTime": {
          "end_time": "2023-04-17T22:38:38.159319Z",
          "start_time": "2023-04-17T22:38:37.574775Z"
        },
        "colab": {
          "base_uri": "https://localhost:8080/",
          "height": 853
        },
        "id": "0ec6d4d4",
        "outputId": "45f6a44d-be88-4c95-97fd-b8709c5e5bea"
      },
      "outputs": [
        {
          "output_type": "display_data",
          "data": {
            "text/plain": [
              "<Figure size 1200x1000 with 1 Axes>"
            ],
            "image/png": "[encoded data removed]"
          },
          "metadata": {}
        }
      ],
      "source": [
        "### Amount spent per visit\n",
        "data['Spend per Visit'] = data['Spend per Visit'].replace({'Zero' : '1. Zero',\n",
        "                                        'Less than RM20' : '2. Less than RM20',\n",
        "                                        'Around RM20 - RM40' : '3. Around RM20 - RM40',\n",
        "                                        'More than RM40' : '4. More than RM40'})\n",
        "data = data.sort_values('Spend per Visit')\n",
        "\n",
        "plot_bar(feature ='Spend per Visit', figsize = (12,10))"
      ]
    },
    {
      "cell_type": "code",
      "execution_count": null,
      "id": "a929aaaa",
      "metadata": {
        "ExecuteTime": {
          "end_time": "2023-04-17T22:38:38.653412Z",
          "start_time": "2023-04-17T22:38:38.164837Z"
        },
        "colab": {
          "base_uri": "https://localhost:8080/",
          "height": 699
        },
        "id": "a929aaaa",
        "outputId": "c20b83a5-1e86-42ed-a2f3-d5aee95b1466"
      },
      "outputs": [
        {
          "output_type": "display_data",
          "data": {
            "text/plain": [
              "<Figure size 1000x800 with 1 Axes>"
            ],
            "image/png": "[encoded data removed]"
          },
          "metadata": {}
        }
      ],
      "source": [
        "### Membership\n",
        "plot_bar(feature ='Membership', figsize = (10,8))"
      ]
    },
    {
      "cell_type": "code",
      "execution_count": null,
      "id": "4e58a37e",
      "metadata": {
        "ExecuteTime": {
          "end_time": "2023-04-17T22:38:38.668744Z",
          "start_time": "2023-04-17T22:38:38.658814Z"
        },
        "id": "4e58a37e"
      },
      "outputs": [],
      "source": [
        "### Change ALL categorical features to numeric"
      ]
    },
    {
      "cell_type": "code",
      "execution_count": null,
      "id": "01cdaa34",
      "metadata": {
        "ExecuteTime": {
          "end_time": "2023-04-17T22:38:38.715095Z",
          "start_time": "2023-04-17T22:38:38.673736Z"
        },
        "id": "01cdaa34"
      },
      "outputs": [],
      "source": [
        "data[\"Gender\"].replace({\"Female\": 1, \"Male\": 0}, inplace=True)\n",
        "data[\"Age\"].replace({\"1. Below 20\": 0, \"2. From 20 to 29\": 1, \"3. From 30 to 39\": 2, \"4. 40 and Above\": 3}, inplace=True)\n",
        "data[\"Profession\"].replace({\"Student\": 0, \"Employed\": 1, \"Self-employed\": 2, \"Housewife\": 3}, inplace=True)\n",
        "data[\"Income\"].replace({\"1. Less than RM25,000\": 0, \"2. RM25,000 - RM50,000\": 1, \"3. RM50,000 - RM100,000\": 2, \"4. RM100,000 - RM150,000\": 3, \"5. More than RM150,000\": 4}, inplace=True)\n",
        "data[\"Visit Frequency\"].replace({\"Never\": 0, \"Rarely\": 1, \"Monthly\": 2, \"Weekly\": 3, \"Daily\": 4}, inplace=True)\n",
        "data[\"Prefered Form of Consumption\"].replace({\"None\": 0, \"Take away\": 1, \"Drive-thru\": 2, \"Dine in\": 3}, inplace=True)\n",
        "data[\"Time Spent on Visit\"].replace({\"Below 30 minutes\": 0, \"Between 30 minutes to 1 hour\": 1, \"Between 1 hour to 2 hours\": 2, \"Between 2 hours to 3 hours\": 3, \"More than 3 hours\": 4}, inplace=True)\n",
        "data[\"Distance to Store\"].replace({\"within 1km\": 0, \"1km - 3km\": 1, \"more than 3km\": 2}, inplace=True)\n",
        "data[\"Membership\"].replace({\"No\": 0, \"Yes\": 1}, inplace=True)\n",
        "data[\"Spend per Visit\"].replace({\"1. Zero\": 0, \"2. Less than RM20\": 1, \"3. Around RM20 - RM40\": 2, \"4. More than RM40\": 3}, inplace=True)\n",
        "data[\"Custumer Loyalty\"].replace({\"No\": 0, \"Yes\": 1}, inplace=True)"
      ]
    },
    {
      "cell_type": "code",
      "execution_count": null,
      "id": "c2006011",
      "metadata": {
        "ExecuteTime": {
          "end_time": "2023-04-17T22:38:38.760989Z",
          "start_time": "2023-04-17T22:38:38.720879Z"
        },
        "colab": {
          "base_uri": "https://localhost:8080/",
          "height": 302
        },
        "id": "c2006011",
        "outputId": "2696bd5c-3e85-412f-eb15-27cdd7399c77"
      },
      "outputs": [
        {
          "output_type": "execute_result",
          "data": {
            "text/plain": [
              "     Gender  Age  Profession  Income  Visit Frequency  \\\n",
              "89        0    1           2       1                1   \n",
              "110       0    1           0       0                1   \n",
              "92        1    1           1       1                0   \n",
              "47        1    1           2       0                1   \n",
              "81        0    1           1       0                0   \n",
              "\n",
              "     Prefered Form of Consumption  Time Spent on Visit  Distance to Store  \\\n",
              "89                              3                    0                  1   \n",
              "110                             1                    0                  2   \n",
              "92                              3                    0                  0   \n",
              "47                              1                    1                  2   \n",
              "81                              0                    0                  2   \n",
              "\n",
              "     Membership  Spend per Visit  Quality Rate  Price Range Rate  \\\n",
              "89            1                0             5                 5   \n",
              "110           0                0             4                 2   \n",
              "92            0                0             3                 3   \n",
              "47            0                0             3                 1   \n",
              "81            0                0             1                 1   \n",
              "\n",
              "     Sales and Promotion Importance  Ambiance Rate  WiFi Quality Rate  \\\n",
              "89                                5              5                  4   \n",
              "110                               3              5                  4   \n",
              "92                                3              3                  3   \n",
              "47                                5              4                  3   \n",
              "81                                1              3                  3   \n",
              "\n",
              "     Service Rate  Likely for Meetings or Hangouts  Custumer Loyalty  \n",
              "89              5                                5                 1  \n",
              "110             4                                2                 0  \n",
              "92              3                                3                 0  \n",
              "47              3                                2                 1  \n",
              "81              3                                3                 0  "
            ],
            "text/html": [
              "\n",
              "  <div id=\"df-2e4fa576-efe1-408b-bc22-6bbd5d0eab69\">\n",
              "    <div class=\"colab-df-container\">\n",
              "      <div>\n",
              "<style scoped>\n",
              "    .dataframe tbody tr th:only-of-type {\n",
              "        vertical-align: middle;\n",
              "    }\n",
              "\n",
              "    .dataframe tbody tr th {\n",
              "        vertical-align: top;\n",
              "    }\n",
              "\n",
              "    .dataframe thead th {\n",
              "        text-align: right;\n",
              "    }\n",
              "</style>\n",
              "<table border=\"1\" class=\"dataframe\">\n",
              "  <thead>\n",
              "    <tr style=\"text-align: right;\">\n",
              "      <th></th>\n",
              "      <th>Gender</th>\n",
              "      <th>Age</th>\n",
              "      <th>Profession</th>\n",
              "      <th>Income</th>\n",
              "      <th>Visit Frequency</th>\n",
              "      <th>Prefered Form of Consumption</th>\n",
              "      <th>Time Spent on Visit</th>\n",
              "      <th>Distance to Store</th>\n",
              "      <th>Membership</th>\n",
              "      <th>Spend per Visit</th>\n",
              "      <th>Quality Rate</th>\n",
              "      <th>Price Range Rate</th>\n",
              "      <th>Sales and Promotion Importance</th>\n",
              "      <th>Ambiance Rate</th>\n",
              "      <th>WiFi Quality Rate</th>\n",
              "      <th>Service Rate</th>\n",
              "      <th>Likely for Meetings or Hangouts</th>\n",
              "      <th>Custumer Loyalty</th>\n",
              "    </tr>\n",
              "  </thead>\n",
              "  <tbody>\n",
              "    <tr>\n",
              "      <th>89</th>\n",
              "      <td>0</td>\n",
              "      <td>1</td>\n",
              "      <td>2</td>\n",
              "      <td>1</td>\n",
              "      <td>1</td>\n",
              "      <td>3</td>\n",
              "      <td>0</td>\n",
              "      <td>1</td>\n",
              "      <td>1</td>\n",
              "      <td>0</td>\n",
              "      <td>5</td>\n",
              "      <td>5</td>\n",
              "      <td>5</td>\n",
              "      <td>5</td>\n",
              "      <td>4</td>\n",
              "      <td>5</td>\n",
              "      <td>5</td>\n",
              "      <td>1</td>\n",
              "    </tr>\n",
              "    <tr>\n",
              "      <th>110</th>\n",
              "      <td>0</td>\n",
              "      <td>1</td>\n",
              "      <td>0</td>\n",
              "      <td>0</td>\n",
              "      <td>1</td>\n",
              "      <td>1</td>\n",
              "      <td>0</td>\n",
              "      <td>2</td>\n",
              "      <td>0</td>\n",
              "      <td>0</td>\n",
              "      <td>4</td>\n",
              "      <td>2</td>\n",
              "      <td>3</td>\n",
              "      <td>5</td>\n",
              "      <td>4</td>\n",
              "      <td>4</td>\n",
              "      <td>2</td>\n",
              "      <td>0</td>\n",
              "    </tr>\n",
              "    <tr>\n",
              "      <th>92</th>\n",
              "      <td>1</td>\n",
              "      <td>1</td>\n",
              "      <td>1</td>\n",
              "      <td>1</td>\n",
              "      <td>0</td>\n",
              "      <td>3</td>\n",
              "      <td>0</td>\n",
              "      <td>0</td>\n",
              "      <td>0</td>\n",
              "      <td>0</td>\n",
              "      <td>3</td>\n",
              "      <td>3</td>\n",
              "      <td>3</td>\n",
              "      <td>3</td>\n",
              "      <td>3</td>\n",
              "      <td>3</td>\n",
              "      <td>3</td>\n",
              "      <td>0</td>\n",
              "    </tr>\n",
              "    <tr>\n",
              "      <th>47</th>\n",
              "      <td>1</td>\n",
              "      <td>1</td>\n",
              "      <td>2</td>\n",
              "      <td>0</td>\n",
              "      <td>1</td>\n",
              "      <td>1</td>\n",
              "      <td>1</td>\n",
              "      <td>2</td>\n",
              "      <td>0</td>\n",
              "      <td>0</td>\n",
              "      <td>3</td>\n",
              "      <td>1</td>\n",
              "      <td>5</td>\n",
              "      <td>4</td>\n",
              "      <td>3</td>\n",
              "      <td>3</td>\n",
              "      <td>2</td>\n",
              "      <td>1</td>\n",
              "    </tr>\n",
              "    <tr>\n",
              "      <th>81</th>\n",
              "      <td>0</td>\n",
              "      <td>1</td>\n",
              "      <td>1</td>\n",
              "      <td>0</td>\n",
              "      <td>0</td>\n",
              "      <td>0</td>\n",
              "      <td>0</td>\n",
              "      <td>2</td>\n",
              "      <td>0</td>\n",
              "      <td>0</td>\n",
              "      <td>1</td>\n",
              "      <td>1</td>\n",
              "      <td>1</td>\n",
              "      <td>3</td>\n",
              "      <td>3</td>\n",
              "      <td>3</td>\n",
              "      <td>3</td>\n",
              "      <td>0</td>\n",
              "    </tr>\n",
              "  </tbody>\n",
              "</table>\n",
              "</div>\n",
              "      <button class=\"colab-df-convert\" onclick=\"convertToInteractive('df-2e4fa576-efe1-408b-bc22-6bbd5d0eab69')\"\n",
              "              title=\"Convert this dataframe to an interactive table.\"\n",
              "              style=\"display:none;\">\n",
              "        \n",
              "  <svg xmlns=\"http://www.w3.org/2000/svg\" height=\"24px\"viewBox=\"0 0 24 24\"\n",
              "       width=\"24px\">\n",
              "    <path d=\"M0 0h24v24H0V0z\" fill=\"none\"/>\n",
              "    <path d=\"M18.56 5.44l.94 2.06.94-2.06 2.06-.94-2.06-.94-.94-2.06-.94 2.06-2.06.94zm-11 1L8.5 8.5l.94-2.06 2.06-.94-2.06-.94L8.5 2.5l-.94 2.06-2.06.94zm10 10l.94 2.06.94-2.06 2.06-.94-2.06-.94-.94-2.06-.94 2.06-2.06.94z\"/><path d=\"M17.41 7.96l-1.37-1.37c-.4-.4-.92-.59-1.43-.59-.52 0-1.04.2-1.43.59L10.3 9.45l-7.72 7.72c-.78.78-.78 2.05 0 2.83L4 21.41c.39.39.9.59 1.41.59.51 0 1.02-.2 1.41-.59l7.78-7.78 2.81-2.81c.8-.78.8-2.07 0-2.86zM5.41 20L4 18.59l7.72-7.72 1.47 1.35L5.41 20z\"/>\n",
              "  </svg>\n",
              "      </button>\n",
              "      \n",
              "  <style>\n",
              "    .colab-df-container {\n",
              "      display:flex;\n",
              "      flex-wrap:wrap;\n",
              "      gap: 12px;\n",
              "    }\n",
              "\n",
              "    .colab-df-convert {\n",
              "      background-color: #E8F0FE;\n",
              "      border: none;\n",
              "      border-radius: 50%;\n",
              "      cursor: pointer;\n",
              "      display: none;\n",
              "      fill: #1967D2;\n",
              "      height: 32px;\n",
              "      padding: 0 0 0 0;\n",
              "      width: 32px;\n",
              "    }\n",
              "\n",
              "    .colab-df-convert:hover {\n",
              "      background-color: #E2EBFA;\n",
              "      box-shadow: 0px 1px 2px rgba(60, 64, 67, 0.3), 0px 1px 3px 1px rgba(60, 64, 67, 0.15);\n",
              "      fill: #174EA6;\n",
              "    }\n",
              "\n",
              "    [theme=dark] .colab-df-convert {\n",
              "      background-color: #3B4455;\n",
              "      fill: #D2E3FC;\n",
              "    }\n",
              "\n",
              "    [theme=dark] .colab-df-convert:hover {\n",
              "      background-color: #434B5C;\n",
              "      box-shadow: 0px 1px 3px 1px rgba(0, 0, 0, 0.15);\n",
              "      filter: drop-shadow(0px 1px 2px rgba(0, 0, 0, 0.3));\n",
              "      fill: #FFFFFF;\n",
              "    }\n",
              "  </style>\n",
              "\n",
              "      <script>\n",
              "        const buttonEl =\n",
              "          document.querySelector('#df-2e4fa576-efe1-408b-bc22-6bbd5d0eab69 button.colab-df-convert');\n",
              "        buttonEl.style.display =\n",
              "          google.colab.kernel.accessAllowed ? 'block' : 'none';\n",
              "\n",
              "        async function convertToInteractive(key) {\n",
              "          const element = document.querySelector('#df-2e4fa576-efe1-408b-bc22-6bbd5d0eab69');\n",
              "          const dataTable =\n",
              "            await google.colab.kernel.invokeFunction('convertToInteractive',\n",
              "                                                     [key], {});\n",
              "          if (!dataTable) return;\n",
              "\n",
              "          const docLinkHtml = 'Like what you see? Visit the ' +\n",
              "            '<a target=\"_blank\" href=https://colab.research.google.com/notebooks/data_table.ipynb>data table notebook</a>'\n",
              "            + ' to learn more about interactive tables.';\n",
              "          element.innerHTML = '';\n",
              "          dataTable['output_type'] = 'display_data';\n",
              "          await google.colab.output.renderOutput(dataTable, element);\n",
              "          const docLink = document.createElement('div');\n",
              "          docLink.innerHTML = docLinkHtml;\n",
              "          element.appendChild(docLink);\n",
              "        }\n",
              "      </script>\n",
              "    </div>\n",
              "  </div>\n",
              "  "
            ]
          },
          "metadata": {},
          "execution_count": 21
        }
      ],
      "source": [
        "data1=data.drop([\"Timestamp\", \"Most consumed Product\",\"Form of communication to Promotions\"],axis=1)\n",
        "data1.head()"
      ]
    },
    {
      "cell_type": "code",
      "execution_count": null,
      "id": "54f74855",
      "metadata": {
        "ExecuteTime": {
          "end_time": "2023-04-17T22:38:38.884060Z",
          "start_time": "2023-04-17T22:38:38.767163Z"
        },
        "colab": {
          "base_uri": "https://localhost:8080/",
          "height": 614
        },
        "id": "54f74855",
        "outputId": "132ab30e-b55d-4d41-a101-f238fb6d4904"
      },
      "outputs": [
        {
          "output_type": "execute_result",
          "data": {
            "text/plain": [
              "                                 count      mean       std  min  25%  50%  \\\n",
              "Gender                           122.0  0.532787  0.500981  0.0  0.0  1.0   \n",
              "Age                              122.0  1.147541  0.676307  0.0  1.0  1.0   \n",
              "Profession                       122.0  0.827869  0.723771  0.0  0.0  1.0   \n",
              "Income                           122.0  0.754098  1.100800  0.0  0.0  0.0   \n",
              "Visit Frequency                  122.0  1.336066  0.788457  0.0  1.0  1.0   \n",
              "Prefered Form of Consumption     122.0  1.860656  0.998475  0.0  1.0  2.0   \n",
              "Time Spent on Visit              122.0  0.565574  0.833074  0.0  0.0  0.0   \n",
              "Distance to Store                122.0  1.278689  0.805583  0.0  1.0  1.5   \n",
              "Membership                       122.0  0.491803  0.501994  0.0  0.0  0.0   \n",
              "Spend per Visit                  122.0  1.385246  0.743531  0.0  1.0  1.0   \n",
              "Quality Rate                     122.0  3.663934  0.941343  1.0  3.0  4.0   \n",
              "Price Range Rate                 122.0  2.893443  1.081836  1.0  2.0  3.0   \n",
              "Sales and Promotion Importance   122.0  3.795082  1.090443  1.0  3.0  4.0   \n",
              "Ambiance Rate                    122.0  3.754098  0.929867  1.0  3.0  4.0   \n",
              "WiFi Quality Rate                122.0  3.254098  0.958317  1.0  3.0  3.0   \n",
              "Service Rate                     122.0  3.745902  0.828834  1.0  3.0  4.0   \n",
              "Likely for Meetings or Hangouts  122.0  3.516393  1.030394  1.0  3.0  4.0   \n",
              "Custumer Loyalty                 122.0  0.770492  0.422251  0.0  1.0  1.0   \n",
              "\n",
              "                                 75%  max  \n",
              "Gender                           1.0  1.0  \n",
              "Age                              1.0  3.0  \n",
              "Profession                       1.0  3.0  \n",
              "Income                           1.0  4.0  \n",
              "Visit Frequency                  2.0  4.0  \n",
              "Prefered Form of Consumption     3.0  3.0  \n",
              "Time Spent on Visit              1.0  4.0  \n",
              "Distance to Store                2.0  2.0  \n",
              "Membership                       1.0  1.0  \n",
              "Spend per Visit                  2.0  3.0  \n",
              "Quality Rate                     4.0  5.0  \n",
              "Price Range Rate                 4.0  5.0  \n",
              "Sales and Promotion Importance   5.0  5.0  \n",
              "Ambiance Rate                    4.0  5.0  \n",
              "WiFi Quality Rate                4.0  5.0  \n",
              "Service Rate                     4.0  5.0  \n",
              "Likely for Meetings or Hangouts  4.0  5.0  \n",
              "Custumer Loyalty                 1.0  1.0  "
            ],
            "text/html": [
              "\n",
              "  <div id=\"df-e030c64d-0612-4893-952b-39214ea42218\">\n",
              "    <div class=\"colab-df-container\">\n",
              "      <div>\n",
              "<style scoped>\n",
              "    .dataframe tbody tr th:only-of-type {\n",
              "        vertical-align: middle;\n",
              "    }\n",
              "\n",
              "    .dataframe tbody tr th {\n",
              "        vertical-align: top;\n",
              "    }\n",
              "\n",
              "    .dataframe thead th {\n",
              "        text-align: right;\n",
              "    }\n",
              "</style>\n",
              "<table border=\"1\" class=\"dataframe\">\n",
              "  <thead>\n",
              "    <tr style=\"text-align: right;\">\n",
              "      <th></th>\n",
              "      <th>count</th>\n",
              "      <th>mean</th>\n",
              "      <th>std</th>\n",
              "      <th>min</th>\n",
              "      <th>25%</th>\n",
              "      <th>50%</th>\n",
              "      <th>75%</th>\n",
              "      <th>max</th>\n",
              "    </tr>\n",
              "  </thead>\n",
              "  <tbody>\n",
              "    <tr>\n",
              "      <th>Gender</th>\n",
              "      <td>122.0</td>\n",
              "      <td>0.532787</td>\n",
              "      <td>0.500981</td>\n",
              "      <td>0.0</td>\n",
              "      <td>0.0</td>\n",
              "      <td>1.0</td>\n",
              "      <td>1.0</td>\n",
              "      <td>1.0</td>\n",
              "    </tr>\n",
              "    <tr>\n",
              "      <th>Age</th>\n",
              "      <td>122.0</td>\n",
              "      <td>1.147541</td>\n",
              "      <td>0.676307</td>\n",
              "      <td>0.0</td>\n",
              "      <td>1.0</td>\n",
              "      <td>1.0</td>\n",
              "      <td>1.0</td>\n",
              "      <td>3.0</td>\n",
              "    </tr>\n",
              "    <tr>\n",
              "      <th>Profession</th>\n",
              "      <td>122.0</td>\n",
              "      <td>0.827869</td>\n",
              "      <td>0.723771</td>\n",
              "      <td>0.0</td>\n",
              "      <td>0.0</td>\n",
              "      <td>1.0</td>\n",
              "      <td>1.0</td>\n",
              "      <td>3.0</td>\n",
              "    </tr>\n",
              "    <tr>\n",
              "      <th>Income</th>\n",
              "      <td>122.0</td>\n",
              "      <td>0.754098</td>\n",
              "      <td>1.100800</td>\n",
              "      <td>0.0</td>\n",
              "      <td>0.0</td>\n",
              "      <td>0.0</td>\n",
              "      <td>1.0</td>\n",
              "      <td>4.0</td>\n",
              "    </tr>\n",
              "    <tr>\n",
              "      <th>Visit Frequency</th>\n",
              "      <td>122.0</td>\n",
              "      <td>1.336066</td>\n",
              "      <td>0.788457</td>\n",
              "      <td>0.0</td>\n",
              "      <td>1.0</td>\n",
              "      <td>1.0</td>\n",
              "      <td>2.0</td>\n",
              "      <td>4.0</td>\n",
              "    </tr>\n",
              "    <tr>\n",
              "      <th>Prefered Form of Consumption</th>\n",
              "      <td>122.0</td>\n",
              "      <td>1.860656</td>\n",
              "      <td>0.998475</td>\n",
              "      <td>0.0</td>\n",
              "      <td>1.0</td>\n",
              "      <td>2.0</td>\n",
              "      <td>3.0</td>\n",
              "      <td>3.0</td>\n",
              "    </tr>\n",
              "    <tr>\n",
              "      <th>Time Spent on Visit</th>\n",
              "      <td>122.0</td>\n",
              "      <td>0.565574</td>\n",
              "      <td>0.833074</td>\n",
              "      <td>0.0</td>\n",
              "      <td>0.0</td>\n",
              "      <td>0.0</td>\n",
              "      <td>1.0</td>\n",
              "      <td>4.0</td>\n",
              "    </tr>\n",
              "    <tr>\n",
              "      <th>Distance to Store</th>\n",
              "      <td>122.0</td>\n",
              "      <td>1.278689</td>\n",
              "      <td>0.805583</td>\n",
              "      <td>0.0</td>\n",
              "      <td>1.0</td>\n",
              "      <td>1.5</td>\n",
              "      <td>2.0</td>\n",
              "      <td>2.0</td>\n",
              "    </tr>\n",
              "    <tr>\n",
              "      <th>Membership</th>\n",
              "      <td>122.0</td>\n",
              "      <td>0.491803</td>\n",
              "      <td>0.501994</td>\n",
              "      <td>0.0</td>\n",
              "      <td>0.0</td>\n",
              "      <td>0.0</td>\n",
              "      <td>1.0</td>\n",
              "      <td>1.0</td>\n",
              "    </tr>\n",
              "    <tr>\n",
              "      <th>Spend per Visit</th>\n",
              "      <td>122.0</td>\n",
              "      <td>1.385246</td>\n",
              "      <td>0.743531</td>\n",
              "      <td>0.0</td>\n",
              "      <td>1.0</td>\n",
              "      <td>1.0</td>\n",
              "      <td>2.0</td>\n",
              "      <td>3.0</td>\n",
              "    </tr>\n",
              "    <tr>\n",
              "      <th>Quality Rate</th>\n",
              "      <td>122.0</td>\n",
              "      <td>3.663934</td>\n",
              "      <td>0.941343</td>\n",
              "      <td>1.0</td>\n",
              "      <td>3.0</td>\n",
              "      <td>4.0</td>\n",
              "      <td>4.0</td>\n",
              "      <td>5.0</td>\n",
              "    </tr>\n",
              "    <tr>\n",
              "      <th>Price Range Rate</th>\n",
              "      <td>122.0</td>\n",
              "      <td>2.893443</td>\n",
              "      <td>1.081836</td>\n",
              "      <td>1.0</td>\n",
              "      <td>2.0</td>\n",
              "      <td>3.0</td>\n",
              "      <td>4.0</td>\n",
              "      <td>5.0</td>\n",
              "    </tr>\n",
              "    <tr>\n",
              "      <th>Sales and Promotion Importance</th>\n",
              "      <td>122.0</td>\n",
              "      <td>3.795082</td>\n",
              "      <td>1.090443</td>\n",
              "      <td>1.0</td>\n",
              "      <td>3.0</td>\n",
              "      <td>4.0</td>\n",
              "      <td>5.0</td>\n",
              "      <td>5.0</td>\n",
              "    </tr>\n",
              "    <tr>\n",
              "      <th>Ambiance Rate</th>\n",
              "      <td>122.0</td>\n",
              "      <td>3.754098</td>\n",
              "      <td>0.929867</td>\n",
              "      <td>1.0</td>\n",
              "      <td>3.0</td>\n",
              "      <td>4.0</td>\n",
              "      <td>4.0</td>\n",
              "      <td>5.0</td>\n",
              "    </tr>\n",
              "    <tr>\n",
              "      <th>WiFi Quality Rate</th>\n",
              "      <td>122.0</td>\n",
              "      <td>3.254098</td>\n",
              "      <td>0.958317</td>\n",
              "      <td>1.0</td>\n",
              "      <td>3.0</td>\n",
              "      <td>3.0</td>\n",
              "      <td>4.0</td>\n",
              "      <td>5.0</td>\n",
              "    </tr>\n",
              "    <tr>\n",
              "      <th>Service Rate</th>\n",
              "      <td>122.0</td>\n",
              "      <td>3.745902</td>\n",
              "      <td>0.828834</td>\n",
              "      <td>1.0</td>\n",
              "      <td>3.0</td>\n",
              "      <td>4.0</td>\n",
              "      <td>4.0</td>\n",
              "      <td>5.0</td>\n",
              "    </tr>\n",
              "    <tr>\n",
              "      <th>Likely for Meetings or Hangouts</th>\n",
              "      <td>122.0</td>\n",
              "      <td>3.516393</td>\n",
              "      <td>1.030394</td>\n",
              "      <td>1.0</td>\n",
              "      <td>3.0</td>\n",
              "      <td>4.0</td>\n",
              "      <td>4.0</td>\n",
              "      <td>5.0</td>\n",
              "    </tr>\n",
              "    <tr>\n",
              "      <th>Custumer Loyalty</th>\n",
              "      <td>122.0</td>\n",
              "      <td>0.770492</td>\n",
              "      <td>0.422251</td>\n",
              "      <td>0.0</td>\n",
              "      <td>1.0</td>\n",
              "      <td>1.0</td>\n",
              "      <td>1.0</td>\n",
              "      <td>1.0</td>\n",
              "    </tr>\n",
              "  </tbody>\n",
              "</table>\n",
              "</div>\n",
              "      <button class=\"colab-df-convert\" onclick=\"convertToInteractive('df-e030c64d-0612-4893-952b-39214ea42218')\"\n",
              "              title=\"Convert this dataframe to an interactive table.\"\n",
              "              style=\"display:none;\">\n",
              "        \n",
              "  <svg xmlns=\"http://www.w3.org/2000/svg\" height=\"24px\"viewBox=\"0 0 24 24\"\n",
              "       width=\"24px\">\n",
              "    <path d=\"M0 0h24v24H0V0z\" fill=\"none\"/>\n",
              "    <path d=\"M18.56 5.44l.94 2.06.94-2.06 2.06-.94-2.06-.94-.94-2.06-.94 2.06-2.06.94zm-11 1L8.5 8.5l.94-2.06 2.06-.94-2.06-.94L8.5 2.5l-.94 2.06-2.06.94zm10 10l.94 2.06.94-2.06 2.06-.94-2.06-.94-.94-2.06-.94 2.06-2.06.94z\"/><path d=\"M17.41 7.96l-1.37-1.37c-.4-.4-.92-.59-1.43-.59-.52 0-1.04.2-1.43.59L10.3 9.45l-7.72 7.72c-.78.78-.78 2.05 0 2.83L4 21.41c.39.39.9.59 1.41.59.51 0 1.02-.2 1.41-.59l7.78-7.78 2.81-2.81c.8-.78.8-2.07 0-2.86zM5.41 20L4 18.59l7.72-7.72 1.47 1.35L5.41 20z\"/>\n",
              "  </svg>\n",
              "      </button>\n",
              "      \n",
              "  <style>\n",
              "    .colab-df-container {\n",
              "      display:flex;\n",
              "      flex-wrap:wrap;\n",
              "      gap: 12px;\n",
              "    }\n",
              "\n",
              "    .colab-df-convert {\n",
              "      background-color: #E8F0FE;\n",
              "      border: none;\n",
              "      border-radius: 50%;\n",
              "      cursor: pointer;\n",
              "      display: none;\n",
              "      fill: #1967D2;\n",
              "      height: 32px;\n",
              "      padding: 0 0 0 0;\n",
              "      width: 32px;\n",
              "    }\n",
              "\n",
              "    .colab-df-convert:hover {\n",
              "      background-color: #E2EBFA;\n",
              "      box-shadow: 0px 1px 2px rgba(60, 64, 67, 0.3), 0px 1px 3px 1px rgba(60, 64, 67, 0.15);\n",
              "      fill: #174EA6;\n",
              "    }\n",
              "\n",
              "    [theme=dark] .colab-df-convert {\n",
              "      background-color: #3B4455;\n",
              "      fill: #D2E3FC;\n",
              "    }\n",
              "\n",
              "    [theme=dark] .colab-df-convert:hover {\n",
              "      background-color: #434B5C;\n",
              "      box-shadow: 0px 1px 3px 1px rgba(0, 0, 0, 0.15);\n",
              "      filter: drop-shadow(0px 1px 2px rgba(0, 0, 0, 0.3));\n",
              "      fill: #FFFFFF;\n",
              "    }\n",
              "  </style>\n",
              "\n",
              "      <script>\n",
              "        const buttonEl =\n",
              "          document.querySelector('#df-e030c64d-0612-4893-952b-39214ea42218 button.colab-df-convert');\n",
              "        buttonEl.style.display =\n",
              "          google.colab.kernel.accessAllowed ? 'block' : 'none';\n",
              "\n",
              "        async function convertToInteractive(key) {\n",
              "          const element = document.querySelector('#df-e030c64d-0612-4893-952b-39214ea42218');\n",
              "          const dataTable =\n",
              "            await google.colab.kernel.invokeFunction('convertToInteractive',\n",
              "                                                     [key], {});\n",
              "          if (!dataTable) return;\n",
              "\n",
              "          const docLinkHtml = 'Like what you see? Visit the ' +\n",
              "            '<a target=\"_blank\" href=https://colab.research.google.com/notebooks/data_table.ipynb>data table notebook</a>'\n",
              "            + ' to learn more about interactive tables.';\n",
              "          element.innerHTML = '';\n",
              "          dataTable['output_type'] = 'display_data';\n",
              "          await google.colab.output.renderOutput(dataTable, element);\n",
              "          const docLink = document.createElement('div');\n",
              "          docLink.innerHTML = docLinkHtml;\n",
              "          element.appendChild(docLink);\n",
              "        }\n",
              "      </script>\n",
              "    </div>\n",
              "  </div>\n",
              "  "
            ]
          },
          "metadata": {},
          "execution_count": 22
        }
      ],
      "source": [
        "#### Descriptive Analysis\n",
        "data1.describe().T"
      ]
    },
    {
      "cell_type": "code",
      "execution_count": null,
      "id": "bf995824",
      "metadata": {
        "ExecuteTime": {
          "end_time": "2023-04-17T22:38:42.225348Z",
          "start_time": "2023-04-17T22:38:38.888341Z"
        },
        "colab": {
          "base_uri": "https://localhost:8080/",
          "height": 1000
        },
        "id": "bf995824",
        "outputId": "40361cad-dd43-4bbd-f3ba-9af10cf0d4f2"
      },
      "outputs": [
        {
          "output_type": "execute_result",
          "data": {
            "text/plain": [
              "<Axes: >"
            ]
          },
          "metadata": {},
          "execution_count": 23
        },
        {
          "output_type": "display_data",
          "data": {
            "text/plain": [
              "<Figure size 2500x2000 with 2 Axes>"
            ],
            "image/png": "[encoded data removed]"
          },
          "metadata": {}
        }
      ],
      "source": [
        "### Inferential Analysis\n",
        "#Visualize the correlation\n",
        "corr = data1.corr().round(2)\n",
        "plt.figure(figsize=(25,20))\n",
        "sns.heatmap(corr, annot=True, cmap=\"YlGnBu\")"
      ]
    },
    {
      "cell_type": "code",
      "execution_count": null,
      "id": "0f8b702e",
      "metadata": {
        "ExecuteTime": {
          "end_time": "2023-04-17T22:38:42.256428Z",
          "start_time": "2023-04-17T22:38:42.233645Z"
        },
        "id": "0f8b702e"
      },
      "outputs": [],
      "source": [
        "y = data1['Custumer Loyalty'].values\n",
        "X=data1.drop([\"Custumer Loyalty\"],axis=1)"
      ]
    },
    {
      "cell_type": "code",
      "execution_count": null,
      "id": "4a0aaef4",
      "metadata": {
        "ExecuteTime": {
          "end_time": "2023-04-17T22:38:42.271797Z",
          "start_time": "2023-04-17T22:38:42.261672Z"
        },
        "id": "4a0aaef4"
      },
      "outputs": [],
      "source": [
        "#K-Means & PCA for Customer Segmentation"
      ]
    },
    {
      "cell_type": "code",
      "execution_count": null,
      "id": "35a3466b",
      "metadata": {
        "ExecuteTime": {
          "end_time": "2023-04-17T22:38:51.199968Z",
          "start_time": "2023-04-17T22:38:42.277248Z"
        },
        "colab": {
          "base_uri": "https://localhost:8080/"
        },
        "id": "35a3466b",
        "outputId": "3b4903b4-7515-4fc4-98e3-7551722215d9"
      },
      "outputs": [
        {
          "output_type": "stream",
          "name": "stderr",
          "text": [
            "/usr/local/lib/python3.10/dist-packages/sklearn/cluster/_kmeans.py:870: FutureWarning: The default value of `n_init` will change from 10 to 'auto' in 1.4. Set the value of `n_init` explicitly to suppress the warning\n",
            "  warnings.warn(\n",
            "/usr/local/lib/python3.10/dist-packages/sklearn/cluster/_kmeans.py:870: FutureWarning: The default value of `n_init` will change from 10 to 'auto' in 1.4. Set the value of `n_init` explicitly to suppress the warning\n",
            "  warnings.warn(\n",
            "/usr/local/lib/python3.10/dist-packages/sklearn/cluster/_kmeans.py:870: FutureWarning: The default value of `n_init` will change from 10 to 'auto' in 1.4. Set the value of `n_init` explicitly to suppress the warning\n",
            "  warnings.warn(\n",
            "/usr/local/lib/python3.10/dist-packages/sklearn/cluster/_kmeans.py:870: FutureWarning: The default value of `n_init` will change from 10 to 'auto' in 1.4. Set the value of `n_init` explicitly to suppress the warning\n",
            "  warnings.warn(\n",
            "/usr/local/lib/python3.10/dist-packages/sklearn/cluster/_kmeans.py:870: FutureWarning: The default value of `n_init` will change from 10 to 'auto' in 1.4. Set the value of `n_init` explicitly to suppress the warning\n",
            "  warnings.warn(\n",
            "/usr/local/lib/python3.10/dist-packages/sklearn/cluster/_kmeans.py:870: FutureWarning: The default value of `n_init` will change from 10 to 'auto' in 1.4. Set the value of `n_init` explicitly to suppress the warning\n",
            "  warnings.warn(\n",
            "/usr/local/lib/python3.10/dist-packages/sklearn/cluster/_kmeans.py:870: FutureWarning: The default value of `n_init` will change from 10 to 'auto' in 1.4. Set the value of `n_init` explicitly to suppress the warning\n",
            "  warnings.warn(\n",
            "/usr/local/lib/python3.10/dist-packages/sklearn/cluster/_kmeans.py:870: FutureWarning: The default value of `n_init` will change from 10 to 'auto' in 1.4. Set the value of `n_init` explicitly to suppress the warning\n",
            "  warnings.warn(\n",
            "/usr/local/lib/python3.10/dist-packages/sklearn/cluster/_kmeans.py:870: FutureWarning: The default value of `n_init` will change from 10 to 'auto' in 1.4. Set the value of `n_init` explicitly to suppress the warning\n",
            "  warnings.warn(\n"
          ]
        }
      ],
      "source": [
        "from sklearn.cluster import KMeans\n",
        "from sklearn.decomposition import PCA\n",
        "pca = PCA(n_components=2)\n",
        "principalComponents = pca.fit_transform(X)\n",
        "\n",
        "cluster_range = range(1, 10,1)\n",
        "cluster_errors = []\n",
        "\n",
        "for num_clusters in cluster_range:\n",
        "  clusters = KMeans(num_clusters)\n",
        "  clusters.fit(principalComponents)\n",
        "  cluster_errors.append(clusters.inertia_)\n",
        "\n",
        "\n",
        "clusters_df = pd.DataFrame( { \"num_clusters\":cluster_range, \"cluster_errors\": cluster_errors } )"
      ]
    },
    {
      "cell_type": "code",
      "execution_count": null,
      "id": "c06c9f98",
      "metadata": {
        "ExecuteTime": {
          "end_time": "2023-04-17T22:38:51.881585Z",
          "start_time": "2023-04-17T22:38:51.204339Z"
        },
        "colab": {
          "base_uri": "https://localhost:8080/"
        },
        "id": "c06c9f98",
        "outputId": "00254b41-cac5-4ffa-ae12-fc1825b3a8eb"
      },
      "outputs": [
        {
          "output_type": "stream",
          "name": "stderr",
          "text": [
            "/usr/local/lib/python3.10/dist-packages/sklearn/cluster/_kmeans.py:870: FutureWarning: The default value of `n_init` will change from 10 to 'auto' in 1.4. Set the value of `n_init` explicitly to suppress the warning\n",
            "  warnings.warn(\n"
          ]
        },
        {
          "output_type": "execute_result",
          "data": {
            "text/plain": [
              "array([1, 2, 2, 2, 2, 2, 2, 2, 2, 2, 2, 2, 1, 2, 2, 1, 1, 2, 2, 1, 1, 2,\n",
              "       2, 1, 1, 1, 0, 0, 1, 1, 2, 2, 2, 0, 1, 0, 1, 1, 0, 2, 1, 2, 1, 1,\n",
              "       1, 2, 1, 1, 1, 1, 1, 1, 1, 1, 2, 1, 2, 1, 2, 1, 1, 1, 1, 1, 2, 1,\n",
              "       1, 1, 1, 2, 0, 1, 1, 1, 0, 0, 0, 0, 1, 1, 2, 1, 1, 0, 1, 0, 0, 0,\n",
              "       1, 0, 0, 0, 2, 0, 2, 1, 1, 2, 0, 1, 0, 2, 1, 1, 1, 1, 1, 0, 2, 1,\n",
              "       2, 1, 0, 2, 2, 1, 1, 0, 1, 0, 0, 2], dtype=int32)"
            ]
          },
          "metadata": {},
          "execution_count": 26
        }
      ],
      "source": [
        "kmeans = KMeans(n_clusters=3)\n",
        "model= kmeans.fit(principalComponents)\n",
        "y_kmeans = kmeans.predict(principalComponents)\n",
        "y_kmeans"
      ]
    },
    {
      "cell_type": "code",
      "execution_count": null,
      "id": "cbc7f868",
      "metadata": {
        "ExecuteTime": {
          "end_time": "2023-04-17T22:38:51.927278Z",
          "start_time": "2023-04-17T22:38:51.885648Z"
        },
        "colab": {
          "base_uri": "https://localhost:8080/",
          "height": 208
        },
        "id": "cbc7f868",
        "outputId": "e86ca6ac-f57a-4952-f3b0-01a86836a0f6"
      },
      "outputs": [
        {
          "output_type": "execute_result",
          "data": {
            "text/plain": [
              "     Gender       Age  Profession    Income  Visit Frequency  \\\n",
              "0 -0.005613 -0.052346   -0.075731  0.015998        -0.181952   \n",
              "1 -0.142737  0.266137    0.235235  0.636650         0.216903   \n",
              "\n",
              "   Prefered Form of Consumption  Time Spent on Visit  Distance to Store  \\\n",
              "0                     -0.165096            -0.088677           0.092272   \n",
              "1                      0.271091             0.268670           0.014758   \n",
              "\n",
              "   Membership  Spend per Visit  Quality Rate  Price Range Rate  \\\n",
              "0   -0.101977        -0.145667     -0.383375         -0.405655   \n",
              "1    0.118671         0.258306      0.025489          0.032882   \n",
              "\n",
              "   Sales and Promotion Importance  Ambiance Rate  WiFi Quality Rate  \\\n",
              "0                       -0.313085      -0.382446          -0.288703   \n",
              "1                       -0.181124      -0.109763          -0.331152   \n",
              "\n",
              "   Service Rate  Likely for Meetings or Hangouts  \n",
              "0     -0.326389                        -0.370376  \n",
              "1     -0.108687                         0.079598  "
            ],
            "text/html": [
              "\n",
              "  <div id=\"df-24913cc8-81c8-49b3-a444-af233eb17bc2\">\n",
              "    <div class=\"colab-df-container\">\n",
              "      <div>\n",
              "<style scoped>\n",
              "    .dataframe tbody tr th:only-of-type {\n",
              "        vertical-align: middle;\n",
              "    }\n",
              "\n",
              "    .dataframe tbody tr th {\n",
              "        vertical-align: top;\n",
              "    }\n",
              "\n",
              "    .dataframe thead th {\n",
              "        text-align: right;\n",
              "    }\n",
              "</style>\n",
              "<table border=\"1\" class=\"dataframe\">\n",
              "  <thead>\n",
              "    <tr style=\"text-align: right;\">\n",
              "      <th></th>\n",
              "      <th>Gender</th>\n",
              "      <th>Age</th>\n",
              "      <th>Profession</th>\n",
              "      <th>Income</th>\n",
              "      <th>Visit Frequency</th>\n",
              "      <th>Prefered Form of Consumption</th>\n",
              "      <th>Time Spent on Visit</th>\n",
              "      <th>Distance to Store</th>\n",
              "      <th>Membership</th>\n",
              "      <th>Spend per Visit</th>\n",
              "      <th>Quality Rate</th>\n",
              "      <th>Price Range Rate</th>\n",
              "      <th>Sales and Promotion Importance</th>\n",
              "      <th>Ambiance Rate</th>\n",
              "      <th>WiFi Quality Rate</th>\n",
              "      <th>Service Rate</th>\n",
              "      <th>Likely for Meetings or Hangouts</th>\n",
              "    </tr>\n",
              "  </thead>\n",
              "  <tbody>\n",
              "    <tr>\n",
              "      <th>0</th>\n",
              "      <td>-0.005613</td>\n",
              "      <td>-0.052346</td>\n",
              "      <td>-0.075731</td>\n",
              "      <td>0.015998</td>\n",
              "      <td>-0.181952</td>\n",
              "      <td>-0.165096</td>\n",
              "      <td>-0.088677</td>\n",
              "      <td>0.092272</td>\n",
              "      <td>-0.101977</td>\n",
              "      <td>-0.145667</td>\n",
              "      <td>-0.383375</td>\n",
              "      <td>-0.405655</td>\n",
              "      <td>-0.313085</td>\n",
              "      <td>-0.382446</td>\n",
              "      <td>-0.288703</td>\n",
              "      <td>-0.326389</td>\n",
              "      <td>-0.370376</td>\n",
              "    </tr>\n",
              "    <tr>\n",
              "      <th>1</th>\n",
              "      <td>-0.142737</td>\n",
              "      <td>0.266137</td>\n",
              "      <td>0.235235</td>\n",
              "      <td>0.636650</td>\n",
              "      <td>0.216903</td>\n",
              "      <td>0.271091</td>\n",
              "      <td>0.268670</td>\n",
              "      <td>0.014758</td>\n",
              "      <td>0.118671</td>\n",
              "      <td>0.258306</td>\n",
              "      <td>0.025489</td>\n",
              "      <td>0.032882</td>\n",
              "      <td>-0.181124</td>\n",
              "      <td>-0.109763</td>\n",
              "      <td>-0.331152</td>\n",
              "      <td>-0.108687</td>\n",
              "      <td>0.079598</td>\n",
              "    </tr>\n",
              "  </tbody>\n",
              "</table>\n",
              "</div>\n",
              "      <button class=\"colab-df-convert\" onclick=\"convertToInteractive('df-24913cc8-81c8-49b3-a444-af233eb17bc2')\"\n",
              "              title=\"Convert this dataframe to an interactive table.\"\n",
              "              style=\"display:none;\">\n",
              "        \n",
              "  <svg xmlns=\"http://www.w3.org/2000/svg\" height=\"24px\"viewBox=\"0 0 24 24\"\n",
              "       width=\"24px\">\n",
              "    <path d=\"M0 0h24v24H0V0z\" fill=\"none\"/>\n",
              "    <path d=\"M18.56 5.44l.94 2.06.94-2.06 2.06-.94-2.06-.94-.94-2.06-.94 2.06-2.06.94zm-11 1L8.5 8.5l.94-2.06 2.06-.94-2.06-.94L8.5 2.5l-.94 2.06-2.06.94zm10 10l.94 2.06.94-2.06 2.06-.94-2.06-.94-.94-2.06-.94 2.06-2.06.94z\"/><path d=\"M17.41 7.96l-1.37-1.37c-.4-.4-.92-.59-1.43-.59-.52 0-1.04.2-1.43.59L10.3 9.45l-7.72 7.72c-.78.78-.78 2.05 0 2.83L4 21.41c.39.39.9.59 1.41.59.51 0 1.02-.2 1.41-.59l7.78-7.78 2.81-2.81c.8-.78.8-2.07 0-2.86zM5.41 20L4 18.59l7.72-7.72 1.47 1.35L5.41 20z\"/>\n",
              "  </svg>\n",
              "      </button>\n",
              "      \n",
              "  <style>\n",
              "    .colab-df-container {\n",
              "      display:flex;\n",
              "      flex-wrap:wrap;\n",
              "      gap: 12px;\n",
              "    }\n",
              "\n",
              "    .colab-df-convert {\n",
              "      background-color: #E8F0FE;\n",
              "      border: none;\n",
              "      border-radius: 50%;\n",
              "      cursor: pointer;\n",
              "      display: none;\n",
              "      fill: #1967D2;\n",
              "      height: 32px;\n",
              "      padding: 0 0 0 0;\n",
              "      width: 32px;\n",
              "    }\n",
              "\n",
              "    .colab-df-convert:hover {\n",
              "      background-color: #E2EBFA;\n",
              "      box-shadow: 0px 1px 2px rgba(60, 64, 67, 0.3), 0px 1px 3px 1px rgba(60, 64, 67, 0.15);\n",
              "      fill: #174EA6;\n",
              "    }\n",
              "\n",
              "    [theme=dark] .colab-df-convert {\n",
              "      background-color: #3B4455;\n",
              "      fill: #D2E3FC;\n",
              "    }\n",
              "\n",
              "    [theme=dark] .colab-df-convert:hover {\n",
              "      background-color: #434B5C;\n",
              "      box-shadow: 0px 1px 3px 1px rgba(0, 0, 0, 0.15);\n",
              "      filter: drop-shadow(0px 1px 2px rgba(0, 0, 0, 0.3));\n",
              "      fill: #FFFFFF;\n",
              "    }\n",
              "  </style>\n",
              "\n",
              "      <script>\n",
              "        const buttonEl =\n",
              "          document.querySelector('#df-24913cc8-81c8-49b3-a444-af233eb17bc2 button.colab-df-convert');\n",
              "        buttonEl.style.display =\n",
              "          google.colab.kernel.accessAllowed ? 'block' : 'none';\n",
              "\n",
              "        async function convertToInteractive(key) {\n",
              "          const element = document.querySelector('#df-24913cc8-81c8-49b3-a444-af233eb17bc2');\n",
              "          const dataTable =\n",
              "            await google.colab.kernel.invokeFunction('convertToInteractive',\n",
              "                                                     [key], {});\n",
              "          if (!dataTable) return;\n",
              "\n",
              "          const docLinkHtml = 'Like what you see? Visit the ' +\n",
              "            '<a target=\"_blank\" href=https://colab.research.google.com/notebooks/data_table.ipynb>data table notebook</a>'\n",
              "            + ' to learn more about interactive tables.';\n",
              "          element.innerHTML = '';\n",
              "          dataTable['output_type'] = 'display_data';\n",
              "          await google.colab.output.renderOutput(dataTable, element);\n",
              "          const docLink = document.createElement('div');\n",
              "          docLink.innerHTML = docLinkHtml;\n",
              "          element.appendChild(docLink);\n",
              "        }\n",
              "      </script>\n",
              "    </div>\n",
              "  </div>\n",
              "  "
            ]
          },
          "metadata": {},
          "execution_count": 27
        }
      ],
      "source": [
        "### Examine the contribution of each features to the 1st & 2nd component\n",
        "pca.components_\n",
        "df = pd.DataFrame(pca.components_,columns=X.columns)\n",
        "df"
      ]
    },
    {
      "cell_type": "code",
      "execution_count": null,
      "id": "548c0a6e",
      "metadata": {
        "ExecuteTime": {
          "end_time": "2023-04-17T22:38:51.976434Z",
          "start_time": "2023-04-17T22:38:51.935690Z"
        },
        "scrolled": true,
        "colab": {
          "base_uri": "https://localhost:8080/",
          "height": 302
        },
        "id": "548c0a6e",
        "outputId": "269466bf-b78f-4d85-850d-65ec16ac7f48"
      },
      "outputs": [
        {
          "output_type": "execute_result",
          "data": {
            "text/plain": [
              "     Gender  Age  Profession  Income  Visit Frequency  \\\n",
              "89        0    1           2       1                1   \n",
              "110       0    1           0       0                1   \n",
              "92        1    1           1       1                0   \n",
              "47        1    1           2       0                1   \n",
              "81        0    1           1       0                0   \n",
              "\n",
              "     Prefered Form of Consumption  Time Spent on Visit  Distance to Store  \\\n",
              "89                              3                    0                  1   \n",
              "110                             1                    0                  2   \n",
              "92                              3                    0                  0   \n",
              "47                              1                    1                  2   \n",
              "81                              0                    0                  2   \n",
              "\n",
              "     Membership  Spend per Visit  Quality Rate  Price Range Rate  \\\n",
              "89            1                0             5                 5   \n",
              "110           0                0             4                 2   \n",
              "92            0                0             3                 3   \n",
              "47            0                0             3                 1   \n",
              "81            0                0             1                 1   \n",
              "\n",
              "     Sales and Promotion Importance  Ambiance Rate  WiFi Quality Rate  \\\n",
              "89                                5              5                  4   \n",
              "110                               3              5                  4   \n",
              "92                                3              3                  3   \n",
              "47                                5              4                  3   \n",
              "81                                1              3                  3   \n",
              "\n",
              "     Service Rate  Likely for Meetings or Hangouts  Custumer Loyalty  Cluster  \n",
              "89              5                                5                 1        1  \n",
              "110             4                                2                 0        2  \n",
              "92              3                                3                 0        2  \n",
              "47              3                                2                 1        2  \n",
              "81              3                                3                 0        2  "
            ],
            "text/html": [
              "\n",
              "  <div id=\"df-211362a6-6ed3-4fbe-aa80-090ddea68c9f\">\n",
              "    <div class=\"colab-df-container\">\n",
              "      <div>\n",
              "<style scoped>\n",
              "    .dataframe tbody tr th:only-of-type {\n",
              "        vertical-align: middle;\n",
              "    }\n",
              "\n",
              "    .dataframe tbody tr th {\n",
              "        vertical-align: top;\n",
              "    }\n",
              "\n",
              "    .dataframe thead th {\n",
              "        text-align: right;\n",
              "    }\n",
              "</style>\n",
              "<table border=\"1\" class=\"dataframe\">\n",
              "  <thead>\n",
              "    <tr style=\"text-align: right;\">\n",
              "      <th></th>\n",
              "      <th>Gender</th>\n",
              "      <th>Age</th>\n",
              "      <th>Profession</th>\n",
              "      <th>Income</th>\n",
              "      <th>Visit Frequency</th>\n",
              "      <th>Prefered Form of Consumption</th>\n",
              "      <th>Time Spent on Visit</th>\n",
              "      <th>Distance to Store</th>\n",
              "      <th>Membership</th>\n",
              "      <th>Spend per Visit</th>\n",
              "      <th>Quality Rate</th>\n",
              "      <th>Price Range Rate</th>\n",
              "      <th>Sales and Promotion Importance</th>\n",
              "      <th>Ambiance Rate</th>\n",
              "      <th>WiFi Quality Rate</th>\n",
              "      <th>Service Rate</th>\n",
              "      <th>Likely for Meetings or Hangouts</th>\n",
              "      <th>Custumer Loyalty</th>\n",
              "      <th>Cluster</th>\n",
              "    </tr>\n",
              "  </thead>\n",
              "  <tbody>\n",
              "    <tr>\n",
              "      <th>89</th>\n",
              "      <td>0</td>\n",
              "      <td>1</td>\n",
              "      <td>2</td>\n",
              "      <td>1</td>\n",
              "      <td>1</td>\n",
              "      <td>3</td>\n",
              "      <td>0</td>\n",
              "      <td>1</td>\n",
              "      <td>1</td>\n",
              "      <td>0</td>\n",
              "      <td>5</td>\n",
              "      <td>5</td>\n",
              "      <td>5</td>\n",
              "      <td>5</td>\n",
              "      <td>4</td>\n",
              "      <td>5</td>\n",
              "      <td>5</td>\n",
              "      <td>1</td>\n",
              "      <td>1</td>\n",
              "    </tr>\n",
              "    <tr>\n",
              "      <th>110</th>\n",
              "      <td>0</td>\n",
              "      <td>1</td>\n",
              "      <td>0</td>\n",
              "      <td>0</td>\n",
              "      <td>1</td>\n",
              "      <td>1</td>\n",
              "      <td>0</td>\n",
              "      <td>2</td>\n",
              "      <td>0</td>\n",
              "      <td>0</td>\n",
              "      <td>4</td>\n",
              "      <td>2</td>\n",
              "      <td>3</td>\n",
              "      <td>5</td>\n",
              "      <td>4</td>\n",
              "      <td>4</td>\n",
              "      <td>2</td>\n",
              "      <td>0</td>\n",
              "      <td>2</td>\n",
              "    </tr>\n",
              "    <tr>\n",
              "      <th>92</th>\n",
              "      <td>1</td>\n",
              "      <td>1</td>\n",
              "      <td>1</td>\n",
              "      <td>1</td>\n",
              "      <td>0</td>\n",
              "      <td>3</td>\n",
              "      <td>0</td>\n",
              "      <td>0</td>\n",
              "      <td>0</td>\n",
              "      <td>0</td>\n",
              "      <td>3</td>\n",
              "      <td>3</td>\n",
              "      <td>3</td>\n",
              "      <td>3</td>\n",
              "      <td>3</td>\n",
              "      <td>3</td>\n",
              "      <td>3</td>\n",
              "      <td>0</td>\n",
              "      <td>2</td>\n",
              "    </tr>\n",
              "    <tr>\n",
              "      <th>47</th>\n",
              "      <td>1</td>\n",
              "      <td>1</td>\n",
              "      <td>2</td>\n",
              "      <td>0</td>\n",
              "      <td>1</td>\n",
              "      <td>1</td>\n",
              "      <td>1</td>\n",
              "      <td>2</td>\n",
              "      <td>0</td>\n",
              "      <td>0</td>\n",
              "      <td>3</td>\n",
              "      <td>1</td>\n",
              "      <td>5</td>\n",
              "      <td>4</td>\n",
              "      <td>3</td>\n",
              "      <td>3</td>\n",
              "      <td>2</td>\n",
              "      <td>1</td>\n",
              "      <td>2</td>\n",
              "    </tr>\n",
              "    <tr>\n",
              "      <th>81</th>\n",
              "      <td>0</td>\n",
              "      <td>1</td>\n",
              "      <td>1</td>\n",
              "      <td>0</td>\n",
              "      <td>0</td>\n",
              "      <td>0</td>\n",
              "      <td>0</td>\n",
              "      <td>2</td>\n",
              "      <td>0</td>\n",
              "      <td>0</td>\n",
              "      <td>1</td>\n",
              "      <td>1</td>\n",
              "      <td>1</td>\n",
              "      <td>3</td>\n",
              "      <td>3</td>\n",
              "      <td>3</td>\n",
              "      <td>3</td>\n",
              "      <td>0</td>\n",
              "      <td>2</td>\n",
              "    </tr>\n",
              "  </tbody>\n",
              "</table>\n",
              "</div>\n",
              "      <button class=\"colab-df-convert\" onclick=\"convertToInteractive('df-211362a6-6ed3-4fbe-aa80-090ddea68c9f')\"\n",
              "              title=\"Convert this dataframe to an interactive table.\"\n",
              "              style=\"display:none;\">\n",
              "        \n",
              "  <svg xmlns=\"http://www.w3.org/2000/svg\" height=\"24px\"viewBox=\"0 0 24 24\"\n",
              "       width=\"24px\">\n",
              "    <path d=\"M0 0h24v24H0V0z\" fill=\"none\"/>\n",
              "    <path d=\"M18.56 5.44l.94 2.06.94-2.06 2.06-.94-2.06-.94-.94-2.06-.94 2.06-2.06.94zm-11 1L8.5 8.5l.94-2.06 2.06-.94-2.06-.94L8.5 2.5l-.94 2.06-2.06.94zm10 10l.94 2.06.94-2.06 2.06-.94-2.06-.94-.94-2.06-.94 2.06-2.06.94z\"/><path d=\"M17.41 7.96l-1.37-1.37c-.4-.4-.92-.59-1.43-.59-.52 0-1.04.2-1.43.59L10.3 9.45l-7.72 7.72c-.78.78-.78 2.05 0 2.83L4 21.41c.39.39.9.59 1.41.59.51 0 1.02-.2 1.41-.59l7.78-7.78 2.81-2.81c.8-.78.8-2.07 0-2.86zM5.41 20L4 18.59l7.72-7.72 1.47 1.35L5.41 20z\"/>\n",
              "  </svg>\n",
              "      </button>\n",
              "      \n",
              "  <style>\n",
              "    .colab-df-container {\n",
              "      display:flex;\n",
              "      flex-wrap:wrap;\n",
              "      gap: 12px;\n",
              "    }\n",
              "\n",
              "    .colab-df-convert {\n",
              "      background-color: #E8F0FE;\n",
              "      border: none;\n",
              "      border-radius: 50%;\n",
              "      cursor: pointer;\n",
              "      display: none;\n",
              "      fill: #1967D2;\n",
              "      height: 32px;\n",
              "      padding: 0 0 0 0;\n",
              "      width: 32px;\n",
              "    }\n",
              "\n",
              "    .colab-df-convert:hover {\n",
              "      background-color: #E2EBFA;\n",
              "      box-shadow: 0px 1px 2px rgba(60, 64, 67, 0.3), 0px 1px 3px 1px rgba(60, 64, 67, 0.15);\n",
              "      fill: #174EA6;\n",
              "    }\n",
              "\n",
              "    [theme=dark] .colab-df-convert {\n",
              "      background-color: #3B4455;\n",
              "      fill: #D2E3FC;\n",
              "    }\n",
              "\n",
              "    [theme=dark] .colab-df-convert:hover {\n",
              "      background-color: #434B5C;\n",
              "      box-shadow: 0px 1px 3px 1px rgba(0, 0, 0, 0.15);\n",
              "      filter: drop-shadow(0px 1px 2px rgba(0, 0, 0, 0.3));\n",
              "      fill: #FFFFFF;\n",
              "    }\n",
              "  </style>\n",
              "\n",
              "      <script>\n",
              "        const buttonEl =\n",
              "          document.querySelector('#df-211362a6-6ed3-4fbe-aa80-090ddea68c9f button.colab-df-convert');\n",
              "        buttonEl.style.display =\n",
              "          google.colab.kernel.accessAllowed ? 'block' : 'none';\n",
              "\n",
              "        async function convertToInteractive(key) {\n",
              "          const element = document.querySelector('#df-211362a6-6ed3-4fbe-aa80-090ddea68c9f');\n",
              "          const dataTable =\n",
              "            await google.colab.kernel.invokeFunction('convertToInteractive',\n",
              "                                                     [key], {});\n",
              "          if (!dataTable) return;\n",
              "\n",
              "          const docLinkHtml = 'Like what you see? Visit the ' +\n",
              "            '<a target=\"_blank\" href=https://colab.research.google.com/notebooks/data_table.ipynb>data table notebook</a>'\n",
              "            + ' to learn more about interactive tables.';\n",
              "          element.innerHTML = '';\n",
              "          dataTable['output_type'] = 'display_data';\n",
              "          await google.colab.output.renderOutput(dataTable, element);\n",
              "          const docLink = document.createElement('div');\n",
              "          docLink.innerHTML = docLinkHtml;\n",
              "          element.appendChild(docLink);\n",
              "        }\n",
              "      </script>\n",
              "    </div>\n",
              "  </div>\n",
              "  "
            ]
          },
          "metadata": {},
          "execution_count": 28
        }
      ],
      "source": [
        "data_final = data1.copy()\n",
        "data_final['Cluster'] = y_kmeans\n",
        "data_final.head()"
      ]
    },
    {
      "cell_type": "code",
      "execution_count": null,
      "id": "bdd32016",
      "metadata": {
        "ExecuteTime": {
          "end_time": "2023-04-17T22:38:51.991932Z",
          "start_time": "2023-04-17T22:38:51.982643Z"
        },
        "id": "bdd32016"
      },
      "outputs": [],
      "source": [
        "### Number of customer present in each cluster"
      ]
    },
    {
      "cell_type": "code",
      "execution_count": null,
      "id": "5f6c9736",
      "metadata": {
        "ExecuteTime": {
          "end_time": "2023-04-17T22:57:55.935806Z",
          "start_time": "2023-04-17T22:57:55.051171Z"
        },
        "colab": {
          "base_uri": "https://localhost:8080/",
          "height": 544
        },
        "id": "5f6c9736",
        "outputId": "3850a541-e7cc-478d-fe8c-74003a3b4180"
      },
      "outputs": [
        {
          "output_type": "display_data",
          "data": {
            "text/plain": [
              "<Figure size 640x480 with 1 Axes>"
            ],
            "image/png": "[encoded data removed]"
          },
          "metadata": {}
        }
      ],
      "source": [
        "sns.countplot(data = data_final, x = 'Cluster', palette = 'viridis_r')\n",
        "plt.title('Number of Customers by Cluster', fontsize = 15)\n",
        "plt.xlabel('Clusters', fontsize = 14)\n",
        "plt.ylabel('No. of Customers', fontsize = 14)\n",
        "plt.xticks([0, 1, 2], ['Cluster 0', 'Cluster 1', 'Cluster 2'], rotation = 0)\n",
        "plt.text(x = 0 - 0.2, y = data_final.Cluster.value_counts()[0] + 1.5, s = data_final.Cluster.value_counts()[0])\n",
        "plt.text(x = 1 - 0.2, y = data_final.Cluster.value_counts()[1] + 1.5, s = data_final.Cluster.value_counts()[1])\n",
        "plt.text(x = 2 - 0.15, y = data_final.Cluster.value_counts()[2] + 10, s = data_final.Cluster.value_counts()[2])\n",
        "plt.tight_layout(pad = -1)\n",
        "plt.show()"
      ]
    },
    {
      "cell_type": "code",
      "execution_count": null,
      "id": "be271a1e",
      "metadata": {
        "ExecuteTime": {
          "end_time": "2023-04-17T22:38:52.979496Z",
          "start_time": "2023-04-17T22:38:52.570939Z"
        },
        "colab": {
          "base_uri": "https://localhost:8080/",
          "height": 466
        },
        "id": "be271a1e",
        "outputId": "57b8756f-3a09-4b7b-a915-5963a0f7d8d1"
      },
      "outputs": [
        {
          "output_type": "execute_result",
          "data": {
            "text/plain": [
              "<Axes: xlabel='Cluster', ylabel='count'>"
            ]
          },
          "metadata": {},
          "execution_count": 31
        },
        {
          "output_type": "display_data",
          "data": {
            "text/plain": [
              "<Figure size 640x480 with 1 Axes>"
            ],
            "image/png": "[encoded data removed]"
          },
          "metadata": {}
        }
      ],
      "source": [
        "##Cluster distribution by Customer loyalty\n",
        "sns.countplot(x='Cluster', hue='Custumer Loyalty', data=data_final)"
      ]
    },
    {
      "cell_type": "code",
      "execution_count": null,
      "id": "9b360923",
      "metadata": {
        "ExecuteTime": {
          "end_time": "2023-04-17T22:38:53.504843Z",
          "start_time": "2023-04-17T22:38:52.985089Z"
        },
        "colab": {
          "base_uri": "https://localhost:8080/",
          "height": 466
        },
        "id": "9b360923",
        "outputId": "886ec999-ab47-43d4-cbd9-55c85bfc3aa2"
      },
      "outputs": [
        {
          "output_type": "execute_result",
          "data": {
            "text/plain": [
              "<Axes: xlabel='Cluster', ylabel='count'>"
            ]
          },
          "metadata": {},
          "execution_count": 32
        },
        {
          "output_type": "display_data",
          "data": {
            "text/plain": [
              "<Figure size 640x480 with 1 Axes>"
            ],
            "image/png": "[encoded data removed]"
          },
          "metadata": {}
        }
      ],
      "source": [
        "##Cluster distribution by Spend per Visit\n",
        "sns.countplot(x='Cluster', hue='Spend per Visit', data=data_final)"
      ]
    },
    {
      "cell_type": "code",
      "execution_count": null,
      "id": "659323ed",
      "metadata": {
        "id": "659323ed"
      },
      "outputs": [],
      "source": []
    },
    {
      "cell_type": "code",
      "execution_count": null,
      "id": "ebfe29c4",
      "metadata": {
        "ExecuteTime": {
          "end_time": "2023-04-17T22:38:53.519801Z",
          "start_time": "2023-04-17T22:38:53.509035Z"
        },
        "id": "ebfe29c4"
      },
      "outputs": [],
      "source": [
        "### MACHINE LEARNING"
      ]
    },
    {
      "cell_type": "code",
      "execution_count": null,
      "id": "5ec07e54",
      "metadata": {
        "ExecuteTime": {
          "end_time": "2023-04-17T22:39:27.017293Z",
          "start_time": "2023-04-17T22:38:53.523733Z"
        },
        "id": "5ec07e54"
      },
      "outputs": [],
      "source": [
        "from sklearn.model_selection import train_test_split\n",
        "from sklearn.svm import SVC\n",
        "from sklearn.model_selection import GridSearchCV\n",
        "from sklearn.linear_model import LogisticRegression\n",
        "from sklearn.ensemble import RandomForestClassifier\n",
        "from sklearn import tree\n",
        "import xgboost as xgb\n",
        "from sklearn.naive_bayes import BernoulliNB\n",
        "from sklearn.neural_network import MLPClassifier\n",
        "from sklearn.impute import SimpleImputer\n",
        "from sklearn.preprocessing import StandardScaler, MinMaxScaler\n",
        "from sklearn.model_selection import cross_val_score\n",
        "from sklearn.metrics import confusion_matrix, precision_score, accuracy_score, recall_score, roc_curve, f1_score, auc\n",
        "from keras.models import Sequential\n",
        "from keras.layers import Dense, Dropout"
      ]
    },
    {
      "cell_type": "code",
      "execution_count": null,
      "id": "e7bfa6be",
      "metadata": {
        "ExecuteTime": {
          "end_time": "2023-04-17T22:39:27.048240Z",
          "start_time": "2023-04-17T22:39:27.023076Z"
        },
        "id": "e7bfa6be"
      },
      "outputs": [],
      "source": [
        "## Train-Test Split\n",
        "#y = data1['Custumer Loyalty'].values\n",
        "#X=data1.drop([\"Custumer Loyalty\"],axis=1)\n",
        "\n",
        "### Normalize the data set\n",
        "sc = StandardScaler().fit(X)\n",
        "X_std = sc.transform(X)\n",
        "\n",
        "X_train, X_test, y_train, y_test = train_test_split(X_std, y, test_size= 0.20, random_state=1611)"
      ]
    },
    {
      "cell_type": "code",
      "execution_count": null,
      "id": "9bb33269",
      "metadata": {
        "id": "9bb33269"
      },
      "outputs": [],
      "source": []
    },
    {
      "cell_type": "code",
      "execution_count": null,
      "id": "58f7a02c",
      "metadata": {
        "ExecuteTime": {
          "end_time": "2023-04-17T22:39:27.063527Z",
          "start_time": "2023-04-17T22:39:27.053300Z"
        },
        "id": "58f7a02c"
      },
      "outputs": [],
      "source": [
        "### LOGISTIC REGRESSION MODEL"
      ]
    },
    {
      "cell_type": "code",
      "execution_count": null,
      "id": "71183806",
      "metadata": {
        "ExecuteTime": {
          "end_time": "2023-04-17T22:39:46.342718Z",
          "start_time": "2023-04-17T22:39:27.071347Z"
        },
        "colab": {
          "base_uri": "https://localhost:8080/"
        },
        "id": "71183806",
        "outputId": "0b228340-e13e-4ae5-e5ec-f413d78317eb"
      },
      "outputs": [
        {
          "output_type": "stream",
          "name": "stdout",
          "text": [
            "{'C': 1, 'penalty': 'l2'}\n"
          ]
        },
        {
          "output_type": "stream",
          "name": "stderr",
          "text": [
            "/usr/local/lib/python3.10/dist-packages/sklearn/model_selection/_validation.py:378: FitFailedWarning: \n",
            "90 fits failed out of a total of 180.\n",
            "The score on these train-test partitions for these parameters will be set to nan.\n",
            "If these failures are not expected, you can try to debug them by setting error_score='raise'.\n",
            "\n",
            "Below are more details about the failures:\n",
            "--------------------------------------------------------------------------------\n",
            "90 fits failed with the following error:\n",
            "Traceback (most recent call last):\n",
            "  File \"/usr/local/lib/python3.10/dist-packages/sklearn/model_selection/_validation.py\", line 686, in _fit_and_score\n",
            "    estimator.fit(X_train, y_train, **fit_params)\n",
            "  File \"/usr/local/lib/python3.10/dist-packages/sklearn/linear_model/_logistic.py\", line 1162, in fit\n",
            "    solver = _check_solver(self.solver, self.penalty, self.dual)\n",
            "  File \"/usr/local/lib/python3.10/dist-packages/sklearn/linear_model/_logistic.py\", line 54, in _check_solver\n",
            "    raise ValueError(\n",
            "ValueError: Solver lbfgs supports only 'l2' or 'none' penalties, got l1 penalty.\n",
            "\n",
            "  warnings.warn(some_fits_failed_message, FitFailedWarning)\n",
            "/usr/local/lib/python3.10/dist-packages/sklearn/model_selection/_search.py:952: UserWarning: One or more of the test scores are non-finite: [       nan 0.77333333        nan 0.77333333        nan 0.83444444\n",
            "        nan 0.89666667        nan 0.87555556        nan 0.87555556\n",
            "        nan 0.87555556        nan 0.87555556        nan 0.87555556]\n",
            "  warnings.warn(\n"
          ]
        }
      ],
      "source": [
        "param_grid = {'penalty': ['l1','l2'], \n",
        "               'C': [0.001,0.01,0.1,1,1.5,2,2.5,3,3.5]}\n",
        "\n",
        "optimal_params = GridSearchCV(LogisticRegression(),\n",
        "                             param_grid,\n",
        "                             cv=10, # 10-fold as in k-fold cross validation\n",
        "                             scoring='accuracy',\n",
        "                             verbose=0,\n",
        "                             n_jobs=-1)\n",
        "\n",
        "optimal_params.fit(X_train, y_train)\n",
        "print(optimal_params.best_params_)"
      ]
    },
    {
      "cell_type": "code",
      "execution_count": null,
      "id": "8ba43343",
      "metadata": {
        "ExecuteTime": {
          "end_time": "2023-04-17T22:39:46.361885Z",
          "start_time": "2023-04-17T22:39:46.349405Z"
        },
        "id": "8ba43343"
      },
      "outputs": [],
      "source": [
        "best_C = optimal_params.best_params_['C']\n",
        "best_penalty = optimal_params.best_params_['penalty']"
      ]
    },
    {
      "cell_type": "code",
      "execution_count": null,
      "id": "7c8ba2f6",
      "metadata": {
        "ExecuteTime": {
          "end_time": "2023-04-17T22:39:46.393211Z",
          "start_time": "2023-04-17T22:39:46.369569Z"
        },
        "id": "7c8ba2f6"
      },
      "outputs": [],
      "source": [
        "### Fit the best model\n",
        "clf_lr = LogisticRegression(C=best_C, penalty=best_penalty).fit(X_train, y_train)"
      ]
    },
    {
      "cell_type": "code",
      "execution_count": null,
      "id": "ee3e87ff",
      "metadata": {
        "ExecuteTime": {
          "end_time": "2023-04-17T22:39:46.409237Z",
          "start_time": "2023-04-17T22:39:46.400022Z"
        },
        "id": "ee3e87ff"
      },
      "outputs": [],
      "source": [
        "### Make prediction with the best model\n",
        "y_pred = clf_lr.predict(X_test)"
      ]
    },
    {
      "cell_type": "code",
      "execution_count": null,
      "id": "465838c3",
      "metadata": {
        "ExecuteTime": {
          "end_time": "2023-04-17T22:39:46.444697Z",
          "start_time": "2023-04-17T22:39:46.416385Z"
        },
        "colab": {
          "base_uri": "https://localhost:8080/"
        },
        "id": "465838c3",
        "outputId": "27f541cd-abde-4bd2-ea4c-5cf95338d4c8"
      },
      "outputs": [
        {
          "output_type": "stream",
          "name": "stdout",
          "text": [
            "Test Accuracy: 0.84\n",
            "Test Precision: 0.8947368421052632\n",
            "Test Recall: 0.8095238095238095\n",
            "Test F1-score: 0.8947368421052632\n",
            "Test AUC: 0.780701754385965\n"
          ]
        }
      ],
      "source": [
        "###Logistic Regression Model Evaluation - Test dataset\n",
        "\n",
        "f1score = f1_score(y_test, y_pred)\n",
        "accuracy = accuracy_score(y_test, y_pred)\n",
        "tn, fp, fn, tp = confusion_matrix(y_test, y_pred).ravel()\n",
        "precision = tp / (tp + fp)\n",
        "recall = tp / (tp + tn)\n",
        "fpr, tpr, thresholds = roc_curve(y_test, y_pred)\n",
        "test_auc = auc(fpr, tpr)\n",
        "\n",
        "\n",
        "print('Test Accuracy:', accuracy)\n",
        "print('Test Precision:', precision)\n",
        "print('Test Recall:', recall)\n",
        "print('Test F1-score:', f1score)\n",
        "print('Test AUC:', test_auc)"
      ]
    },
    {
      "cell_type": "code",
      "execution_count": null,
      "id": "245803f4",
      "metadata": {
        "id": "245803f4"
      },
      "outputs": [],
      "source": []
    },
    {
      "cell_type": "code",
      "execution_count": null,
      "id": "5865c404",
      "metadata": {
        "ExecuteTime": {
          "end_time": "2023-04-17T22:39:46.460169Z",
          "start_time": "2023-04-17T22:39:46.452351Z"
        },
        "id": "5865c404"
      },
      "outputs": [],
      "source": [
        "### SUPPORT VECTOR MACHINE (SVM)"
      ]
    },
    {
      "cell_type": "code",
      "execution_count": null,
      "id": "d8e1f689",
      "metadata": {
        "ExecuteTime": {
          "end_time": "2023-04-17T22:39:50.353633Z",
          "start_time": "2023-04-17T22:39:46.468035Z"
        },
        "colab": {
          "base_uri": "https://localhost:8080/"
        },
        "id": "d8e1f689",
        "outputId": "a7fece9c-352a-463e-a282-9a01bd54fab5"
      },
      "outputs": [
        {
          "output_type": "stream",
          "name": "stdout",
          "text": [
            "{'C': 3, 'gamma': 'scale', 'kernel': 'linear'}\n"
          ]
        }
      ],
      "source": [
        "param_grid = [\n",
        "    {'C': [0.5, 1, 2, 3, 4, 5, 6, 7, 8, 9, 10, 30],\n",
        "    'gamma': ['scale', 0.5, 1, 0.1, 0.01, 0.001],\n",
        "    'kernel': ['rbf', 'linear', 'poly', 'sigmoid']},\n",
        "]\n",
        "\n",
        "optimal_params = GridSearchCV(SVC(),\n",
        "                             param_grid,\n",
        "                             cv=10, # 10fold as in k-fold cross validation\n",
        "                             scoring='accuracy',\n",
        "                             verbose=0,\n",
        "                             n_jobs=-1)\n",
        "\n",
        "optimal_params.fit(X_train, y_train)\n",
        "print(optimal_params.best_params_)"
      ]
    },
    {
      "cell_type": "code",
      "execution_count": null,
      "id": "c5febc61",
      "metadata": {
        "ExecuteTime": {
          "end_time": "2023-04-17T22:39:50.369041Z",
          "start_time": "2023-04-17T22:39:50.358373Z"
        },
        "id": "c5febc61"
      },
      "outputs": [],
      "source": [
        "C = optimal_params.best_params_['C']\n",
        "gamma = optimal_params.best_params_['gamma']\n",
        "kernel = optimal_params.best_params_['kernel']"
      ]
    },
    {
      "cell_type": "code",
      "execution_count": null,
      "id": "30c7e118",
      "metadata": {
        "ExecuteTime": {
          "end_time": "2023-04-17T22:39:50.415682Z",
          "start_time": "2023-04-17T22:39:50.374536Z"
        },
        "colab": {
          "base_uri": "https://localhost:8080/",
          "height": 75
        },
        "id": "30c7e118",
        "outputId": "03101868-eeb9-4e43-c2f6-070070712241"
      },
      "outputs": [
        {
          "output_type": "execute_result",
          "data": {
            "text/plain": [
              "SVC(C=3, kernel='linear', random_state=114)"
            ],
            "text/html": [
              "<style>#sk-container-id-1 {color: black;background-color: white;}#sk-container-id-1 pre{padding: 0;}#sk-container-id-1 div.sk-toggleable {background-color: white;}#sk-container-id-1 label.sk-toggleable__label {cursor: pointer;display: block;width: 100%;margin-bottom: 0;padding: 0.3em;box-sizing: border-box;text-align: center;}#sk-container-id-1 label.sk-toggleable__label-arrow:before {content: \"▸\";float: left;margin-right: 0.25em;color: #696969;}#sk-container-id-1 label.sk-toggleable__label-arrow:hover:before {color: black;}#sk-container-id-1 div.sk-estimator:hover label.sk-toggleable__label-arrow:before {color: black;}#sk-container-id-1 div.sk-toggleable__content {max-height: 0;max-width: 0;overflow: hidden;text-align: left;background-color: #f0f8ff;}#sk-container-id-1 div.sk-toggleable__content pre {margin: 0.2em;color: black;border-radius: 0.25em;background-color: #f0f8ff;}#sk-container-id-1 input.sk-toggleable__control:checked~div.sk-toggleable__content {max-height: 200px;max-width: 100%;overflow: auto;}#sk-container-id-1 input.sk-toggleable__control:checked~label.sk-toggleable__label-arrow:before {content: \"▾\";}#sk-container-id-1 div.sk-estimator input.sk-toggleable__control:checked~label.sk-toggleable__label {background-color: #d4ebff;}#sk-container-id-1 div.sk-label input.sk-toggleable__control:checked~label.sk-toggleable__label {background-color: #d4ebff;}#sk-container-id-1 input.sk-hidden--visually {border: 0;clip: rect(1px 1px 1px 1px);clip: rect(1px, 1px, 1px, 1px);height: 1px;margin: -1px;overflow: hidden;padding: 0;position: absolute;width: 1px;}#sk-container-id-1 div.sk-estimator {font-family: monospace;background-color: #f0f8ff;border: 1px dotted black;border-radius: 0.25em;box-sizing: border-box;margin-bottom: 0.5em;}#sk-container-id-1 div.sk-estimator:hover {background-color: #d4ebff;}#sk-container-id-1 div.sk-parallel-item::after {content: \"\";width: 100%;border-bottom: 1px solid gray;flex-grow: 1;}#sk-container-id-1 div.sk-label:hover label.sk-toggleable__label {background-color: #d4ebff;}#sk-container-id-1 div.sk-serial::before {content: \"\";position: absolute;border-left: 1px solid gray;box-sizing: border-box;top: 0;bottom: 0;left: 50%;z-index: 0;}#sk-container-id-1 div.sk-serial {display: flex;flex-direction: column;align-items: center;background-color: white;padding-right: 0.2em;padding-left: 0.2em;position: relative;}#sk-container-id-1 div.sk-item {position: relative;z-index: 1;}#sk-container-id-1 div.sk-parallel {display: flex;align-items: stretch;justify-content: center;background-color: white;position: relative;}#sk-container-id-1 div.sk-item::before, #sk-container-id-1 div.sk-parallel-item::before {content: \"\";position: absolute;border-left: 1px solid gray;box-sizing: border-box;top: 0;bottom: 0;left: 50%;z-index: -1;}#sk-container-id-1 div.sk-parallel-item {display: flex;flex-direction: column;z-index: 1;position: relative;background-color: white;}#sk-container-id-1 div.sk-parallel-item:first-child::after {align-self: flex-end;width: 50%;}#sk-container-id-1 div.sk-parallel-item:last-child::after {align-self: flex-start;width: 50%;}#sk-container-id-1 div.sk-parallel-item:only-child::after {width: 0;}#sk-container-id-1 div.sk-dashed-wrapped {border: 1px dashed gray;margin: 0 0.4em 0.5em 0.4em;box-sizing: border-box;padding-bottom: 0.4em;background-color: white;}#sk-container-id-1 div.sk-label label {font-family: monospace;font-weight: bold;display: inline-block;line-height: 1.2em;}#sk-container-id-1 div.sk-label-container {text-align: center;}#sk-container-id-1 div.sk-container {/* jupyter's `normalize.less` sets `[hidden] { display: none; }` but bootstrap.min.css set `[hidden] { display: none !important; }` so we also need the `!important` here to be able to override the default hidden behavior on the sphinx rendered scikit-learn.org. See: https://github.com/scikit-learn/scikit-learn/issues/21755 */display: inline-block !important;position: relative;}#sk-container-id-1 div.sk-text-repr-fallback {display: none;}</style><div id=\"sk-container-id-1\" class=\"sk-top-container\"><div class=\"sk-text-repr-fallback\"><pre>SVC(C=3, kernel=&#x27;linear&#x27;, random_state=114)</pre><b>In a Jupyter environment, please rerun this cell to show the HTML representation or trust the notebook. <br />On GitHub, the HTML representation is unable to render, please try loading this page with nbviewer.org.</b></div><div class=\"sk-container\" hidden><div class=\"sk-item\"><div class=\"sk-estimator sk-toggleable\"><input class=\"sk-toggleable__control sk-hidden--visually\" id=\"sk-estimator-id-1\" type=\"checkbox\" checked><label for=\"sk-estimator-id-1\" class=\"sk-toggleable__label sk-toggleable__label-arrow\">SVC</label><div class=\"sk-toggleable__content\"><pre>SVC(C=3, kernel=&#x27;linear&#x27;, random_state=114)</pre></div></div></div></div></div>"
            ]
          },
          "metadata": {},
          "execution_count": 42
        }
      ],
      "source": [
        "clf_svm = SVC(random_state=114, C=C, gamma=gamma, kernel=kernel)\n",
        "clf_svm.fit(X_train, y_train)"
      ]
    },
    {
      "cell_type": "code",
      "execution_count": null,
      "id": "1060eaf8",
      "metadata": {
        "ExecuteTime": {
          "end_time": "2023-04-17T22:39:50.430519Z",
          "start_time": "2023-04-17T22:39:50.423044Z"
        },
        "id": "1060eaf8"
      },
      "outputs": [],
      "source": [
        "### Make prediction with the best model\n",
        "y_pred = clf_svm.predict(X_test)"
      ]
    },
    {
      "cell_type": "code",
      "execution_count": null,
      "id": "2b3efd09",
      "metadata": {
        "ExecuteTime": {
          "end_time": "2023-04-17T22:39:50.461636Z",
          "start_time": "2023-04-17T22:39:50.437789Z"
        },
        "colab": {
          "base_uri": "https://localhost:8080/"
        },
        "id": "2b3efd09",
        "outputId": "d4fa6c68-e44c-45c8-a472-81222d497fe5"
      },
      "outputs": [
        {
          "output_type": "stream",
          "name": "stdout",
          "text": [
            "Test Accuracy: 0.8\n",
            "Test Precision: 0.8888888888888888\n",
            "Test Recall: 0.8\n",
            "Test F1-score: 0.8648648648648649\n",
            "Test AUC: 0.7543859649122807\n"
          ]
        }
      ],
      "source": [
        "###SVM Model Evaluation - Test dataset\n",
        "\n",
        "f1score = f1_score(y_test, y_pred)\n",
        "accuracy = accuracy_score(y_test, y_pred)\n",
        "tn, fp, fn, tp = confusion_matrix(y_test, y_pred).ravel()\n",
        "precision = tp / (tp + fp)\n",
        "recall = tp / (tp + tn)\n",
        "fpr, tpr, thresholds = roc_curve(y_test, y_pred)\n",
        "test_auc = auc(fpr, tpr)\n",
        "\n",
        "\n",
        "print('Test Accuracy:', accuracy)\n",
        "print('Test Precision:', precision)\n",
        "print('Test Recall:', recall)\n",
        "print('Test F1-score:', f1score)\n",
        "print('Test AUC:', test_auc)"
      ]
    },
    {
      "cell_type": "code",
      "execution_count": null,
      "id": "c3f315bd",
      "metadata": {
        "id": "c3f315bd"
      },
      "outputs": [],
      "source": []
    },
    {
      "cell_type": "code",
      "execution_count": null,
      "id": "cd8820cd",
      "metadata": {
        "ExecuteTime": {
          "end_time": "2023-04-17T22:39:50.477006Z",
          "start_time": "2023-04-17T22:39:50.467756Z"
        },
        "id": "cd8820cd"
      },
      "outputs": [],
      "source": [
        "### GAUSSIAN NAIVE BAYES"
      ]
    },
    {
      "cell_type": "code",
      "execution_count": null,
      "id": "85512d4f",
      "metadata": {
        "ExecuteTime": {
          "end_time": "2023-04-17T22:39:50.516650Z",
          "start_time": "2023-04-17T22:39:50.483198Z"
        },
        "id": "85512d4f"
      },
      "outputs": [],
      "source": [
        "params = {\n",
        "    'alpha': [0.01,0.1,0.5,1.0,10.0],\n",
        "    'fit_prior': [True, False],\n",
        "    'class_prior': [None, [0.1,]* 2,],\n",
        "    'binarize': [None,0.0,8.5,10.0]\n",
        "}"
      ]
    },
    {
      "cell_type": "code",
      "execution_count": null,
      "id": "0932b60a",
      "metadata": {
        "ExecuteTime": {
          "end_time": "2023-04-17T22:39:50.531996Z",
          "start_time": "2023-04-17T22:39:50.522067Z"
        },
        "id": "0932b60a"
      },
      "outputs": [],
      "source": [
        "nb_grid = GridSearchCV(\n",
        "BernoulliNB(),\n",
        "param_grid=params,\n",
        "    n_jobs=-1,\n",
        "    cv=10,\n",
        "    )"
      ]
    },
    {
      "cell_type": "code",
      "execution_count": null,
      "id": "6f7de8c2",
      "metadata": {
        "ExecuteTime": {
          "end_time": "2023-04-17T22:39:51.746690Z",
          "start_time": "2023-04-17T22:39:50.537905Z"
        },
        "colab": {
          "base_uri": "https://localhost:8080/",
          "height": 118
        },
        "id": "6f7de8c2",
        "outputId": "404a6b4e-07dc-46b0-88e4-0addd2329ae5"
      },
      "outputs": [
        {
          "output_type": "execute_result",
          "data": {
            "text/plain": [
              "GridSearchCV(cv=10, estimator=BernoulliNB(), n_jobs=-1,\n",
              "             param_grid={'alpha': [0.01, 0.1, 0.5, 1.0, 10.0],\n",
              "                         'binarize': [None, 0.0, 8.5, 10.0],\n",
              "                         'class_prior': [None, [0.1, 0.1]],\n",
              "                         'fit_prior': [True, False]})"
            ],
            "text/html": [
              "<style>#sk-container-id-2 {color: black;background-color: white;}#sk-container-id-2 pre{padding: 0;}#sk-container-id-2 div.sk-toggleable {background-color: white;}#sk-container-id-2 label.sk-toggleable__label {cursor: pointer;display: block;width: 100%;margin-bottom: 0;padding: 0.3em;box-sizing: border-box;text-align: center;}#sk-container-id-2 label.sk-toggleable__label-arrow:before {content: \"▸\";float: left;margin-right: 0.25em;color: #696969;}#sk-container-id-2 label.sk-toggleable__label-arrow:hover:before {color: black;}#sk-container-id-2 div.sk-estimator:hover label.sk-toggleable__label-arrow:before {color: black;}#sk-container-id-2 div.sk-toggleable__content {max-height: 0;max-width: 0;overflow: hidden;text-align: left;background-color: #f0f8ff;}#sk-container-id-2 div.sk-toggleable__content pre {margin: 0.2em;color: black;border-radius: 0.25em;background-color: #f0f8ff;}#sk-container-id-2 input.sk-toggleable__control:checked~div.sk-toggleable__content {max-height: 200px;max-width: 100%;overflow: auto;}#sk-container-id-2 input.sk-toggleable__control:checked~label.sk-toggleable__label-arrow:before {content: \"▾\";}#sk-container-id-2 div.sk-estimator input.sk-toggleable__control:checked~label.sk-toggleable__label {background-color: #d4ebff;}#sk-container-id-2 div.sk-label input.sk-toggleable__control:checked~label.sk-toggleable__label {background-color: #d4ebff;}#sk-container-id-2 input.sk-hidden--visually {border: 0;clip: rect(1px 1px 1px 1px);clip: rect(1px, 1px, 1px, 1px);height: 1px;margin: -1px;overflow: hidden;padding: 0;position: absolute;width: 1px;}#sk-container-id-2 div.sk-estimator {font-family: monospace;background-color: #f0f8ff;border: 1px dotted black;border-radius: 0.25em;box-sizing: border-box;margin-bottom: 0.5em;}#sk-container-id-2 div.sk-estimator:hover {background-color: #d4ebff;}#sk-container-id-2 div.sk-parallel-item::after {content: \"\";width: 100%;border-bottom: 1px solid gray;flex-grow: 1;}#sk-container-id-2 div.sk-label:hover label.sk-toggleable__label {background-color: #d4ebff;}#sk-container-id-2 div.sk-serial::before {content: \"\";position: absolute;border-left: 1px solid gray;box-sizing: border-box;top: 0;bottom: 0;left: 50%;z-index: 0;}#sk-container-id-2 div.sk-serial {display: flex;flex-direction: column;align-items: center;background-color: white;padding-right: 0.2em;padding-left: 0.2em;position: relative;}#sk-container-id-2 div.sk-item {position: relative;z-index: 1;}#sk-container-id-2 div.sk-parallel {display: flex;align-items: stretch;justify-content: center;background-color: white;position: relative;}#sk-container-id-2 div.sk-item::before, #sk-container-id-2 div.sk-parallel-item::before {content: \"\";position: absolute;border-left: 1px solid gray;box-sizing: border-box;top: 0;bottom: 0;left: 50%;z-index: -1;}#sk-container-id-2 div.sk-parallel-item {display: flex;flex-direction: column;z-index: 1;position: relative;background-color: white;}#sk-container-id-2 div.sk-parallel-item:first-child::after {align-self: flex-end;width: 50%;}#sk-container-id-2 div.sk-parallel-item:last-child::after {align-self: flex-start;width: 50%;}#sk-container-id-2 div.sk-parallel-item:only-child::after {width: 0;}#sk-container-id-2 div.sk-dashed-wrapped {border: 1px dashed gray;margin: 0 0.4em 0.5em 0.4em;box-sizing: border-box;padding-bottom: 0.4em;background-color: white;}#sk-container-id-2 div.sk-label label {font-family: monospace;font-weight: bold;display: inline-block;line-height: 1.2em;}#sk-container-id-2 div.sk-label-container {text-align: center;}#sk-container-id-2 div.sk-container {/* jupyter's `normalize.less` sets `[hidden] { display: none; }` but bootstrap.min.css set `[hidden] { display: none !important; }` so we also need the `!important` here to be able to override the default hidden behavior on the sphinx rendered scikit-learn.org. See: https://github.com/scikit-learn/scikit-learn/issues/21755 */display: inline-block !important;position: relative;}#sk-container-id-2 div.sk-text-repr-fallback {display: none;}</style><div id=\"sk-container-id-2\" class=\"sk-top-container\"><div class=\"sk-text-repr-fallback\"><pre>GridSearchCV(cv=10, estimator=BernoulliNB(), n_jobs=-1,\n",
              "             param_grid={&#x27;alpha&#x27;: [0.01, 0.1, 0.5, 1.0, 10.0],\n",
              "                         &#x27;binarize&#x27;: [None, 0.0, 8.5, 10.0],\n",
              "                         &#x27;class_prior&#x27;: [None, [0.1, 0.1]],\n",
              "                         &#x27;fit_prior&#x27;: [True, False]})</pre><b>In a Jupyter environment, please rerun this cell to show the HTML representation or trust the notebook. <br />On GitHub, the HTML representation is unable to render, please try loading this page with nbviewer.org.</b></div><div class=\"sk-container\" hidden><div class=\"sk-item sk-dashed-wrapped\"><div class=\"sk-label-container\"><div class=\"sk-label sk-toggleable\"><input class=\"sk-toggleable__control sk-hidden--visually\" id=\"sk-estimator-id-2\" type=\"checkbox\" ><label for=\"sk-estimator-id-2\" class=\"sk-toggleable__label sk-toggleable__label-arrow\">GridSearchCV</label><div class=\"sk-toggleable__content\"><pre>GridSearchCV(cv=10, estimator=BernoulliNB(), n_jobs=-1,\n",
              "             param_grid={&#x27;alpha&#x27;: [0.01, 0.1, 0.5, 1.0, 10.0],\n",
              "                         &#x27;binarize&#x27;: [None, 0.0, 8.5, 10.0],\n",
              "                         &#x27;class_prior&#x27;: [None, [0.1, 0.1]],\n",
              "                         &#x27;fit_prior&#x27;: [True, False]})</pre></div></div></div><div class=\"sk-parallel\"><div class=\"sk-parallel-item\"><div class=\"sk-item\"><div class=\"sk-label-container\"><div class=\"sk-label sk-toggleable\"><input class=\"sk-toggleable__control sk-hidden--visually\" id=\"sk-estimator-id-3\" type=\"checkbox\" ><label for=\"sk-estimator-id-3\" class=\"sk-toggleable__label sk-toggleable__label-arrow\">estimator: BernoulliNB</label><div class=\"sk-toggleable__content\"><pre>BernoulliNB()</pre></div></div></div><div class=\"sk-serial\"><div class=\"sk-item\"><div class=\"sk-estimator sk-toggleable\"><input class=\"sk-toggleable__control sk-hidden--visually\" id=\"sk-estimator-id-4\" type=\"checkbox\" ><label for=\"sk-estimator-id-4\" class=\"sk-toggleable__label sk-toggleable__label-arrow\">BernoulliNB</label><div class=\"sk-toggleable__content\"><pre>BernoulliNB()</pre></div></div></div></div></div></div></div></div></div></div>"
            ]
          },
          "metadata": {},
          "execution_count": 48
        }
      ],
      "source": [
        "### fit the best model\n",
        "nb_grid.fit(X_train, y_train)"
      ]
    },
    {
      "cell_type": "code",
      "execution_count": null,
      "id": "a3f6746b",
      "metadata": {
        "ExecuteTime": {
          "end_time": "2023-04-17T22:39:51.761965Z",
          "start_time": "2023-04-17T22:39:51.752641Z"
        },
        "id": "a3f6746b"
      },
      "outputs": [],
      "source": [
        "optimised_nb = nb_grid.best_estimator_"
      ]
    },
    {
      "cell_type": "code",
      "execution_count": null,
      "id": "13eaf05c",
      "metadata": {
        "ExecuteTime": {
          "end_time": "2023-04-17T22:39:51.777284Z",
          "start_time": "2023-04-17T22:39:51.767581Z"
        },
        "id": "13eaf05c"
      },
      "outputs": [],
      "source": [
        "### make prediction with the best model\n",
        "y_pred = optimised_nb.predict(X_test)"
      ]
    },
    {
      "cell_type": "code",
      "execution_count": null,
      "id": "fb0c68b9",
      "metadata": {
        "ExecuteTime": {
          "end_time": "2023-04-17T22:39:51.823987Z",
          "start_time": "2023-04-17T22:39:51.783933Z"
        },
        "colab": {
          "base_uri": "https://localhost:8080/"
        },
        "id": "fb0c68b9",
        "outputId": "f0c51ee8-1a38-4d10-e82c-04cf983ca6d9"
      },
      "outputs": [
        {
          "output_type": "stream",
          "name": "stdout",
          "text": [
            "Test Accuracy: 0.76\n",
            "Test Precision: 0.76\n",
            "Test Recall: 1.0\n",
            "Test F1-score: 0.8636363636363636\n",
            "Test AUC: 0.5\n"
          ]
        }
      ],
      "source": [
        "### Model Evaluation - Test dataset\n",
        "\n",
        "f1score = f1_score(y_test, y_pred)\n",
        "accuracy = accuracy_score(y_test, y_pred)\n",
        "tn, fp, fn, tp = confusion_matrix(y_test, y_pred).ravel()\n",
        "precision = tp / (tp + fp)\n",
        "recall = tp / (tp + tn)\n",
        "fpr, tpr, thresholds = roc_curve(y_test, y_pred)\n",
        "test_auc = auc(fpr, tpr)\n",
        "\n",
        "\n",
        "print('Test Accuracy:', accuracy)\n",
        "print('Test Precision:', precision)\n",
        "print('Test Recall:', recall)\n",
        "print('Test F1-score:', f1score)\n",
        "print('Test AUC:', test_auc)"
      ]
    },
    {
      "cell_type": "code",
      "execution_count": null,
      "id": "68020054",
      "metadata": {
        "id": "68020054"
      },
      "outputs": [],
      "source": []
    },
    {
      "cell_type": "code",
      "execution_count": null,
      "id": "5e5c433e",
      "metadata": {
        "ExecuteTime": {
          "end_time": "2023-04-17T22:39:51.838618Z",
          "start_time": "2023-04-17T22:39:51.829576Z"
        },
        "id": "5e5c433e"
      },
      "outputs": [],
      "source": [
        "#### DECISION TREE CLASSIFICATION MODEL"
      ]
    },
    {
      "cell_type": "code",
      "execution_count": null,
      "id": "9c83a98e",
      "metadata": {
        "ExecuteTime": {
          "end_time": "2023-04-17T22:39:52.364787Z",
          "start_time": "2023-04-17T22:39:51.844234Z"
        },
        "colab": {
          "base_uri": "https://localhost:8080/"
        },
        "id": "9c83a98e",
        "outputId": "bc52b175-0fb9-4986-8cae-20a1d8662254"
      },
      "outputs": [
        {
          "output_type": "stream",
          "name": "stdout",
          "text": [
            "{'criterion': 'gini', 'max_depth': 7}\n"
          ]
        }
      ],
      "source": [
        "param_grid = {'criterion': ['gini'], \n",
        "              'max_depth': range(2,15)}\n",
        "\n",
        "optimal_params = GridSearchCV(tree.DecisionTreeClassifier(),\n",
        "                             param_grid,\n",
        "                             cv=10, # 10-fold cross validation\n",
        "                             scoring='accuracy',\n",
        "                             verbose=0,\n",
        "                             n_jobs=-1)\n",
        "\n",
        "optimal_params.fit(X_train, y_train)\n",
        "print(optimal_params.best_params_)"
      ]
    },
    {
      "cell_type": "code",
      "execution_count": null,
      "id": "602bbf43",
      "metadata": {
        "ExecuteTime": {
          "end_time": "2023-04-17T22:39:52.380684Z",
          "start_time": "2023-04-17T22:39:52.369318Z"
        },
        "id": "602bbf43"
      },
      "outputs": [],
      "source": [
        "criterion = optimal_params.best_params_['criterion']\n",
        "max_depth = optimal_params.best_params_['max_depth']"
      ]
    },
    {
      "cell_type": "code",
      "execution_count": null,
      "id": "af63f8a5",
      "metadata": {
        "ExecuteTime": {
          "end_time": "2023-04-17T22:39:52.411836Z",
          "start_time": "2023-04-17T22:39:52.388387Z"
        },
        "id": "af63f8a5"
      },
      "outputs": [],
      "source": [
        "dt = tree.DecisionTreeClassifier(criterion=criterion, max_depth=max_depth).fit(X_train, y_train)"
      ]
    },
    {
      "cell_type": "code",
      "execution_count": null,
      "id": "a377ff4a",
      "metadata": {
        "ExecuteTime": {
          "end_time": "2023-04-17T22:39:52.441997Z",
          "start_time": "2023-04-17T22:39:52.418076Z"
        },
        "id": "a377ff4a"
      },
      "outputs": [],
      "source": [
        "### Make prediction with the best model\n",
        "y_pred = dt.predict(X_test)"
      ]
    },
    {
      "cell_type": "code",
      "execution_count": null,
      "id": "4c61c7b5",
      "metadata": {
        "ExecuteTime": {
          "end_time": "2023-04-17T22:39:52.488097Z",
          "start_time": "2023-04-17T22:39:52.450215Z"
        },
        "colab": {
          "base_uri": "https://localhost:8080/"
        },
        "id": "4c61c7b5",
        "outputId": "b157687e-a8a9-43ce-d37e-aaefefd5c59c"
      },
      "outputs": [
        {
          "output_type": "stream",
          "name": "stdout",
          "text": [
            "Test Accuracy: 0.68\n",
            "Test Precision: 0.8235294117647058\n",
            "Test Recall: 0.8235294117647058\n",
            "Test F1-score: 0.7777777777777778\n",
            "Test AUC: 0.618421052631579\n"
          ]
        }
      ],
      "source": [
        "###Decision Tree Model Evaluation - Test dataset\n",
        "\n",
        "f1score = f1_score(y_test, y_pred)\n",
        "accuracy = accuracy_score(y_test, y_pred)\n",
        "tn, fp, fn, tp = confusion_matrix(y_test, y_pred).ravel()\n",
        "precision = tp / (tp + fp)\n",
        "recall = tp / (tp + tn)\n",
        "fpr, tpr, thresholds = roc_curve(y_test, y_pred)\n",
        "test_auc = auc(fpr, tpr)\n",
        "\n",
        "\n",
        "print('Test Accuracy:', accuracy)\n",
        "print('Test Precision:', precision)\n",
        "print('Test Recall:', recall)\n",
        "print('Test F1-score:', f1score)\n",
        "print('Test AUC:', test_auc)"
      ]
    },
    {
      "cell_type": "code",
      "execution_count": null,
      "id": "b83aea80",
      "metadata": {
        "id": "b83aea80"
      },
      "outputs": [],
      "source": []
    },
    {
      "cell_type": "code",
      "execution_count": null,
      "id": "75ed80ce",
      "metadata": {
        "ExecuteTime": {
          "end_time": "2023-04-17T22:39:52.503538Z",
          "start_time": "2023-04-17T22:39:52.493759Z"
        },
        "id": "75ed80ce"
      },
      "outputs": [],
      "source": [
        "### RANDOM FOREST CLASSIFICATION MODEL"
      ]
    },
    {
      "cell_type": "code",
      "execution_count": null,
      "id": "0d46499e",
      "metadata": {
        "ExecuteTime": {
          "end_time": "2023-04-17T22:39:52.534037Z",
          "start_time": "2023-04-17T22:39:52.514825Z"
        },
        "id": "0d46499e"
      },
      "outputs": [],
      "source": [
        "# Number of trees in decision tree\n",
        "n_estimators = [int(x) for x in np.linspace(start = 10, stop = 100, num = 10)]\n",
        "\n",
        "# Number of features to consider at every split\n",
        "max_features = ['auto', 'sqrt', 'log2']\n",
        "\n",
        "# Maximum number of levels in tree\n",
        "max_depth = range(1,10)\n",
        "\n",
        "# measure the quality of a split\n",
        "criterion = ['gini']\n",
        "\n",
        "# Method of selecting samples for training each tree\n",
        "bootstrap = [True, False]"
      ]
    },
    {
      "cell_type": "code",
      "execution_count": null,
      "id": "6342df2f",
      "metadata": {
        "ExecuteTime": {
          "end_time": "2023-04-17T22:39:52.564420Z",
          "start_time": "2023-04-17T22:39:52.542396Z"
        },
        "id": "6342df2f"
      },
      "outputs": [],
      "source": [
        "# Create the param grid\n",
        "param_grid = {'n_estimators': n_estimators,\n",
        "               'max_features': max_features,\n",
        "               'max_depth': max_depth,\n",
        "               'criterion': criterion,\n",
        "               'bootstrap': bootstrap}"
      ]
    },
    {
      "cell_type": "code",
      "execution_count": null,
      "id": "18426e33",
      "metadata": {
        "ExecuteTime": {
          "end_time": "2023-04-17T22:43:42.926486Z",
          "start_time": "2023-04-17T22:39:52.571426Z"
        },
        "colab": {
          "base_uri": "https://localhost:8080/"
        },
        "id": "18426e33",
        "outputId": "74f8ee5d-1501-4e38-df2c-350e39acc24d"
      },
      "outputs": [
        {
          "output_type": "stream",
          "name": "stdout",
          "text": [
            "{'bootstrap': True, 'criterion': 'gini', 'max_depth': 7, 'max_features': 'log2', 'n_estimators': 40}\n"
          ]
        }
      ],
      "source": [
        "optimal_params = GridSearchCV(RandomForestClassifier(),\n",
        "                             param_grid,\n",
        "                             cv=10, #10-fold cross validation\n",
        "                             scoring='accuracy',\n",
        "                             verbose=0,\n",
        "                             n_jobs=-1)\n",
        "\n",
        "optimal_params.fit(X_train, y_train)\n",
        "print(optimal_params.best_params_)"
      ]
    },
    {
      "cell_type": "code",
      "execution_count": null,
      "id": "68a02a28",
      "metadata": {
        "ExecuteTime": {
          "end_time": "2023-04-17T22:43:43.143277Z",
          "start_time": "2023-04-17T22:43:42.932000Z"
        },
        "colab": {
          "base_uri": "https://localhost:8080/",
          "height": 92
        },
        "id": "68a02a28",
        "outputId": "1e506a74-ece2-4e78-c118-b3cb0fd7641e"
      },
      "outputs": [
        {
          "output_type": "execute_result",
          "data": {
            "text/plain": [
              "RandomForestClassifier(max_depth=7, max_features='log2', n_estimators=40,\n",
              "                       random_state=4)"
            ],
            "text/html": [
              "<style>#sk-container-id-3 {color: black;background-color: white;}#sk-container-id-3 pre{padding: 0;}#sk-container-id-3 div.sk-toggleable {background-color: white;}#sk-container-id-3 label.sk-toggleable__label {cursor: pointer;display: block;width: 100%;margin-bottom: 0;padding: 0.3em;box-sizing: border-box;text-align: center;}#sk-container-id-3 label.sk-toggleable__label-arrow:before {content: \"▸\";float: left;margin-right: 0.25em;color: #696969;}#sk-container-id-3 label.sk-toggleable__label-arrow:hover:before {color: black;}#sk-container-id-3 div.sk-estimator:hover label.sk-toggleable__label-arrow:before {color: black;}#sk-container-id-3 div.sk-toggleable__content {max-height: 0;max-width: 0;overflow: hidden;text-align: left;background-color: #f0f8ff;}#sk-container-id-3 div.sk-toggleable__content pre {margin: 0.2em;color: black;border-radius: 0.25em;background-color: #f0f8ff;}#sk-container-id-3 input.sk-toggleable__control:checked~div.sk-toggleable__content {max-height: 200px;max-width: 100%;overflow: auto;}#sk-container-id-3 input.sk-toggleable__control:checked~label.sk-toggleable__label-arrow:before {content: \"▾\";}#sk-container-id-3 div.sk-estimator input.sk-toggleable__control:checked~label.sk-toggleable__label {background-color: #d4ebff;}#sk-container-id-3 div.sk-label input.sk-toggleable__control:checked~label.sk-toggleable__label {background-color: #d4ebff;}#sk-container-id-3 input.sk-hidden--visually {border: 0;clip: rect(1px 1px 1px 1px);clip: rect(1px, 1px, 1px, 1px);height: 1px;margin: -1px;overflow: hidden;padding: 0;position: absolute;width: 1px;}#sk-container-id-3 div.sk-estimator {font-family: monospace;background-color: #f0f8ff;border: 1px dotted black;border-radius: 0.25em;box-sizing: border-box;margin-bottom: 0.5em;}#sk-container-id-3 div.sk-estimator:hover {background-color: #d4ebff;}#sk-container-id-3 div.sk-parallel-item::after {content: \"\";width: 100%;border-bottom: 1px solid gray;flex-grow: 1;}#sk-container-id-3 div.sk-label:hover label.sk-toggleable__label {background-color: #d4ebff;}#sk-container-id-3 div.sk-serial::before {content: \"\";position: absolute;border-left: 1px solid gray;box-sizing: border-box;top: 0;bottom: 0;left: 50%;z-index: 0;}#sk-container-id-3 div.sk-serial {display: flex;flex-direction: column;align-items: center;background-color: white;padding-right: 0.2em;padding-left: 0.2em;position: relative;}#sk-container-id-3 div.sk-item {position: relative;z-index: 1;}#sk-container-id-3 div.sk-parallel {display: flex;align-items: stretch;justify-content: center;background-color: white;position: relative;}#sk-container-id-3 div.sk-item::before, #sk-container-id-3 div.sk-parallel-item::before {content: \"\";position: absolute;border-left: 1px solid gray;box-sizing: border-box;top: 0;bottom: 0;left: 50%;z-index: -1;}#sk-container-id-3 div.sk-parallel-item {display: flex;flex-direction: column;z-index: 1;position: relative;background-color: white;}#sk-container-id-3 div.sk-parallel-item:first-child::after {align-self: flex-end;width: 50%;}#sk-container-id-3 div.sk-parallel-item:last-child::after {align-self: flex-start;width: 50%;}#sk-container-id-3 div.sk-parallel-item:only-child::after {width: 0;}#sk-container-id-3 div.sk-dashed-wrapped {border: 1px dashed gray;margin: 0 0.4em 0.5em 0.4em;box-sizing: border-box;padding-bottom: 0.4em;background-color: white;}#sk-container-id-3 div.sk-label label {font-family: monospace;font-weight: bold;display: inline-block;line-height: 1.2em;}#sk-container-id-3 div.sk-label-container {text-align: center;}#sk-container-id-3 div.sk-container {/* jupyter's `normalize.less` sets `[hidden] { display: none; }` but bootstrap.min.css set `[hidden] { display: none !important; }` so we also need the `!important` here to be able to override the default hidden behavior on the sphinx rendered scikit-learn.org. See: https://github.com/scikit-learn/scikit-learn/issues/21755 */display: inline-block !important;position: relative;}#sk-container-id-3 div.sk-text-repr-fallback {display: none;}</style><div id=\"sk-container-id-3\" class=\"sk-top-container\"><div class=\"sk-text-repr-fallback\"><pre>RandomForestClassifier(max_depth=7, max_features=&#x27;log2&#x27;, n_estimators=40,\n",
              "                       random_state=4)</pre><b>In a Jupyter environment, please rerun this cell to show the HTML representation or trust the notebook. <br />On GitHub, the HTML representation is unable to render, please try loading this page with nbviewer.org.</b></div><div class=\"sk-container\" hidden><div class=\"sk-item\"><div class=\"sk-estimator sk-toggleable\"><input class=\"sk-toggleable__control sk-hidden--visually\" id=\"sk-estimator-id-5\" type=\"checkbox\" checked><label for=\"sk-estimator-id-5\" class=\"sk-toggleable__label sk-toggleable__label-arrow\">RandomForestClassifier</label><div class=\"sk-toggleable__content\"><pre>RandomForestClassifier(max_depth=7, max_features=&#x27;log2&#x27;, n_estimators=40,\n",
              "                       random_state=4)</pre></div></div></div></div></div>"
            ]
          },
          "metadata": {},
          "execution_count": 63
        }
      ],
      "source": [
        "bootstrap = optimal_params.best_params_['bootstrap']\n",
        "criterion = optimal_params.best_params_['criterion']\n",
        "max_depth = optimal_params.best_params_['max_depth']\n",
        "max_features = optimal_params.best_params_['max_features']\n",
        "n_estimators = optimal_params.best_params_['n_estimators']\n",
        "\n",
        "\n",
        "rfc = RandomForestClassifier(n_estimators=n_estimators, \n",
        "                             max_features=max_features, \n",
        "                             max_depth=max_depth, \n",
        "                             criterion=criterion,\n",
        "                             bootstrap=bootstrap,\n",
        "                             random_state=4)\n",
        "\n",
        "rfc.fit(X_train, y_train)"
      ]
    },
    {
      "cell_type": "code",
      "execution_count": null,
      "id": "ecd3af7a",
      "metadata": {
        "ExecuteTime": {
          "end_time": "2023-04-17T22:43:43.174601Z",
          "start_time": "2023-04-17T22:43:43.151633Z"
        },
        "id": "ecd3af7a"
      },
      "outputs": [],
      "source": [
        "### Make prediction\n",
        "y_pred = rfc.predict(X_test)"
      ]
    },
    {
      "cell_type": "code",
      "execution_count": null,
      "id": "e2fb3001",
      "metadata": {
        "ExecuteTime": {
          "end_time": "2023-04-17T22:43:43.220576Z",
          "start_time": "2023-04-17T22:43:43.181948Z"
        },
        "colab": {
          "base_uri": "https://localhost:8080/"
        },
        "id": "e2fb3001",
        "outputId": "b05faaec-c913-454f-e8ac-00a3230f17ca"
      },
      "outputs": [
        {
          "output_type": "stream",
          "name": "stdout",
          "text": [
            "Test Accuracy: 0.84\n",
            "Test Precision: 0.9411764705882353\n",
            "Test Recall: 0.7619047619047619\n",
            "Test F1-score: 0.8888888888888888\n",
            "Test AUC: 0.8377192982456141\n"
          ]
        }
      ],
      "source": [
        "### Random Forest Model Evaluation - Test dataset\n",
        "\n",
        "f1score = f1_score(y_test, y_pred)\n",
        "accuracy = accuracy_score(y_test, y_pred)\n",
        "tn, fp, fn, tp = confusion_matrix(y_test, y_pred).ravel()\n",
        "precision = tp / (tp + fp)\n",
        "recall = tp / (tp + tn)\n",
        "fpr, tpr, thresholds = roc_curve(y_test, y_pred)\n",
        "train_auc = auc(fpr, tpr)\n",
        "\n",
        "\n",
        "print('Test Accuracy:', accuracy)\n",
        "print('Test Precision:', precision)\n",
        "print('Test Recall:', recall)\n",
        "print('Test F1-score:', f1score)\n",
        "print('Test AUC:', train_auc)"
      ]
    },
    {
      "cell_type": "code",
      "execution_count": null,
      "id": "2a6ec2cc",
      "metadata": {
        "id": "2a6ec2cc"
      },
      "outputs": [],
      "source": []
    },
    {
      "cell_type": "code",
      "execution_count": null,
      "id": "48bd7211",
      "metadata": {
        "ExecuteTime": {
          "end_time": "2023-04-17T22:43:43.251763Z",
          "start_time": "2023-04-17T22:43:43.227741Z"
        },
        "id": "48bd7211"
      },
      "outputs": [],
      "source": [
        "#### EXTREME GRADIENT BOOSTED MODEL"
      ]
    },
    {
      "cell_type": "code",
      "execution_count": null,
      "id": "ff5c0b47",
      "metadata": {
        "ExecuteTime": {
          "end_time": "2023-04-17T22:43:43.281743Z",
          "start_time": "2023-04-17T22:43:43.257831Z"
        },
        "id": "ff5c0b47"
      },
      "outputs": [],
      "source": [
        "estimator = xgb.XGBClassifier(\n",
        "objective= 'binary:logistic',\n",
        "nthread=4,\n",
        "seed=15\n",
        ")"
      ]
    },
    {
      "cell_type": "code",
      "execution_count": null,
      "id": "15736a83",
      "metadata": {
        "ExecuteTime": {
          "end_time": "2023-04-17T22:43:43.312441Z",
          "start_time": "2023-04-17T22:43:43.287640Z"
        },
        "id": "15736a83"
      },
      "outputs": [],
      "source": [
        "parameters = {\n",
        "    'max_depth':range(2,10,1),\n",
        "    'n_estimators':range(60,220,40),\n",
        "    'learning_rate':[0.1,0.01,0.05]\n",
        "}"
      ]
    },
    {
      "cell_type": "code",
      "execution_count": null,
      "id": "a852ee03",
      "metadata": {
        "ExecuteTime": {
          "end_time": "2023-04-17T22:43:43.374359Z",
          "start_time": "2023-04-17T22:43:43.360260Z"
        },
        "id": "a852ee03"
      },
      "outputs": [],
      "source": [
        "grid_search=GridSearchCV(\n",
        "estimator=estimator,\n",
        "param_grid=parameters,\n",
        "scoring='accuracy',\n",
        "n_jobs=-1,\n",
        "cv=10)"
      ]
    },
    {
      "cell_type": "code",
      "execution_count": null,
      "id": "801fea0b",
      "metadata": {
        "ExecuteTime": {
          "end_time": "2023-04-17T22:44:35.432134Z",
          "start_time": "2023-04-17T22:43:43.382153Z"
        },
        "colab": {
          "base_uri": "https://localhost:8080/",
          "height": 118
        },
        "id": "801fea0b",
        "outputId": "0b78de43-9bdb-4deb-b5d3-06adfd811839"
      },
      "outputs": [
        {
          "output_type": "execute_result",
          "data": {
            "text/plain": [
              "GridSearchCV(cv=10,\n",
              "             estimator=XGBClassifier(base_score=None, booster=None,\n",
              "                                     callbacks=None, colsample_bylevel=None,\n",
              "                                     colsample_bynode=None,\n",
              "                                     colsample_bytree=None,\n",
              "                                     early_stopping_rounds=None,\n",
              "                                     enable_categorical=False, eval_metric=None,\n",
              "                                     feature_types=None, gamma=None,\n",
              "                                     gpu_id=None, grow_policy=None,\n",
              "                                     importance_type=None,\n",
              "                                     interaction_constraints=None,\n",
              "                                     learning_rate=None...\n",
              "                                     max_cat_threshold=None,\n",
              "                                     max_cat_to_onehot=None,\n",
              "                                     max_delta_step=None, max_depth=None,\n",
              "                                     max_leaves=None, min_child_weight=None,\n",
              "                                     missing=nan, monotone_constraints=None,\n",
              "                                     n_estimators=100, n_jobs=None, nthread=4,\n",
              "                                     num_parallel_tree=None, predictor=None, ...),\n",
              "             n_jobs=-1,\n",
              "             param_grid={'learning_rate': [0.1, 0.01, 0.05],\n",
              "                         'max_depth': range(2, 10),\n",
              "                         'n_estimators': range(60, 220, 40)},\n",
              "             scoring='accuracy')"
            ],
            "text/html": [
              "<style>#sk-container-id-4 {color: black;background-color: white;}#sk-container-id-4 pre{padding: 0;}#sk-container-id-4 div.sk-toggleable {background-color: white;}#sk-container-id-4 label.sk-toggleable__label {cursor: pointer;display: block;width: 100%;margin-bottom: 0;padding: 0.3em;box-sizing: border-box;text-align: center;}#sk-container-id-4 label.sk-toggleable__label-arrow:before {content: \"▸\";float: left;margin-right: 0.25em;color: #696969;}#sk-container-id-4 label.sk-toggleable__label-arrow:hover:before {color: black;}#sk-container-id-4 div.sk-estimator:hover label.sk-toggleable__label-arrow:before {color: black;}#sk-container-id-4 div.sk-toggleable__content {max-height: 0;max-width: 0;overflow: hidden;text-align: left;background-color: #f0f8ff;}#sk-container-id-4 div.sk-toggleable__content pre {margin: 0.2em;color: black;border-radius: 0.25em;background-color: #f0f8ff;}#sk-container-id-4 input.sk-toggleable__control:checked~div.sk-toggleable__content {max-height: 200px;max-width: 100%;overflow: auto;}#sk-container-id-4 input.sk-toggleable__control:checked~label.sk-toggleable__label-arrow:before {content: \"▾\";}#sk-container-id-4 div.sk-estimator input.sk-toggleable__control:checked~label.sk-toggleable__label {background-color: #d4ebff;}#sk-container-id-4 div.sk-label input.sk-toggleable__control:checked~label.sk-toggleable__label {background-color: #d4ebff;}#sk-container-id-4 input.sk-hidden--visually {border: 0;clip: rect(1px 1px 1px 1px);clip: rect(1px, 1px, 1px, 1px);height: 1px;margin: -1px;overflow: hidden;padding: 0;position: absolute;width: 1px;}#sk-container-id-4 div.sk-estimator {font-family: monospace;background-color: #f0f8ff;border: 1px dotted black;border-radius: 0.25em;box-sizing: border-box;margin-bottom: 0.5em;}#sk-container-id-4 div.sk-estimator:hover {background-color: #d4ebff;}#sk-container-id-4 div.sk-parallel-item::after {content: \"\";width: 100%;border-bottom: 1px solid gray;flex-grow: 1;}#sk-container-id-4 div.sk-label:hover label.sk-toggleable__label {background-color: #d4ebff;}#sk-container-id-4 div.sk-serial::before {content: \"\";position: absolute;border-left: 1px solid gray;box-sizing: border-box;top: 0;bottom: 0;left: 50%;z-index: 0;}#sk-container-id-4 div.sk-serial {display: flex;flex-direction: column;align-items: center;background-color: white;padding-right: 0.2em;padding-left: 0.2em;position: relative;}#sk-container-id-4 div.sk-item {position: relative;z-index: 1;}#sk-container-id-4 div.sk-parallel {display: flex;align-items: stretch;justify-content: center;background-color: white;position: relative;}#sk-container-id-4 div.sk-item::before, #sk-container-id-4 div.sk-parallel-item::before {content: \"\";position: absolute;border-left: 1px solid gray;box-sizing: border-box;top: 0;bottom: 0;left: 50%;z-index: -1;}#sk-container-id-4 div.sk-parallel-item {display: flex;flex-direction: column;z-index: 1;position: relative;background-color: white;}#sk-container-id-4 div.sk-parallel-item:first-child::after {align-self: flex-end;width: 50%;}#sk-container-id-4 div.sk-parallel-item:last-child::after {align-self: flex-start;width: 50%;}#sk-container-id-4 div.sk-parallel-item:only-child::after {width: 0;}#sk-container-id-4 div.sk-dashed-wrapped {border: 1px dashed gray;margin: 0 0.4em 0.5em 0.4em;box-sizing: border-box;padding-bottom: 0.4em;background-color: white;}#sk-container-id-4 div.sk-label label {font-family: monospace;font-weight: bold;display: inline-block;line-height: 1.2em;}#sk-container-id-4 div.sk-label-container {text-align: center;}#sk-container-id-4 div.sk-container {/* jupyter's `normalize.less` sets `[hidden] { display: none; }` but bootstrap.min.css set `[hidden] { display: none !important; }` so we also need the `!important` here to be able to override the default hidden behavior on the sphinx rendered scikit-learn.org. See: https://github.com/scikit-learn/scikit-learn/issues/21755 */display: inline-block !important;position: relative;}#sk-container-id-4 div.sk-text-repr-fallback {display: none;}</style><div id=\"sk-container-id-4\" class=\"sk-top-container\"><div class=\"sk-text-repr-fallback\"><pre>GridSearchCV(cv=10,\n",
              "             estimator=XGBClassifier(base_score=None, booster=None,\n",
              "                                     callbacks=None, colsample_bylevel=None,\n",
              "                                     colsample_bynode=None,\n",
              "                                     colsample_bytree=None,\n",
              "                                     early_stopping_rounds=None,\n",
              "                                     enable_categorical=False, eval_metric=None,\n",
              "                                     feature_types=None, gamma=None,\n",
              "                                     gpu_id=None, grow_policy=None,\n",
              "                                     importance_type=None,\n",
              "                                     interaction_constraints=None,\n",
              "                                     learning_rate=None...\n",
              "                                     max_cat_threshold=None,\n",
              "                                     max_cat_to_onehot=None,\n",
              "                                     max_delta_step=None, max_depth=None,\n",
              "                                     max_leaves=None, min_child_weight=None,\n",
              "                                     missing=nan, monotone_constraints=None,\n",
              "                                     n_estimators=100, n_jobs=None, nthread=4,\n",
              "                                     num_parallel_tree=None, predictor=None, ...),\n",
              "             n_jobs=-1,\n",
              "             param_grid={&#x27;learning_rate&#x27;: [0.1, 0.01, 0.05],\n",
              "                         &#x27;max_depth&#x27;: range(2, 10),\n",
              "                         &#x27;n_estimators&#x27;: range(60, 220, 40)},\n",
              "             scoring=&#x27;accuracy&#x27;)</pre><b>In a Jupyter environment, please rerun this cell to show the HTML representation or trust the notebook. <br />On GitHub, the HTML representation is unable to render, please try loading this page with nbviewer.org.</b></div><div class=\"sk-container\" hidden><div class=\"sk-item sk-dashed-wrapped\"><div class=\"sk-label-container\"><div class=\"sk-label sk-toggleable\"><input class=\"sk-toggleable__control sk-hidden--visually\" id=\"sk-estimator-id-6\" type=\"checkbox\" ><label for=\"sk-estimator-id-6\" class=\"sk-toggleable__label sk-toggleable__label-arrow\">GridSearchCV</label><div class=\"sk-toggleable__content\"><pre>GridSearchCV(cv=10,\n",
              "             estimator=XGBClassifier(base_score=None, booster=None,\n",
              "                                     callbacks=None, colsample_bylevel=None,\n",
              "                                     colsample_bynode=None,\n",
              "                                     colsample_bytree=None,\n",
              "                                     early_stopping_rounds=None,\n",
              "                                     enable_categorical=False, eval_metric=None,\n",
              "                                     feature_types=None, gamma=None,\n",
              "                                     gpu_id=None, grow_policy=None,\n",
              "                                     importance_type=None,\n",
              "                                     interaction_constraints=None,\n",
              "                                     learning_rate=None...\n",
              "                                     max_cat_threshold=None,\n",
              "                                     max_cat_to_onehot=None,\n",
              "                                     max_delta_step=None, max_depth=None,\n",
              "                                     max_leaves=None, min_child_weight=None,\n",
              "                                     missing=nan, monotone_constraints=None,\n",
              "                                     n_estimators=100, n_jobs=None, nthread=4,\n",
              "                                     num_parallel_tree=None, predictor=None, ...),\n",
              "             n_jobs=-1,\n",
              "             param_grid={&#x27;learning_rate&#x27;: [0.1, 0.01, 0.05],\n",
              "                         &#x27;max_depth&#x27;: range(2, 10),\n",
              "                         &#x27;n_estimators&#x27;: range(60, 220, 40)},\n",
              "             scoring=&#x27;accuracy&#x27;)</pre></div></div></div><div class=\"sk-parallel\"><div class=\"sk-parallel-item\"><div class=\"sk-item\"><div class=\"sk-label-container\"><div class=\"sk-label sk-toggleable\"><input class=\"sk-toggleable__control sk-hidden--visually\" id=\"sk-estimator-id-7\" type=\"checkbox\" ><label for=\"sk-estimator-id-7\" class=\"sk-toggleable__label sk-toggleable__label-arrow\">estimator: XGBClassifier</label><div class=\"sk-toggleable__content\"><pre>XGBClassifier(base_score=None, booster=None, callbacks=None,\n",
              "              colsample_bylevel=None, colsample_bynode=None,\n",
              "              colsample_bytree=None, early_stopping_rounds=None,\n",
              "              enable_categorical=False, eval_metric=None, feature_types=None,\n",
              "              gamma=None, gpu_id=None, grow_policy=None, importance_type=None,\n",
              "              interaction_constraints=None, learning_rate=None, max_bin=None,\n",
              "              max_cat_threshold=None, max_cat_to_onehot=None,\n",
              "              max_delta_step=None, max_depth=None, max_leaves=None,\n",
              "              min_child_weight=None, missing=nan, monotone_constraints=None,\n",
              "              n_estimators=100, n_jobs=None, nthread=4, num_parallel_tree=None,\n",
              "              predictor=None, ...)</pre></div></div></div><div class=\"sk-serial\"><div class=\"sk-item\"><div class=\"sk-estimator sk-toggleable\"><input class=\"sk-toggleable__control sk-hidden--visually\" id=\"sk-estimator-id-8\" type=\"checkbox\" ><label for=\"sk-estimator-id-8\" class=\"sk-toggleable__label sk-toggleable__label-arrow\">XGBClassifier</label><div class=\"sk-toggleable__content\"><pre>XGBClassifier(base_score=None, booster=None, callbacks=None,\n",
              "              colsample_bylevel=None, colsample_bynode=None,\n",
              "              colsample_bytree=None, early_stopping_rounds=None,\n",
              "              enable_categorical=False, eval_metric=None, feature_types=None,\n",
              "              gamma=None, gpu_id=None, grow_policy=None, importance_type=None,\n",
              "              interaction_constraints=None, learning_rate=None, max_bin=None,\n",
              "              max_cat_threshold=None, max_cat_to_onehot=None,\n",
              "              max_delta_step=None, max_depth=None, max_leaves=None,\n",
              "              min_child_weight=None, missing=nan, monotone_constraints=None,\n",
              "              n_estimators=100, n_jobs=None, nthread=4, num_parallel_tree=None,\n",
              "              predictor=None, ...)</pre></div></div></div></div></div></div></div></div></div></div>"
            ]
          },
          "metadata": {},
          "execution_count": 70
        }
      ],
      "source": [
        "### Fit the best model\n",
        "grid_search.fit(X_train, y_train)"
      ]
    },
    {
      "cell_type": "code",
      "execution_count": null,
      "id": "c01fc7fd",
      "metadata": {
        "ExecuteTime": {
          "end_time": "2023-04-17T22:44:35.462146Z",
          "start_time": "2023-04-17T22:44:35.436712Z"
        },
        "id": "c01fc7fd"
      },
      "outputs": [],
      "source": [
        "optimised_xgb = grid_search.best_estimator_"
      ]
    },
    {
      "cell_type": "code",
      "execution_count": null,
      "id": "e618ad5f",
      "metadata": {
        "ExecuteTime": {
          "end_time": "2023-04-17T22:44:35.492687Z",
          "start_time": "2023-04-17T22:44:35.466728Z"
        },
        "id": "e618ad5f"
      },
      "outputs": [],
      "source": [
        "### make prediction with the best model\n",
        "y_pred = optimised_xgb.predict(X_test)"
      ]
    },
    {
      "cell_type": "code",
      "execution_count": null,
      "id": "c00cfc5e",
      "metadata": {
        "ExecuteTime": {
          "end_time": "2023-04-17T22:44:35.531016Z",
          "start_time": "2023-04-17T22:44:35.498797Z"
        },
        "colab": {
          "base_uri": "https://localhost:8080/"
        },
        "id": "c00cfc5e",
        "outputId": "467038b5-71e5-40a9-b7ed-0db50d2e2a4a"
      },
      "outputs": [
        {
          "output_type": "stream",
          "name": "stdout",
          "text": [
            "Test Accuracy: 0.8\n",
            "Test Precision: 0.8888888888888888\n",
            "Test Recall: 0.8\n",
            "Test F1-score: 0.8648648648648649\n",
            "Test AUC: 0.7543859649122807\n"
          ]
        }
      ],
      "source": [
        "###XGB Model Evaluation - Test dataset\n",
        "\n",
        "f1score = f1_score(y_test, y_pred)\n",
        "accuracy = accuracy_score(y_test, y_pred)\n",
        "tn, fp, fn, tp = confusion_matrix(y_test, y_pred).ravel()\n",
        "precision = tp / (tp + fp)\n",
        "recall = tp / (tp + tn)\n",
        "fpr, tpr, thresholds = roc_curve(y_test, y_pred)\n",
        "test_auc = auc(fpr, tpr)\n",
        "\n",
        "\n",
        "print('Test Accuracy:', accuracy)\n",
        "print('Test Precision:', precision)\n",
        "print('Test Recall:', recall)\n",
        "print('Test F1-score:', f1score)\n",
        "print('Test AUC:', test_auc)"
      ]
    },
    {
      "cell_type": "code",
      "execution_count": null,
      "id": "a6f88efe",
      "metadata": {
        "id": "a6f88efe"
      },
      "outputs": [],
      "source": []
    },
    {
      "cell_type": "code",
      "execution_count": null,
      "id": "e27a7131",
      "metadata": {
        "ExecuteTime": {
          "end_time": "2023-04-17T22:44:35.554620Z",
          "start_time": "2023-04-17T22:44:35.547000Z"
        },
        "id": "e27a7131"
      },
      "outputs": [],
      "source": [
        "### DEEP LEARNING MODEL"
      ]
    },
    {
      "cell_type": "code",
      "execution_count": null,
      "id": "5ef2b802",
      "metadata": {
        "ExecuteTime": {
          "end_time": "2023-04-17T22:44:35.909647Z",
          "start_time": "2023-04-17T22:44:35.561246Z"
        },
        "id": "5ef2b802"
      },
      "outputs": [],
      "source": [
        "# Define the model\n",
        "model = Sequential()\n",
        "model.add(Dense(64, input_dim=X_train.shape[1], activation='relu'))\n",
        "model.add(Dropout(0.5))\n",
        "model.add(Dense(1, activation='sigmoid'))\n",
        "\n",
        "# Compile the model\n",
        "model.compile(loss='binary_crossentropy', optimizer='adam', metrics=['accuracy'])"
      ]
    },
    {
      "cell_type": "code",
      "execution_count": null,
      "id": "8bc59b0e",
      "metadata": {
        "ExecuteTime": {
          "end_time": "2023-04-17T22:44:45.101489Z",
          "start_time": "2023-04-17T22:44:35.914534Z"
        },
        "colab": {
          "base_uri": "https://localhost:8080/"
        },
        "id": "8bc59b0e",
        "outputId": "15416f5f-eef9-4d8e-a13c-f1da4cc292b8"
      },
      "outputs": [
        {
          "output_type": "stream",
          "name": "stdout",
          "text": [
            "Epoch 1/100\n",
            "3/3 [==============================] - 3s 376ms/step - loss: 0.6204 - accuracy: 0.5974 - val_loss: 0.6381 - val_accuracy: 0.6000\n",
            "Epoch 2/100\n",
            "3/3 [==============================] - 0s 34ms/step - loss: 0.6699 - accuracy: 0.6364 - val_loss: 0.6184 - val_accuracy: 0.6500\n",
            "Epoch 3/100\n",
            "3/3 [==============================] - 0s 39ms/step - loss: 0.6259 - accuracy: 0.6883 - val_loss: 0.6018 - val_accuracy: 0.7000\n",
            "Epoch 4/100\n",
            "3/3 [==============================] - 0s 33ms/step - loss: 0.5662 - accuracy: 0.7143 - val_loss: 0.5851 - val_accuracy: 0.8000\n",
            "Epoch 5/100\n",
            "3/3 [==============================] - 0s 45ms/step - loss: 0.5582 - accuracy: 0.7273 - val_loss: 0.5698 - val_accuracy: 0.8000\n",
            "Epoch 6/100\n",
            "3/3 [==============================] - 0s 39ms/step - loss: 0.6436 - accuracy: 0.6753 - val_loss: 0.5550 - val_accuracy: 0.8000\n",
            "Epoch 7/100\n",
            "3/3 [==============================] - 0s 48ms/step - loss: 0.5624 - accuracy: 0.6753 - val_loss: 0.5405 - val_accuracy: 0.8000\n",
            "Epoch 8/100\n",
            "3/3 [==============================] - 0s 50ms/step - loss: 0.5791 - accuracy: 0.6753 - val_loss: 0.5266 - val_accuracy: 0.8000\n",
            "Epoch 9/100\n",
            "3/3 [==============================] - 0s 48ms/step - loss: 0.5302 - accuracy: 0.7662 - val_loss: 0.5149 - val_accuracy: 0.8000\n",
            "Epoch 10/100\n",
            "3/3 [==============================] - 0s 85ms/step - loss: 0.4649 - accuracy: 0.8052 - val_loss: 0.5037 - val_accuracy: 0.8000\n",
            "Epoch 11/100\n",
            "3/3 [==============================] - 0s 90ms/step - loss: 0.5243 - accuracy: 0.7403 - val_loss: 0.4938 - val_accuracy: 0.8000\n",
            "Epoch 12/100\n",
            "3/3 [==============================] - 0s 84ms/step - loss: 0.4917 - accuracy: 0.7532 - val_loss: 0.4855 - val_accuracy: 0.8000\n",
            "Epoch 13/100\n",
            "3/3 [==============================] - 0s 68ms/step - loss: 0.4329 - accuracy: 0.8182 - val_loss: 0.4787 - val_accuracy: 0.8000\n",
            "Epoch 14/100\n",
            "3/3 [==============================] - 0s 77ms/step - loss: 0.4536 - accuracy: 0.8182 - val_loss: 0.4731 - val_accuracy: 0.8000\n",
            "Epoch 15/100\n",
            "3/3 [==============================] - 0s 84ms/step - loss: 0.4486 - accuracy: 0.7662 - val_loss: 0.4674 - val_accuracy: 0.8000\n",
            "Epoch 16/100\n",
            "3/3 [==============================] - 0s 45ms/step - loss: 0.4650 - accuracy: 0.8182 - val_loss: 0.4613 - val_accuracy: 0.8000\n",
            "Epoch 17/100\n",
            "3/3 [==============================] - 0s 37ms/step - loss: 0.4689 - accuracy: 0.7662 - val_loss: 0.4554 - val_accuracy: 0.8000\n",
            "Epoch 18/100\n",
            "3/3 [==============================] - 0s 40ms/step - loss: 0.4417 - accuracy: 0.7922 - val_loss: 0.4502 - val_accuracy: 0.8000\n",
            "Epoch 19/100\n",
            "3/3 [==============================] - 0s 38ms/step - loss: 0.4408 - accuracy: 0.7922 - val_loss: 0.4453 - val_accuracy: 0.8000\n",
            "Epoch 20/100\n",
            "3/3 [==============================] - 0s 55ms/step - loss: 0.4265 - accuracy: 0.8442 - val_loss: 0.4401 - val_accuracy: 0.8000\n",
            "Epoch 21/100\n",
            "3/3 [==============================] - 0s 39ms/step - loss: 0.4006 - accuracy: 0.8052 - val_loss: 0.4352 - val_accuracy: 0.8000\n",
            "Epoch 22/100\n",
            "3/3 [==============================] - 0s 38ms/step - loss: 0.4031 - accuracy: 0.8182 - val_loss: 0.4306 - val_accuracy: 0.8000\n",
            "Epoch 23/100\n",
            "3/3 [==============================] - 0s 59ms/step - loss: 0.3822 - accuracy: 0.8442 - val_loss: 0.4262 - val_accuracy: 0.8000\n",
            "Epoch 24/100\n",
            "3/3 [==============================] - 0s 28ms/step - loss: 0.4046 - accuracy: 0.8052 - val_loss: 0.4220 - val_accuracy: 0.8000\n",
            "Epoch 25/100\n",
            "3/3 [==============================] - 0s 27ms/step - loss: 0.3824 - accuracy: 0.7922 - val_loss: 0.4178 - val_accuracy: 0.8000\n",
            "Epoch 26/100\n",
            "3/3 [==============================] - 0s 27ms/step - loss: 0.3555 - accuracy: 0.8701 - val_loss: 0.4137 - val_accuracy: 0.8000\n",
            "Epoch 27/100\n",
            "3/3 [==============================] - 0s 19ms/step - loss: 0.4113 - accuracy: 0.8442 - val_loss: 0.4097 - val_accuracy: 0.8000\n",
            "Epoch 28/100\n",
            "3/3 [==============================] - 0s 19ms/step - loss: 0.3705 - accuracy: 0.8571 - val_loss: 0.4066 - val_accuracy: 0.8000\n",
            "Epoch 29/100\n",
            "3/3 [==============================] - 0s 26ms/step - loss: 0.3407 - accuracy: 0.8571 - val_loss: 0.4036 - val_accuracy: 0.8000\n",
            "Epoch 30/100\n",
            "3/3 [==============================] - 0s 28ms/step - loss: 0.3941 - accuracy: 0.8312 - val_loss: 0.4014 - val_accuracy: 0.8000\n",
            "Epoch 31/100\n",
            "3/3 [==============================] - 0s 28ms/step - loss: 0.3631 - accuracy: 0.8701 - val_loss: 0.3990 - val_accuracy: 0.8000\n",
            "Epoch 32/100\n",
            "3/3 [==============================] - 0s 24ms/step - loss: 0.3611 - accuracy: 0.8442 - val_loss: 0.3965 - val_accuracy: 0.8000\n",
            "Epoch 33/100\n",
            "3/3 [==============================] - 0s 19ms/step - loss: 0.3452 - accuracy: 0.8701 - val_loss: 0.3935 - val_accuracy: 0.8000\n",
            "Epoch 34/100\n",
            "3/3 [==============================] - 0s 28ms/step - loss: 0.3701 - accuracy: 0.8571 - val_loss: 0.3915 - val_accuracy: 0.8000\n",
            "Epoch 35/100\n",
            "3/3 [==============================] - 0s 22ms/step - loss: 0.3457 - accuracy: 0.8442 - val_loss: 0.3892 - val_accuracy: 0.8500\n",
            "Epoch 36/100\n",
            "3/3 [==============================] - 0s 22ms/step - loss: 0.3812 - accuracy: 0.8442 - val_loss: 0.3862 - val_accuracy: 0.8500\n",
            "Epoch 37/100\n",
            "3/3 [==============================] - 0s 20ms/step - loss: 0.3289 - accuracy: 0.8442 - val_loss: 0.3840 - val_accuracy: 0.8500\n",
            "Epoch 38/100\n",
            "3/3 [==============================] - 0s 22ms/step - loss: 0.3302 - accuracy: 0.8442 - val_loss: 0.3818 - val_accuracy: 0.8500\n",
            "Epoch 39/100\n",
            "3/3 [==============================] - 0s 19ms/step - loss: 0.3065 - accuracy: 0.9221 - val_loss: 0.3798 - val_accuracy: 0.8500\n",
            "Epoch 40/100\n",
            "3/3 [==============================] - 0s 27ms/step - loss: 0.3373 - accuracy: 0.8701 - val_loss: 0.3782 - val_accuracy: 0.8500\n",
            "Epoch 41/100\n",
            "3/3 [==============================] - 0s 21ms/step - loss: 0.3389 - accuracy: 0.8442 - val_loss: 0.3763 - val_accuracy: 0.8500\n",
            "Epoch 42/100\n",
            "3/3 [==============================] - 0s 19ms/step - loss: 0.3755 - accuracy: 0.8701 - val_loss: 0.3748 - val_accuracy: 0.8500\n",
            "Epoch 43/100\n",
            "3/3 [==============================] - 0s 18ms/step - loss: 0.3215 - accuracy: 0.8571 - val_loss: 0.3726 - val_accuracy: 0.8500\n",
            "Epoch 44/100\n",
            "3/3 [==============================] - 0s 20ms/step - loss: 0.3264 - accuracy: 0.8701 - val_loss: 0.3702 - val_accuracy: 0.8500\n",
            "Epoch 45/100\n",
            "3/3 [==============================] - 0s 22ms/step - loss: 0.3291 - accuracy: 0.8571 - val_loss: 0.3675 - val_accuracy: 0.9000\n",
            "Epoch 46/100\n",
            "3/3 [==============================] - 0s 29ms/step - loss: 0.3083 - accuracy: 0.9091 - val_loss: 0.3656 - val_accuracy: 0.9000\n",
            "Epoch 47/100\n",
            "3/3 [==============================] - 0s 22ms/step - loss: 0.2699 - accuracy: 0.9221 - val_loss: 0.3638 - val_accuracy: 0.9000\n",
            "Epoch 48/100\n",
            "3/3 [==============================] - 0s 29ms/step - loss: 0.2887 - accuracy: 0.8961 - val_loss: 0.3623 - val_accuracy: 0.9000\n",
            "Epoch 49/100\n",
            "3/3 [==============================] - 0s 27ms/step - loss: 0.3317 - accuracy: 0.8571 - val_loss: 0.3600 - val_accuracy: 0.9000\n",
            "Epoch 50/100\n",
            "3/3 [==============================] - 0s 19ms/step - loss: 0.3047 - accuracy: 0.8701 - val_loss: 0.3576 - val_accuracy: 0.9000\n",
            "Epoch 51/100\n",
            "3/3 [==============================] - 0s 20ms/step - loss: 0.3296 - accuracy: 0.8701 - val_loss: 0.3557 - val_accuracy: 0.9000\n",
            "Epoch 52/100\n",
            "3/3 [==============================] - 0s 29ms/step - loss: 0.2986 - accuracy: 0.8571 - val_loss: 0.3541 - val_accuracy: 0.9000\n",
            "Epoch 53/100\n",
            "3/3 [==============================] - 0s 27ms/step - loss: 0.2943 - accuracy: 0.9091 - val_loss: 0.3526 - val_accuracy: 0.9000\n",
            "Epoch 54/100\n",
            "3/3 [==============================] - 0s 20ms/step - loss: 0.2814 - accuracy: 0.9221 - val_loss: 0.3514 - val_accuracy: 0.9000\n",
            "Epoch 55/100\n",
            "3/3 [==============================] - 0s 19ms/step - loss: 0.2889 - accuracy: 0.9221 - val_loss: 0.3500 - val_accuracy: 0.9000\n",
            "Epoch 56/100\n",
            "3/3 [==============================] - 0s 30ms/step - loss: 0.2758 - accuracy: 0.8571 - val_loss: 0.3487 - val_accuracy: 0.8500\n",
            "Epoch 57/100\n",
            "3/3 [==============================] - 0s 20ms/step - loss: 0.2587 - accuracy: 0.9221 - val_loss: 0.3471 - val_accuracy: 0.8500\n",
            "Epoch 58/100\n",
            "3/3 [==============================] - 0s 19ms/step - loss: 0.2769 - accuracy: 0.8961 - val_loss: 0.3461 - val_accuracy: 0.8500\n",
            "Epoch 59/100\n",
            "3/3 [==============================] - 0s 18ms/step - loss: 0.3084 - accuracy: 0.8961 - val_loss: 0.3448 - val_accuracy: 0.8000\n",
            "Epoch 60/100\n",
            "3/3 [==============================] - 0s 27ms/step - loss: 0.2940 - accuracy: 0.8961 - val_loss: 0.3436 - val_accuracy: 0.8000\n",
            "Epoch 61/100\n",
            "3/3 [==============================] - 0s 27ms/step - loss: 0.2611 - accuracy: 0.9091 - val_loss: 0.3423 - val_accuracy: 0.8000\n",
            "Epoch 62/100\n",
            "3/3 [==============================] - 0s 23ms/step - loss: 0.2769 - accuracy: 0.9091 - val_loss: 0.3410 - val_accuracy: 0.8000\n",
            "Epoch 63/100\n",
            "3/3 [==============================] - 0s 19ms/step - loss: 0.2844 - accuracy: 0.9221 - val_loss: 0.3398 - val_accuracy: 0.8000\n",
            "Epoch 64/100\n",
            "3/3 [==============================] - 0s 35ms/step - loss: 0.2752 - accuracy: 0.8961 - val_loss: 0.3381 - val_accuracy: 0.8000\n",
            "Epoch 65/100\n",
            "3/3 [==============================] - 0s 27ms/step - loss: 0.2352 - accuracy: 0.9091 - val_loss: 0.3369 - val_accuracy: 0.8000\n",
            "Epoch 66/100\n",
            "3/3 [==============================] - 0s 29ms/step - loss: 0.2286 - accuracy: 0.9221 - val_loss: 0.3355 - val_accuracy: 0.8000\n",
            "Epoch 67/100\n",
            "3/3 [==============================] - 0s 19ms/step - loss: 0.2479 - accuracy: 0.9221 - val_loss: 0.3345 - val_accuracy: 0.8000\n",
            "Epoch 68/100\n",
            "3/3 [==============================] - 0s 19ms/step - loss: 0.2420 - accuracy: 0.9351 - val_loss: 0.3326 - val_accuracy: 0.8000\n",
            "Epoch 69/100\n",
            "3/3 [==============================] - 0s 19ms/step - loss: 0.2561 - accuracy: 0.8961 - val_loss: 0.3304 - val_accuracy: 0.8000\n",
            "Epoch 70/100\n",
            "3/3 [==============================] - 0s 19ms/step - loss: 0.2559 - accuracy: 0.9221 - val_loss: 0.3279 - val_accuracy: 0.8000\n",
            "Epoch 71/100\n",
            "3/3 [==============================] - 0s 23ms/step - loss: 0.2558 - accuracy: 0.9091 - val_loss: 0.3247 - val_accuracy: 0.8000\n",
            "Epoch 72/100\n",
            "3/3 [==============================] - 0s 19ms/step - loss: 0.2506 - accuracy: 0.9481 - val_loss: 0.3220 - val_accuracy: 0.8000\n",
            "Epoch 73/100\n",
            "3/3 [==============================] - 0s 27ms/step - loss: 0.2202 - accuracy: 0.9351 - val_loss: 0.3194 - val_accuracy: 0.8500\n",
            "Epoch 74/100\n",
            "3/3 [==============================] - 0s 18ms/step - loss: 0.2369 - accuracy: 0.9351 - val_loss: 0.3171 - val_accuracy: 0.8500\n",
            "Epoch 75/100\n",
            "3/3 [==============================] - 0s 21ms/step - loss: 0.2130 - accuracy: 0.9610 - val_loss: 0.3150 - val_accuracy: 0.8500\n",
            "Epoch 76/100\n",
            "3/3 [==============================] - 0s 18ms/step - loss: 0.2271 - accuracy: 0.9481 - val_loss: 0.3126 - val_accuracy: 0.8500\n",
            "Epoch 77/100\n",
            "3/3 [==============================] - 0s 18ms/step - loss: 0.2556 - accuracy: 0.8961 - val_loss: 0.3112 - val_accuracy: 0.8500\n",
            "Epoch 78/100\n",
            "3/3 [==============================] - 0s 18ms/step - loss: 0.2236 - accuracy: 0.9481 - val_loss: 0.3106 - val_accuracy: 0.8500\n",
            "Epoch 79/100\n",
            "3/3 [==============================] - 0s 21ms/step - loss: 0.2258 - accuracy: 0.9221 - val_loss: 0.3101 - val_accuracy: 0.9000\n",
            "Epoch 80/100\n",
            "3/3 [==============================] - 0s 19ms/step - loss: 0.2079 - accuracy: 0.9221 - val_loss: 0.3101 - val_accuracy: 0.9000\n",
            "Epoch 81/100\n",
            "3/3 [==============================] - 0s 66ms/step - loss: 0.2341 - accuracy: 0.9221 - val_loss: 0.3094 - val_accuracy: 0.9000\n",
            "Epoch 82/100\n",
            "3/3 [==============================] - 0s 65ms/step - loss: 0.2479 - accuracy: 0.9091 - val_loss: 0.3087 - val_accuracy: 0.9000\n",
            "Epoch 83/100\n",
            "3/3 [==============================] - 0s 45ms/step - loss: 0.2232 - accuracy: 0.9481 - val_loss: 0.3085 - val_accuracy: 0.9000\n",
            "Epoch 84/100\n",
            "3/3 [==============================] - 0s 35ms/step - loss: 0.1984 - accuracy: 0.9481 - val_loss: 0.3072 - val_accuracy: 0.9000\n",
            "Epoch 85/100\n",
            "3/3 [==============================] - 0s 42ms/step - loss: 0.2026 - accuracy: 0.9481 - val_loss: 0.3051 - val_accuracy: 0.9000\n",
            "Epoch 86/100\n",
            "3/3 [==============================] - 0s 68ms/step - loss: 0.2311 - accuracy: 0.9091 - val_loss: 0.3037 - val_accuracy: 0.9000\n",
            "Epoch 87/100\n",
            "3/3 [==============================] - 0s 28ms/step - loss: 0.2096 - accuracy: 0.9610 - val_loss: 0.3022 - val_accuracy: 0.9000\n",
            "Epoch 88/100\n",
            "3/3 [==============================] - 0s 41ms/step - loss: 0.1982 - accuracy: 0.9610 - val_loss: 0.3009 - val_accuracy: 0.9000\n",
            "Epoch 89/100\n",
            "3/3 [==============================] - 0s 40ms/step - loss: 0.2055 - accuracy: 0.9091 - val_loss: 0.2994 - val_accuracy: 0.9000\n",
            "Epoch 90/100\n",
            "3/3 [==============================] - 0s 44ms/step - loss: 0.1886 - accuracy: 0.9610 - val_loss: 0.2983 - val_accuracy: 0.9000\n",
            "Epoch 91/100\n",
            "3/3 [==============================] - 0s 50ms/step - loss: 0.1993 - accuracy: 0.9481 - val_loss: 0.2979 - val_accuracy: 0.9000\n",
            "Epoch 92/100\n",
            "3/3 [==============================] - 0s 36ms/step - loss: 0.1972 - accuracy: 0.9481 - val_loss: 0.2979 - val_accuracy: 0.9000\n",
            "Epoch 93/100\n",
            "3/3 [==============================] - 0s 41ms/step - loss: 0.2098 - accuracy: 0.9481 - val_loss: 0.2990 - val_accuracy: 0.9000\n",
            "Epoch 94/100\n",
            "3/3 [==============================] - 0s 47ms/step - loss: 0.1801 - accuracy: 0.9481 - val_loss: 0.2997 - val_accuracy: 0.9000\n",
            "Epoch 95/100\n",
            "3/3 [==============================] - 0s 35ms/step - loss: 0.2062 - accuracy: 0.9610 - val_loss: 0.3001 - val_accuracy: 0.9000\n",
            "Epoch 96/100\n",
            "3/3 [==============================] - 0s 51ms/step - loss: 0.2040 - accuracy: 0.9221 - val_loss: 0.3005 - val_accuracy: 0.9000\n",
            "Epoch 97/100\n",
            "3/3 [==============================] - 0s 44ms/step - loss: 0.1978 - accuracy: 0.9351 - val_loss: 0.3009 - val_accuracy: 0.9000\n",
            "Epoch 98/100\n",
            "3/3 [==============================] - 0s 19ms/step - loss: 0.1844 - accuracy: 0.9870 - val_loss: 0.3011 - val_accuracy: 0.9000\n",
            "Epoch 99/100\n",
            "3/3 [==============================] - 0s 18ms/step - loss: 0.1600 - accuracy: 0.9740 - val_loss: 0.3008 - val_accuracy: 0.9000\n",
            "Epoch 100/100\n",
            "3/3 [==============================] - 0s 18ms/step - loss: 0.2205 - accuracy: 0.9221 - val_loss: 0.3010 - val_accuracy: 0.9000\n"
          ]
        }
      ],
      "source": [
        "# Train the model\n",
        "history = model.fit(X_train, y_train, epochs=100, batch_size=32, validation_split=0.2)"
      ]
    },
    {
      "cell_type": "code",
      "execution_count": null,
      "id": "e2b2027b",
      "metadata": {
        "ExecuteTime": {
          "end_time": "2023-04-17T22:44:45.714680Z",
          "start_time": "2023-04-17T22:44:45.106802Z"
        },
        "colab": {
          "base_uri": "https://localhost:8080/",
          "height": 472
        },
        "id": "e2b2027b",
        "outputId": "ef87611d-e882-4c09-f069-ef42ca3c4ee9"
      },
      "outputs": [
        {
          "output_type": "display_data",
          "data": {
            "text/plain": [
              "<Figure size 640x480 with 1 Axes>"
            ],
            "image/png": "[encoded data removed]"
          },
          "metadata": {}
        }
      ],
      "source": [
        "# Visualize the training history to see whether you're overfitting.\n",
        "plt.plot(history.history['accuracy'])\n",
        "plt.plot(history.history['val_accuracy'])\n",
        "plt.title('Model accuracy')\n",
        "plt.ylabel('accuracy')\n",
        "plt.xlabel('epoch')\n",
        "plt.legend(['TRAIN', 'VALIDATION'], loc='lower right')\n",
        "plt.show()"
      ]
    },
    {
      "cell_type": "code",
      "execution_count": null,
      "id": "ca7e5633",
      "metadata": {
        "ExecuteTime": {
          "end_time": "2023-04-17T22:44:45.944249Z",
          "start_time": "2023-04-17T22:44:45.720825Z"
        },
        "colab": {
          "base_uri": "https://localhost:8080/"
        },
        "id": "ca7e5633",
        "outputId": "bedf492c-626f-43ec-9e06-226d39cd0c66"
      },
      "outputs": [
        {
          "output_type": "stream",
          "name": "stdout",
          "text": [
            "1/1 [==============================] - 0s 48ms/step - loss: 0.4350 - accuracy: 0.8400\n",
            "Test loss: 0.43504706025123596\n",
            "Test accuracy: 0.8399999737739563\n"
          ]
        }
      ],
      "source": [
        "# Evaluate the model\n",
        "loss, accuracy = model.evaluate(X_test, y_test)\n",
        "print('Test loss:', loss)\n",
        "print('Test accuracy:', accuracy)"
      ]
    },
    {
      "cell_type": "code",
      "execution_count": null,
      "id": "ba509d92",
      "metadata": {
        "id": "ba509d92"
      },
      "outputs": [],
      "source": []
    },
    {
      "cell_type": "code",
      "execution_count": null,
      "id": "75f895c3",
      "metadata": {
        "id": "75f895c3"
      },
      "outputs": [],
      "source": []
    }
  ],
  "metadata": {
    "kernelspec": {
      "display_name": "Python 3 (ipykernel)",
      "language": "python",
      "name": "python3"
    },
    "language_info": {
      "codemirror_mode": {
        "name": "ipython",
        "version": 3
      },
      "file_extension": ".py",
      "mimetype": "text/x-python",
      "name": "python",
      "nbconvert_exporter": "python",
      "pygments_lexer": "ipython3",
      "version": "3.10.9"
    },
    "colab": {
      "provenance": []
    }
  },
  "nbformat": 4,
  "nbformat_minor": 5
}